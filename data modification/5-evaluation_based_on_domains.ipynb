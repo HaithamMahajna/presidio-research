{
 "cells": [
  {
   "cell_type": "code",
   "execution_count": null,
   "metadata": {},
   "outputs": [],
   "source": [
    "#install dataset if it's not \n",
    "\n",
    "#!pip install datasets\n",
    "\n",
    "from datasets import load_dataset\n",
    "\n",
    "dataset = load_dataset(\"gretelai/gretel-pii-masking-en-v1\")\n"
   ]
  },
  {
   "cell_type": "code",
   "execution_count": 34,
   "metadata": {},
   "outputs": [
    {
     "data": {
      "application/vnd.jupyter.widget-view+json": {
       "model_id": "df2c654029c74600a2bbcbc3b2d2abb9",
       "version_major": 2,
       "version_minor": 0
      },
      "text/plain": [
       "Filter:   0%|          | 0/50000 [00:00<?, ? examples/s]"
      ]
     },
     "metadata": {},
     "output_type": "display_data"
    },
    {
     "data": {
      "application/vnd.jupyter.widget-view+json": {
       "model_id": "699bb5ebc74543deb73ac97d09942cc5",
       "version_major": 2,
       "version_minor": 0
      },
      "text/plain": [
       "Filter:   0%|          | 0/50000 [00:00<?, ? examples/s]"
      ]
     },
     "metadata": {},
     "output_type": "display_data"
    },
    {
     "data": {
      "application/vnd.jupyter.widget-view+json": {
       "model_id": "c8bb7d35e82e48a7a2d59f2c7efef53d",
       "version_major": 2,
       "version_minor": 0
      },
      "text/plain": [
       "Filter:   0%|          | 0/50000 [00:00<?, ? examples/s]"
      ]
     },
     "metadata": {},
     "output_type": "display_data"
    },
    {
     "data": {
      "application/vnd.jupyter.widget-view+json": {
       "model_id": "feb5fc0e70594f659d4042fee1776ece",
       "version_major": 2,
       "version_minor": 0
      },
      "text/plain": [
       "Filter:   0%|          | 0/50000 [00:00<?, ? examples/s]"
      ]
     },
     "metadata": {},
     "output_type": "display_data"
    },
    {
     "data": {
      "application/vnd.jupyter.widget-view+json": {
       "model_id": "4de822db760d4dcbacf52c6c5bcc24f6",
       "version_major": 2,
       "version_minor": 0
      },
      "text/plain": [
       "Filter:   0%|          | 0/50000 [00:00<?, ? examples/s]"
      ]
     },
     "metadata": {},
     "output_type": "display_data"
    },
    {
     "data": {
      "application/vnd.jupyter.widget-view+json": {
       "model_id": "d7196573af674657a0dee6d3db0a4c2d",
       "version_major": 2,
       "version_minor": 0
      },
      "text/plain": [
       "Filter:   0%|          | 0/50000 [00:00<?, ? examples/s]"
      ]
     },
     "metadata": {},
     "output_type": "display_data"
    },
    {
     "data": {
      "application/vnd.jupyter.widget-view+json": {
       "model_id": "a90a511b8a2544d886bae3a2ec9c24eb",
       "version_major": 2,
       "version_minor": 0
      },
      "text/plain": [
       "Filter:   0%|          | 0/50000 [00:00<?, ? examples/s]"
      ]
     },
     "metadata": {},
     "output_type": "display_data"
    },
    {
     "data": {
      "application/vnd.jupyter.widget-view+json": {
       "model_id": "e8d8afe85fcb48d180eac97f0e4631e8",
       "version_major": 2,
       "version_minor": 0
      },
      "text/plain": [
       "Filter:   0%|          | 0/50000 [00:00<?, ? examples/s]"
      ]
     },
     "metadata": {},
     "output_type": "display_data"
    },
    {
     "data": {
      "application/vnd.jupyter.widget-view+json": {
       "model_id": "07acac3efc474451861943bf29b1a863",
       "version_major": 2,
       "version_minor": 0
      },
      "text/plain": [
       "Filter:   0%|          | 0/50000 [00:00<?, ? examples/s]"
      ]
     },
     "metadata": {},
     "output_type": "display_data"
    },
    {
     "data": {
      "application/vnd.jupyter.widget-view+json": {
       "model_id": "7a850dcad06e4357b86292574688d67f",
       "version_major": 2,
       "version_minor": 0
      },
      "text/plain": [
       "Filter:   0%|          | 0/50000 [00:00<?, ? examples/s]"
      ]
     },
     "metadata": {},
     "output_type": "display_data"
    },
    {
     "data": {
      "application/vnd.jupyter.widget-view+json": {
       "model_id": "115806f5eef24d08b90fae72ed76e0d6",
       "version_major": 2,
       "version_minor": 0
      },
      "text/plain": [
       "Filter:   0%|          | 0/50000 [00:00<?, ? examples/s]"
      ]
     },
     "metadata": {},
     "output_type": "display_data"
    },
    {
     "data": {
      "application/vnd.jupyter.widget-view+json": {
       "model_id": "690a95e9779e45799ba549b7dd289eb7",
       "version_major": 2,
       "version_minor": 0
      },
      "text/plain": [
       "Filter:   0%|          | 0/50000 [00:00<?, ? examples/s]"
      ]
     },
     "metadata": {},
     "output_type": "display_data"
    },
    {
     "data": {
      "application/vnd.jupyter.widget-view+json": {
       "model_id": "2d556a76f760465db0b2465dfdc6bfdb",
       "version_major": 2,
       "version_minor": 0
      },
      "text/plain": [
       "Filter:   0%|          | 0/50000 [00:00<?, ? examples/s]"
      ]
     },
     "metadata": {},
     "output_type": "display_data"
    },
    {
     "data": {
      "application/vnd.jupyter.widget-view+json": {
       "model_id": "145266707c4f410896fded4369aace63",
       "version_major": 2,
       "version_minor": 0
      },
      "text/plain": [
       "Filter:   0%|          | 0/50000 [00:00<?, ? examples/s]"
      ]
     },
     "metadata": {},
     "output_type": "display_data"
    },
    {
     "data": {
      "application/vnd.jupyter.widget-view+json": {
       "model_id": "8d3978147b3f4aa7b3a1fd0047198176",
       "version_major": 2,
       "version_minor": 0
      },
      "text/plain": [
       "Filter:   0%|          | 0/50000 [00:00<?, ? examples/s]"
      ]
     },
     "metadata": {},
     "output_type": "display_data"
    },
    {
     "data": {
      "application/vnd.jupyter.widget-view+json": {
       "model_id": "32808af79a20403cbdab15f4235dce5f",
       "version_major": 2,
       "version_minor": 0
      },
      "text/plain": [
       "Filter:   0%|          | 0/50000 [00:00<?, ? examples/s]"
      ]
     },
     "metadata": {},
     "output_type": "display_data"
    },
    {
     "data": {
      "application/vnd.jupyter.widget-view+json": {
       "model_id": "1ebce7cfdd994b9882774ce95027f9e8",
       "version_major": 2,
       "version_minor": 0
      },
      "text/plain": [
       "Filter:   0%|          | 0/50000 [00:00<?, ? examples/s]"
      ]
     },
     "metadata": {},
     "output_type": "display_data"
    },
    {
     "data": {
      "application/vnd.jupyter.widget-view+json": {
       "model_id": "44ddddcef2bb4131bb151ef13f0b2903",
       "version_major": 2,
       "version_minor": 0
      },
      "text/plain": [
       "Filter:   0%|          | 0/50000 [00:00<?, ? examples/s]"
      ]
     },
     "metadata": {},
     "output_type": "display_data"
    },
    {
     "data": {
      "application/vnd.jupyter.widget-view+json": {
       "model_id": "b5a73533994f4db6a5a178118990db45",
       "version_major": 2,
       "version_minor": 0
      },
      "text/plain": [
       "Filter:   0%|          | 0/50000 [00:00<?, ? examples/s]"
      ]
     },
     "metadata": {},
     "output_type": "display_data"
    },
    {
     "data": {
      "application/vnd.jupyter.widget-view+json": {
       "model_id": "306c3c6fb63449cba97d087c1bff746a",
       "version_major": 2,
       "version_minor": 0
      },
      "text/plain": [
       "Filter:   0%|          | 0/50000 [00:00<?, ? examples/s]"
      ]
     },
     "metadata": {},
     "output_type": "display_data"
    },
    {
     "data": {
      "application/vnd.jupyter.widget-view+json": {
       "model_id": "baa6f220fb3a4c16932095a2b28f6aae",
       "version_major": 2,
       "version_minor": 0
      },
      "text/plain": [
       "Filter:   0%|          | 0/50000 [00:00<?, ? examples/s]"
      ]
     },
     "metadata": {},
     "output_type": "display_data"
    },
    {
     "data": {
      "application/vnd.jupyter.widget-view+json": {
       "model_id": "9b29315b69a249fabe418c61efd7ad93",
       "version_major": 2,
       "version_minor": 0
      },
      "text/plain": [
       "Filter:   0%|          | 0/50000 [00:00<?, ? examples/s]"
      ]
     },
     "metadata": {},
     "output_type": "display_data"
    },
    {
     "data": {
      "application/vnd.jupyter.widget-view+json": {
       "model_id": "f9d943f8acd448dbb8ef49de37b244e1",
       "version_major": 2,
       "version_minor": 0
      },
      "text/plain": [
       "Filter:   0%|          | 0/50000 [00:00<?, ? examples/s]"
      ]
     },
     "metadata": {},
     "output_type": "display_data"
    },
    {
     "data": {
      "application/vnd.jupyter.widget-view+json": {
       "model_id": "c93c24e90d3446b0b1da5ff81229689a",
       "version_major": 2,
       "version_minor": 0
      },
      "text/plain": [
       "Filter:   0%|          | 0/50000 [00:00<?, ? examples/s]"
      ]
     },
     "metadata": {},
     "output_type": "display_data"
    },
    {
     "data": {
      "application/vnd.jupyter.widget-view+json": {
       "model_id": "a47e7d61b8104e09923f681d0cdb8213",
       "version_major": 2,
       "version_minor": 0
      },
      "text/plain": [
       "Filter:   0%|          | 0/50000 [00:00<?, ? examples/s]"
      ]
     },
     "metadata": {},
     "output_type": "display_data"
    },
    {
     "data": {
      "application/vnd.jupyter.widget-view+json": {
       "model_id": "d3ee3b516ec24391ae457c2eb6cf5983",
       "version_major": 2,
       "version_minor": 0
      },
      "text/plain": [
       "Filter:   0%|          | 0/50000 [00:00<?, ? examples/s]"
      ]
     },
     "metadata": {},
     "output_type": "display_data"
    },
    {
     "data": {
      "application/vnd.jupyter.widget-view+json": {
       "model_id": "a62310a41ac449b49e521641388de8f0",
       "version_major": 2,
       "version_minor": 0
      },
      "text/plain": [
       "Filter:   0%|          | 0/50000 [00:00<?, ? examples/s]"
      ]
     },
     "metadata": {},
     "output_type": "display_data"
    },
    {
     "data": {
      "application/vnd.jupyter.widget-view+json": {
       "model_id": "573e3d27096f47419f7f703fe7ca1d3f",
       "version_major": 2,
       "version_minor": 0
      },
      "text/plain": [
       "Filter:   0%|          | 0/50000 [00:00<?, ? examples/s]"
      ]
     },
     "metadata": {},
     "output_type": "display_data"
    },
    {
     "data": {
      "application/vnd.jupyter.widget-view+json": {
       "model_id": "5d60cbc2bc174aa19ac1dc16609f0446",
       "version_major": 2,
       "version_minor": 0
      },
      "text/plain": [
       "Filter:   0%|          | 0/50000 [00:00<?, ? examples/s]"
      ]
     },
     "metadata": {},
     "output_type": "display_data"
    },
    {
     "data": {
      "application/vnd.jupyter.widget-view+json": {
       "model_id": "28a348943bf3420eb86141007ab72107",
       "version_major": 2,
       "version_minor": 0
      },
      "text/plain": [
       "Filter:   0%|          | 0/50000 [00:00<?, ? examples/s]"
      ]
     },
     "metadata": {},
     "output_type": "display_data"
    },
    {
     "data": {
      "application/vnd.jupyter.widget-view+json": {
       "model_id": "f829093173274d308433d0fef6ca8182",
       "version_major": 2,
       "version_minor": 0
      },
      "text/plain": [
       "Filter:   0%|          | 0/50000 [00:00<?, ? examples/s]"
      ]
     },
     "metadata": {},
     "output_type": "display_data"
    },
    {
     "data": {
      "application/vnd.jupyter.widget-view+json": {
       "model_id": "3a6c351368fb42bfb6723e190d146a62",
       "version_major": 2,
       "version_minor": 0
      },
      "text/plain": [
       "Filter:   0%|          | 0/50000 [00:00<?, ? examples/s]"
      ]
     },
     "metadata": {},
     "output_type": "display_data"
    },
    {
     "data": {
      "application/vnd.jupyter.widget-view+json": {
       "model_id": "0d30460afbea49a6b7f247dc695706f7",
       "version_major": 2,
       "version_minor": 0
      },
      "text/plain": [
       "Filter:   0%|          | 0/50000 [00:00<?, ? examples/s]"
      ]
     },
     "metadata": {},
     "output_type": "display_data"
    },
    {
     "data": {
      "application/vnd.jupyter.widget-view+json": {
       "model_id": "47f13b70221343499933e484f82bde88",
       "version_major": 2,
       "version_minor": 0
      },
      "text/plain": [
       "Filter:   0%|          | 0/50000 [00:00<?, ? examples/s]"
      ]
     },
     "metadata": {},
     "output_type": "display_data"
    },
    {
     "data": {
      "application/vnd.jupyter.widget-view+json": {
       "model_id": "57ea38b8fcc6462cb18b84112ae2c245",
       "version_major": 2,
       "version_minor": 0
      },
      "text/plain": [
       "Filter:   0%|          | 0/50000 [00:00<?, ? examples/s]"
      ]
     },
     "metadata": {},
     "output_type": "display_data"
    },
    {
     "data": {
      "application/vnd.jupyter.widget-view+json": {
       "model_id": "768cbd2b37f1467d9708ee32019f947e",
       "version_major": 2,
       "version_minor": 0
      },
      "text/plain": [
       "Filter:   0%|          | 0/50000 [00:00<?, ? examples/s]"
      ]
     },
     "metadata": {},
     "output_type": "display_data"
    },
    {
     "data": {
      "application/vnd.jupyter.widget-view+json": {
       "model_id": "e31c3aac89744089868c7006ef83089d",
       "version_major": 2,
       "version_minor": 0
      },
      "text/plain": [
       "Filter:   0%|          | 0/50000 [00:00<?, ? examples/s]"
      ]
     },
     "metadata": {},
     "output_type": "display_data"
    },
    {
     "data": {
      "application/vnd.jupyter.widget-view+json": {
       "model_id": "6fcd17c5195c4274bd846472cb01757b",
       "version_major": 2,
       "version_minor": 0
      },
      "text/plain": [
       "Filter:   0%|          | 0/50000 [00:00<?, ? examples/s]"
      ]
     },
     "metadata": {},
     "output_type": "display_data"
    },
    {
     "data": {
      "application/vnd.jupyter.widget-view+json": {
       "model_id": "faf2ebce5d284f1a8476406c7289fb8b",
       "version_major": 2,
       "version_minor": 0
      },
      "text/plain": [
       "Filter:   0%|          | 0/50000 [00:00<?, ? examples/s]"
      ]
     },
     "metadata": {},
     "output_type": "display_data"
    },
    {
     "data": {
      "application/vnd.jupyter.widget-view+json": {
       "model_id": "efc669bf70c9421f9731c53138926e0a",
       "version_major": 2,
       "version_minor": 0
      },
      "text/plain": [
       "Filter:   0%|          | 0/50000 [00:00<?, ? examples/s]"
      ]
     },
     "metadata": {},
     "output_type": "display_data"
    },
    {
     "data": {
      "application/vnd.jupyter.widget-view+json": {
       "model_id": "b517b10dbdc043778983960291de900a",
       "version_major": 2,
       "version_minor": 0
      },
      "text/plain": [
       "Filter:   0%|          | 0/50000 [00:00<?, ? examples/s]"
      ]
     },
     "metadata": {},
     "output_type": "display_data"
    },
    {
     "data": {
      "application/vnd.jupyter.widget-view+json": {
       "model_id": "45aa8d943033469cb9927964dfc5c202",
       "version_major": 2,
       "version_minor": 0
      },
      "text/plain": [
       "Filter:   0%|          | 0/50000 [00:00<?, ? examples/s]"
      ]
     },
     "metadata": {},
     "output_type": "display_data"
    },
    {
     "data": {
      "application/vnd.jupyter.widget-view+json": {
       "model_id": "e7f5fe35021a46e194730a09b949a500",
       "version_major": 2,
       "version_minor": 0
      },
      "text/plain": [
       "Filter:   0%|          | 0/50000 [00:00<?, ? examples/s]"
      ]
     },
     "metadata": {},
     "output_type": "display_data"
    },
    {
     "data": {
      "application/vnd.jupyter.widget-view+json": {
       "model_id": "38a244ac2f25469aa7fbd601b2968d56",
       "version_major": 2,
       "version_minor": 0
      },
      "text/plain": [
       "Filter:   0%|          | 0/50000 [00:00<?, ? examples/s]"
      ]
     },
     "metadata": {},
     "output_type": "display_data"
    },
    {
     "data": {
      "application/vnd.jupyter.widget-view+json": {
       "model_id": "9b4ac717033f433b9c0771554624dddf",
       "version_major": 2,
       "version_minor": 0
      },
      "text/plain": [
       "Filter:   0%|          | 0/50000 [00:00<?, ? examples/s]"
      ]
     },
     "metadata": {},
     "output_type": "display_data"
    },
    {
     "data": {
      "application/vnd.jupyter.widget-view+json": {
       "model_id": "eb2f46a4594c4d4a920e2c0cff44f621",
       "version_major": 2,
       "version_minor": 0
      },
      "text/plain": [
       "Filter:   0%|          | 0/50000 [00:00<?, ? examples/s]"
      ]
     },
     "metadata": {},
     "output_type": "display_data"
    },
    {
     "data": {
      "application/vnd.jupyter.widget-view+json": {
       "model_id": "f9d66b8d1f4143a99d9a946a7f51e7a8",
       "version_major": 2,
       "version_minor": 0
      },
      "text/plain": [
       "Filter:   0%|          | 0/50000 [00:00<?, ? examples/s]"
      ]
     },
     "metadata": {},
     "output_type": "display_data"
    }
   ],
   "source": [
    "domain_splits = {domain: dataset['train'].filter(lambda x: x['domain'] == domain) for domain in set(dataset['train']['domain'])}"
   ]
  },
  {
   "cell_type": "code",
   "execution_count": 82,
   "metadata": {},
   "outputs": [],
   "source": [
    "domains = []\n",
    "for domain, subset in domain_splits.items():\n",
    "    domains.append(domain)"
   ]
  },
  {
   "cell_type": "code",
   "execution_count": 83,
   "metadata": {},
   "outputs": [
    {
     "data": {
      "text/plain": [
       "['digital-certificates',\n",
       " 'agriculture-food-services',\n",
       " 'technology-software',\n",
       " 'logistics-transportation',\n",
       " 'cloud-services',\n",
       " 'public-sector',\n",
       " 'real-estate',\n",
       " 'security',\n",
       " 'energy-utilities',\n",
       " 'authentication-services',\n",
       " 'supply-chain',\n",
       " 'financial-services',\n",
       " 'manufacturing',\n",
       " 'marine',\n",
       " 'healthcare',\n",
       " 'aerospace-defense',\n",
       " 'aviation',\n",
       " 'internet-services',\n",
       " 'insurance',\n",
       " 'data-privacy',\n",
       " 'pharmaceuticals-biotechnology',\n",
       " 'digital-payments',\n",
       " 'identity-verification',\n",
       " 'biometrics',\n",
       " 'defense-security',\n",
       " 'networking',\n",
       " 'retail-consumer-goods',\n",
       " 'cybersecurity',\n",
       " 'telecommunications',\n",
       " 'transportation',\n",
       " 'code-review',\n",
       " 'human-resources',\n",
       " 'finance',\n",
       " 'banking',\n",
       " 'legal-documents',\n",
       " 'healthcare-administration',\n",
       " 'media-entertainment',\n",
       " 'information-technology',\n",
       " 'cryptography',\n",
       " 'automotive',\n",
       " 'travel-hospitality',\n",
       " 'compliance-regulation',\n",
       " 'non-profit-charity',\n",
       " 'government',\n",
       " 'e-commerce',\n",
       " 'blockchain',\n",
       " 'education']"
      ]
     },
     "execution_count": 83,
     "metadata": {},
     "output_type": "execute_result"
    }
   ],
   "source": [
    "domains"
   ]
  },
  {
   "cell_type": "code",
   "execution_count": 95,
   "metadata": {},
   "outputs": [],
   "source": [
    "data = [domain_splits[domain] for domain in domains]\n"
   ]
  },
  {
   "cell_type": "code",
   "execution_count": 96,
   "metadata": {},
   "outputs": [
    {
     "data": {
      "text/plain": [
       "[Dataset({\n",
       "     features: ['uid', 'domain', 'document_type', 'document_description', 'entities', 'text'],\n",
       "     num_rows: 1072\n",
       " }),\n",
       " Dataset({\n",
       "     features: ['uid', 'domain', 'document_type', 'document_description', 'entities', 'text'],\n",
       "     num_rows: 1121\n",
       " }),\n",
       " Dataset({\n",
       "     features: ['uid', 'domain', 'document_type', 'document_description', 'entities', 'text'],\n",
       "     num_rows: 917\n",
       " }),\n",
       " Dataset({\n",
       "     features: ['uid', 'domain', 'document_type', 'document_description', 'entities', 'text'],\n",
       "     num_rows: 1291\n",
       " }),\n",
       " Dataset({\n",
       "     features: ['uid', 'domain', 'document_type', 'document_description', 'entities', 'text'],\n",
       "     num_rows: 1065\n",
       " }),\n",
       " Dataset({\n",
       "     features: ['uid', 'domain', 'document_type', 'document_description', 'entities', 'text'],\n",
       "     num_rows: 1234\n",
       " }),\n",
       " Dataset({\n",
       "     features: ['uid', 'domain', 'document_type', 'document_description', 'entities', 'text'],\n",
       "     num_rows: 882\n",
       " }),\n",
       " Dataset({\n",
       "     features: ['uid', 'domain', 'document_type', 'document_description', 'entities', 'text'],\n",
       "     num_rows: 1155\n",
       " }),\n",
       " Dataset({\n",
       "     features: ['uid', 'domain', 'document_type', 'document_description', 'entities', 'text'],\n",
       "     num_rows: 1024\n",
       " }),\n",
       " Dataset({\n",
       "     features: ['uid', 'domain', 'document_type', 'document_description', 'entities', 'text'],\n",
       "     num_rows: 939\n",
       " }),\n",
       " Dataset({\n",
       "     features: ['uid', 'domain', 'document_type', 'document_description', 'entities', 'text'],\n",
       "     num_rows: 1206\n",
       " }),\n",
       " Dataset({\n",
       "     features: ['uid', 'domain', 'document_type', 'document_description', 'entities', 'text'],\n",
       "     num_rows: 1027\n",
       " }),\n",
       " Dataset({\n",
       "     features: ['uid', 'domain', 'document_type', 'document_description', 'entities', 'text'],\n",
       "     num_rows: 1283\n",
       " }),\n",
       " Dataset({\n",
       "     features: ['uid', 'domain', 'document_type', 'document_description', 'entities', 'text'],\n",
       "     num_rows: 1049\n",
       " }),\n",
       " Dataset({\n",
       "     features: ['uid', 'domain', 'document_type', 'document_description', 'entities', 'text'],\n",
       "     num_rows: 1207\n",
       " }),\n",
       " Dataset({\n",
       "     features: ['uid', 'domain', 'document_type', 'document_description', 'entities', 'text'],\n",
       "     num_rows: 1067\n",
       " }),\n",
       " Dataset({\n",
       "     features: ['uid', 'domain', 'document_type', 'document_description', 'entities', 'text'],\n",
       "     num_rows: 1062\n",
       " }),\n",
       " Dataset({\n",
       "     features: ['uid', 'domain', 'document_type', 'document_description', 'entities', 'text'],\n",
       "     num_rows: 1074\n",
       " }),\n",
       " Dataset({\n",
       "     features: ['uid', 'domain', 'document_type', 'document_description', 'entities', 'text'],\n",
       "     num_rows: 1087\n",
       " }),\n",
       " Dataset({\n",
       "     features: ['uid', 'domain', 'document_type', 'document_description', 'entities', 'text'],\n",
       "     num_rows: 1395\n",
       " }),\n",
       " Dataset({\n",
       "     features: ['uid', 'domain', 'document_type', 'document_description', 'entities', 'text'],\n",
       "     num_rows: 1273\n",
       " }),\n",
       " Dataset({\n",
       "     features: ['uid', 'domain', 'document_type', 'document_description', 'entities', 'text'],\n",
       "     num_rows: 947\n",
       " }),\n",
       " Dataset({\n",
       "     features: ['uid', 'domain', 'document_type', 'document_description', 'entities', 'text'],\n",
       "     num_rows: 1298\n",
       " }),\n",
       " Dataset({\n",
       "     features: ['uid', 'domain', 'document_type', 'document_description', 'entities', 'text'],\n",
       "     num_rows: 1281\n",
       " }),\n",
       " Dataset({\n",
       "     features: ['uid', 'domain', 'document_type', 'document_description', 'entities', 'text'],\n",
       "     num_rows: 1077\n",
       " }),\n",
       " Dataset({\n",
       "     features: ['uid', 'domain', 'document_type', 'document_description', 'entities', 'text'],\n",
       "     num_rows: 1097\n",
       " }),\n",
       " Dataset({\n",
       "     features: ['uid', 'domain', 'document_type', 'document_description', 'entities', 'text'],\n",
       "     num_rows: 977\n",
       " }),\n",
       " Dataset({\n",
       "     features: ['uid', 'domain', 'document_type', 'document_description', 'entities', 'text'],\n",
       "     num_rows: 927\n",
       " }),\n",
       " Dataset({\n",
       "     features: ['uid', 'domain', 'document_type', 'document_description', 'entities', 'text'],\n",
       "     num_rows: 1005\n",
       " }),\n",
       " Dataset({\n",
       "     features: ['uid', 'domain', 'document_type', 'document_description', 'entities', 'text'],\n",
       "     num_rows: 1286\n",
       " }),\n",
       " Dataset({\n",
       "     features: ['uid', 'domain', 'document_type', 'document_description', 'entities', 'text'],\n",
       "     num_rows: 659\n",
       " }),\n",
       " Dataset({\n",
       "     features: ['uid', 'domain', 'document_type', 'document_description', 'entities', 'text'],\n",
       "     num_rows: 933\n",
       " }),\n",
       " Dataset({\n",
       "     features: ['uid', 'domain', 'document_type', 'document_description', 'entities', 'text'],\n",
       "     num_rows: 1001\n",
       " }),\n",
       " Dataset({\n",
       "     features: ['uid', 'domain', 'document_type', 'document_description', 'entities', 'text'],\n",
       "     num_rows: 1013\n",
       " }),\n",
       " Dataset({\n",
       "     features: ['uid', 'domain', 'document_type', 'document_description', 'entities', 'text'],\n",
       "     num_rows: 790\n",
       " }),\n",
       " Dataset({\n",
       "     features: ['uid', 'domain', 'document_type', 'document_description', 'entities', 'text'],\n",
       "     num_rows: 1194\n",
       " }),\n",
       " Dataset({\n",
       "     features: ['uid', 'domain', 'document_type', 'document_description', 'entities', 'text'],\n",
       "     num_rows: 864\n",
       " }),\n",
       " Dataset({\n",
       "     features: ['uid', 'domain', 'document_type', 'document_description', 'entities', 'text'],\n",
       "     num_rows: 808\n",
       " }),\n",
       " Dataset({\n",
       "     features: ['uid', 'domain', 'document_type', 'document_description', 'entities', 'text'],\n",
       "     num_rows: 1197\n",
       " }),\n",
       " Dataset({\n",
       "     features: ['uid', 'domain', 'document_type', 'document_description', 'entities', 'text'],\n",
       "     num_rows: 1112\n",
       " }),\n",
       " Dataset({\n",
       "     features: ['uid', 'domain', 'document_type', 'document_description', 'entities', 'text'],\n",
       "     num_rows: 975\n",
       " }),\n",
       " Dataset({\n",
       "     features: ['uid', 'domain', 'document_type', 'document_description', 'entities', 'text'],\n",
       "     num_rows: 1249\n",
       " }),\n",
       " Dataset({\n",
       "     features: ['uid', 'domain', 'document_type', 'document_description', 'entities', 'text'],\n",
       "     num_rows: 920\n",
       " }),\n",
       " Dataset({\n",
       "     features: ['uid', 'domain', 'document_type', 'document_description', 'entities', 'text'],\n",
       "     num_rows: 1224\n",
       " }),\n",
       " Dataset({\n",
       "     features: ['uid', 'domain', 'document_type', 'document_description', 'entities', 'text'],\n",
       "     num_rows: 730\n",
       " }),\n",
       " Dataset({\n",
       "     features: ['uid', 'domain', 'document_type', 'document_description', 'entities', 'text'],\n",
       "     num_rows: 1034\n",
       " }),\n",
       " Dataset({\n",
       "     features: ['uid', 'domain', 'document_type', 'document_description', 'entities', 'text'],\n",
       "     num_rows: 972\n",
       " })]"
      ]
     },
     "execution_count": 96,
     "metadata": {},
     "output_type": "execute_result"
    }
   ],
   "source": [
    "data"
   ]
  },
  {
   "cell_type": "code",
   "execution_count": null,
   "metadata": {},
   "outputs": [
    {
     "ename": "ValueError",
     "evalue": "dictionary update sequence element #0 has length 20; 2 is required",
     "output_type": "error",
     "traceback": [
      "\u001b[1;31m---------------------------------------------------------------------------\u001b[0m",
      "\u001b[1;31mValueError\u001b[0m                                Traceback (most recent call last)",
      "Cell \u001b[1;32mIn[71], line 1\u001b[0m\n\u001b[1;32m----> 1\u001b[0m [\u001b[38;5;28;43mdict\u001b[39;49m\u001b[43m(\u001b[49m\u001b[43mrow\u001b[49m\u001b[43m)\u001b[49m \u001b[38;5;28;01mfor\u001b[39;00m row \u001b[38;5;129;01min\u001b[39;00m domain_splits\u001b[38;5;241m.\u001b[39mitems()]\n",
      "\u001b[1;31mValueError\u001b[0m: dictionary update sequence element #0 has length 20; 2 is required"
     ]
    }
   ],
   "source": []
  },
  {
   "cell_type": "code",
   "execution_count": null,
   "metadata": {},
   "outputs": [
    {
     "data": {
      "text/plain": [
       "Dataset({\n",
       "    features: ['uid', 'domain', 'document_type', 'document_description', 'entities', 'text'],\n",
       "    num_rows: 50000\n",
       "})"
      ]
     },
     "execution_count": 57,
     "metadata": {},
     "output_type": "execute_result"
    }
   ],
   "source": []
  }
 ],
 "metadata": {
  "kernelspec": {
   "display_name": "presidio-evaluator-IFEnQHLa-py3.12",
   "language": "python",
   "name": "python3"
  },
  "language_info": {
   "codemirror_mode": {
    "name": "ipython",
    "version": 3
   },
   "file_extension": ".py",
   "mimetype": "text/x-python",
   "name": "python",
   "nbconvert_exporter": "python",
   "pygments_lexer": "ipython3",
   "version": "3.12.6"
  }
 },
 "nbformat": 4,
 "nbformat_minor": 2
}
