{
 "cells": [
  {
   "cell_type": "markdown",
   "metadata": {},
   "source": [
    "In this example we will load the following dataset https://huggingface.co/datasets/ai4privacy/pii-masking-200k?row=0 , then will modify the data to be corresponded with the presidio InputSample structure by this steps :\n",
    "\n",
    "1 - keeping only the english language data \n",
    "\n",
    "2 - renaming the columns that fit the \"full text\" , \"masked\" and \"spans\" in presidio \n",
    "\n",
    "3 - removing all other columns\n",
    "\n",
    "4 - spliting the data to train and test data , *notice that datasets from huggingface in general are splitted into train and test data , and in some cases validation, but in this spesific set the whole set is a train set so we need to split it.\n",
    "\n",
    "5 - changing the spans dict keys names to be compatible with some of presidio's functions \n",
    "\n",
    "6 - saving the training and testing files as new json files\n",
    "\n"
   ]
  },
  {
   "cell_type": "code",
   "execution_count": 1,
   "metadata": {},
   "outputs": [],
   "source": [
    "#!pip install datasets\n",
    "from datasets import load_dataset\n",
    "\n",
    "dataset = load_dataset(\"ai4privacy/pii-masking-200k\", data_files=[\"*.jsonl\"])\n",
    "dataset = dataset.filter(lambda example: example['language'] == 'en') #getting only the english language data\n",
    "\n",
    "dataset = dataset.rename_column(\"source_text\", \"full_text\")\n",
    "dataset = dataset.rename_column(\"target_text\", \"masked\")\n",
    "dataset = dataset.rename_column(\"privacy_mask\", \"spans\")\n"
   ]
  },
  {
   "cell_type": "code",
   "execution_count": 2,
   "metadata": {},
   "outputs": [
    {
     "name": "stdout",
     "output_type": "stream",
     "text": [
      "data length :  43501\n"
     ]
    }
   ],
   "source": [
    "train_length = len(dataset['train'])\n",
    "print (f'data length :  {train_length}')"
   ]
  },
  {
   "cell_type": "code",
   "execution_count": 3,
   "metadata": {},
   "outputs": [
    {
     "name": "stdout",
     "output_type": "stream",
     "text": [
      "entities in the original data : Counter({'FIRSTNAME': 13323, 'LASTNAME': 4817, 'DATE': 4555, 'EMAIL': 4092, 'PREFIX': 3446, 'AMOUNT': 3103, 'USERNAME': 3056, 'JOBTITLE': 2954, 'URL': 2910, 'TIME': 2883, 'JOBAREA': 2882, 'MIDDLENAME': 2881, 'ACCOUNTNUMBER': 2831, 'STREET': 2799, 'ACCOUNTNAME': 2793, 'CITY': 2787, 'COUNTY': 2745, 'STATE': 2735, 'IPV4': 2720, 'BUILDINGNUMBER': 2714, 'JOBTYPE': 2710, 'CURRENCYSYMBOL': 2678, 'PASSWORD': 2622, 'SEX': 2606, 'CREDITCARDNUMBER': 2574, 'COMPANYNAME': 2502, 'PHONENUMBER': 2425, 'BITCOINADDRESS': 2403, 'IPV6': 2401, 'GENDER': 2385, 'AGE': 2370, 'DOB': 2354, 'ZIPCODE': 2322, 'SECONDARYADDRESS': 2307, 'MASKEDNUMBER': 2131, 'USERAGENT': 2084, 'SSN': 2045, 'IP': 1985, 'IBAN': 1973, 'CURRENCY': 1908, 'PHONEIMEI': 1875, 'NEARBYGPSCOORDINATE': 1651, 'ETHEREUMADDRESS': 1624, 'CREDITCARDISSUER': 1510, 'MAC': 1114, 'ORDINALDIRECTION': 1109, 'VEHICLEVRM': 950, 'CREDITCARDCVV': 869, 'EYECOLOR': 868, 'LITECOINADDRESS': 850, 'VEHICLEVIN': 849, 'HEIGHT': 837, 'CURRENCYCODE': 828, 'CURRENCYNAME': 817, 'BIC': 793, 'PIN': 738})\n",
      "Number of different entites : 56\n"
     ]
    }
   ],
   "source": [
    "import ast\n",
    "entities = [ast.literal_eval(i['span_labels']) for i in dataset['train']]  # Safely evaluate the list from the string\n",
    "from collections import Counter\n",
    "count_per_entity = Counter()\n",
    "for entity in entities : \n",
    "     for wanted_entity in entity:\n",
    "         if wanted_entity[2]!= \"O\":\n",
    "             count_per_entity[wanted_entity[2]] +=1 \n",
    "print (f\"entities in the original data : {count_per_entity}\")\n",
    "print (f\"Number of different entites : {len(count_per_entity)}\")"
   ]
  },
  {
   "cell_type": "code",
   "execution_count": 4,
   "metadata": {},
   "outputs": [],
   "source": [
    "dataset = dataset.remove_columns(['span_labels', 'mbert_text_tokens', 'mbert_bio_labels', 'id', 'language', 'set'])\n",
    "dataset_split = dataset['train'].train_test_split(test_size=0.2)\n",
    "train_data = dataset_split['train']\n",
    "test_data = dataset_split['test']\n"
   ]
  },
  {
   "cell_type": "code",
   "execution_count": 5,
   "metadata": {},
   "outputs": [],
   "source": [
    "train_data = [dict(row) for row in train_data]\n",
    "test_data = [dict(row) for row in test_data]\n",
    "\n",
    "# Iterate through each item in the list\n",
    "for item in train_data:\n",
    "     for span in item['spans']:\n",
    "        span['entity_type'] = span.pop('label')\n",
    "        span['entity_value'] = span.pop('value')\n",
    "        span['start_position'] = span.pop('start')\n",
    "        span['end_position'] = span.pop('end')\n",
    "for item in test_data:\n",
    "     for span in item['spans']:\n",
    "        span['entity_type'] = span.pop('label')\n",
    "        span['entity_value'] = span.pop('value')\n",
    "        span['start_position'] = span.pop('start')\n",
    "        span['end_position'] = span.pop('end')\n",
    "\n",
    "import json\n",
    "#saving the training and testing files as json files\n",
    "with open(r'train_data.json', 'w', encoding='utf-8') as f:\n",
    "    json.dump(train_data, f, ensure_ascii=False, indent=4)\n",
    "\n",
    "with open(r'test_data.json', 'w', encoding='utf-8') as f:\n",
    "    json.dump(test_data, f, ensure_ascii=False, indent=4)"
   ]
  },
  {
   "cell_type": "code",
   "execution_count": 6,
   "metadata": {},
   "outputs": [
    {
     "name": "stdout",
     "output_type": "stream",
     "text": [
      "train data length: 34800\n",
      "test data length: 8701\n"
     ]
    }
   ],
   "source": [
    "print(f\"train data length: {len(train_data)}\")\n",
    "print(f\"test data length: {len(test_data)}\")\n"
   ]
  },
  {
   "cell_type": "code",
   "execution_count": 8,
   "metadata": {},
   "outputs": [],
   "source": []
  },
  {
   "cell_type": "code",
   "execution_count": null,
   "metadata": {},
   "outputs": [],
   "source": []
  }
 ],
 "metadata": {
  "kernelspec": {
   "display_name": "presidio-evaluator-IFEnQHLa-py3.12",
   "language": "python",
   "name": "python3"
  },
  "language_info": {
   "codemirror_mode": {
    "name": "ipython",
    "version": 3
   },
   "file_extension": ".py",
   "mimetype": "text/x-python",
   "name": "python",
   "nbconvert_exporter": "python",
   "pygments_lexer": "ipython3",
   "version": "3.12.6"
  }
 },
 "nbformat": 4,
 "nbformat_minor": 2
}
