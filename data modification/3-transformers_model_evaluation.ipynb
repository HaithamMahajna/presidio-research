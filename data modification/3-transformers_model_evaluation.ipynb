{
 "cells": [
  {
   "cell_type": "code",
   "execution_count": 3,
   "metadata": {},
   "outputs": [],
   "source": [
    "from pathlib import Path\n",
    "from pprint import pprint\n",
    "from collections import Counter\n",
    "from typing import Dict, List\n",
    "import json\n",
    "\n",
    "from presidio_evaluator import InputSample\n",
    "from presidio_evaluator.evaluation import Evaluator, ModelError\n",
    "from presidio_evaluator.models import PresidioAnalyzerWrapper\n",
    "from presidio_evaluator.experiment_tracking import get_experiment_tracker\n",
    "\n",
    "import pandas as pd\n",
    "\n",
    "pd.set_option(\"display.max_columns\", None)\n",
    "pd.set_option(\"display.max_rows\", None)\n",
    "pd.set_option(\"display.max_colwidth\", None)\n",
    "\n",
    "%reload_ext autoreload\n",
    "%autoreload 2\n",
    "%matplotlib inline"
   ]
  },
  {
   "cell_type": "code",
   "execution_count": 4,
   "metadata": {},
   "outputs": [
    {
     "name": "stderr",
     "output_type": "stream",
     "text": [
      "tokenizing input:   0%|          | 0/8701 [00:00<?, ?it/s]"
     ]
    },
    {
     "name": "stdout",
     "output_type": "stream",
     "text": [
      "loading model en_core_web_sm\n"
     ]
    },
    {
     "name": "stderr",
     "output_type": "stream",
     "text": [
      "tokenizing input: 100%|██████████| 8701/8701 [01:34<00:00, 91.96it/s] \n"
     ]
    },
    {
     "name": "stdout",
     "output_type": "stream",
     "text": [
      "8701\n"
     ]
    }
   ],
   "source": [
    "dataset_name = \"test_data.json\"\n",
    "dataset = InputSample.read_dataset_json(Path(Path.cwd().parent, \"data modification\", dataset_name))\n",
    "\n",
    "print(len(dataset))"
   ]
  },
  {
   "cell_type": "code",
   "execution_count": 5,
   "metadata": {},
   "outputs": [
    {
     "data": {
      "text/plain": [
       "Full text: 89200-3325 schools are next in line for education reform pilot program. Mobility team, prepare accordingly!\n",
       "Spans: [Span(type: ZIPCODE, value: 89200-3325, char_span: [0: 10]), Span(type: JOBAREA, value: Mobility, char_span: [72: 80])]"
      ]
     },
     "execution_count": 5,
     "metadata": {},
     "output_type": "execute_result"
    }
   ],
   "source": [
    "dataset[0]"
   ]
  },
  {
   "cell_type": "code",
   "execution_count": 6,
   "metadata": {},
   "outputs": [
    {
     "name": "stderr",
     "output_type": "stream",
     "text": [
      "c:\\Users\\WIN10\\AppData\\Local\\pypoetry\\Cache\\virtualenvs\\presidio-evaluator-IFEnQHLa-py3.12\\Lib\\site-packages\\huggingface_hub\\file_download.py:1142: FutureWarning: `resume_download` is deprecated and will be removed in version 1.0.0. Downloads always resume when possible. If you want to force a new download, use `force_download=True`.\n",
      "  warnings.warn(\n",
      "c:\\Users\\WIN10\\AppData\\Local\\pypoetry\\Cache\\virtualenvs\\presidio-evaluator-IFEnQHLa-py3.12\\Lib\\site-packages\\transformers\\modeling_utils.py:519: FutureWarning: You are using `torch.load` with `weights_only=False` (the current default value), which uses the default pickle module implicitly. It is possible to construct malicious pickle data which will execute arbitrary code during unpickling (See https://github.com/pytorch/pytorch/blob/main/SECURITY.md#untrusted-models for more details). In a future release, the default value for `weights_only` will be flipped to `True`. This limits the functions that could be executed during unpickling. Arbitrary objects will no longer be allowed to be loaded via this mode unless they are explicitly allowlisted by the user via `torch.serialization.add_safe_globals`. We recommend you start setting `weights_only=True` for any use case where you don't have full control of the loaded file. Please open an issue on GitHub for any issues related to this experimental feature.\n",
      "  return torch.load(checkpoint_file, map_location=map_location)\n"
     ]
    }
   ],
   "source": [
    "from presidio_evaluator.models import transformers_model\n",
    "#  Set up the experiment tracker to log the experiment for reproducibility\n",
    "experiment = get_experiment_tracker()\n",
    " \n",
    "model = transformers_model.transformers_model(\"lakshyakh93/deberta_finetuned_pii\")\n",
    "# Create the evaluator object\n",
    "evaluator = Evaluator(model=model)\n",
    "\n",
    "\n",
    "# Track model and dataset params\n",
    "params = {\"dataset_name\": dataset_name, \"model_name\": model.name}\n",
    "params.update(model.to_log())\n",
    "experiment.log_parameters(params)\n",
    "experiment.log_dataset_hash(dataset)\n",
    "#experiment.log_parameter(\"entity_mappings\", json.dumps(entities_mapping))\n",
    "  "
   ]
  },
  {
   "cell_type": "code",
   "execution_count": 7,
   "metadata": {},
   "outputs": [
    {
     "name": "stdout",
     "output_type": "stream",
     "text": [
      "Mapping entity values using this dictionary: lakshyakh93/deberta_finetuned_pii\n",
      "Running model transformers_model on dataset...\n"
     ]
    },
    {
     "name": "stderr",
     "output_type": "stream",
     "text": [
      "c:\\Users\\WIN10\\AppData\\Local\\pypoetry\\Cache\\virtualenvs\\presidio-evaluator-IFEnQHLa-py3.12\\Lib\\site-packages\\transformers\\pipelines\\token_classification.py:393: UserWarning: Tokenizer does not support real words, using fallback heuristic\n",
      "  warnings.warn(\n"
     ]
    },
    {
     "name": "stdout",
     "output_type": "stream",
     "text": [
      "Finished running model on dataset\n",
      "saving experiment data to experiment_20241119-123335.json\n"
     ]
    }
   ],
   "source": [
    "## Run experiment\n",
    "\n",
    "evaluation_results = evaluator.evaluate_all(dataset)\n",
    "results = evaluator.calculate_score(evaluation_results)\n",
    "\n",
    "# Track experiment results\n",
    "experiment.log_metrics(results.to_log())\n",
    "entities, confmatrix = results.to_confusion_matrix()\n",
    "experiment.log_confusion_matrix(matrix=confmatrix, \n",
    "                                labels=entities)\n",
    "\n",
    "# Plot output\n",
    "plotter = evaluator.Plotter(model=model, \n",
    "                            results=results, \n",
    "                            output_folder = \".\", \n",
    "                            model_name = model.name, \n",
    "                            beta = 2)\n",
    "\n",
    "\n",
    "# end experiment\n",
    "experiment.end()"
   ]
  },
  {
   "cell_type": "code",
   "execution_count": 8,
   "metadata": {},
   "outputs": [
    {
     "data": {
      "application/vnd.plotly.v1+json": {
       "config": {
        "plotlyServerURL": "https://plot.ly"
       },
       "data": [
        {
         "alignmentgroup": "True",
         "cliponaxis": false,
         "hovertemplate": "f2_score=%{x}<br>entity=%{y}<br>count=%{marker.color}<extra></extra>",
         "legendgroup": "",
         "marker": {
          "color": [
           0,
           319,
           152,
           545,
           850,
           0,
           1105,
           165,
           1191,
           0,
           0,
           804,
           1449,
           0,
           146,
           6880,
           480,
           2132,
           1047,
           224,
           334,
           0,
           798,
           847,
           0,
           567,
           557,
           565,
           297,
           182,
           466,
           2671,
           294,
           882,
           497,
           906,
           0,
           993,
           0,
           1023,
           677,
           184,
           313,
           395,
           157,
           1515,
           561,
           3389,
           921,
           191,
           0,
           1068,
           555,
           410,
           552,
           594,
           1719,
           657,
           550,
           557,
           782,
           493,
           970,
           1891,
           479,
           902,
           49850
          ],
          "coloraxis": "coloraxis",
          "pattern": {
           "shape": ""
          }
         },
         "name": "",
         "offsetgroup": "",
         "orientation": "h",
         "showlegend": false,
         "textangle": 0,
         "textfont": {
          "size": 12
         },
         "textposition": "outside",
         "texttemplate": "%{x:.2}",
         "type": "bar",
         "x": [
          null,
          0.4483870967741935,
          0.6403688524590164,
          0.9401709401709402,
          0.9566500226963233,
          null,
          0.6150987678466654,
          0.765432098765432,
          0.006289308176100628,
          null,
          null,
          0.30403458213256485,
          0.9711340206185568,
          null,
          0.35232383808095946,
          0.994994470636168,
          null,
          0.9281961471103327,
          0.985352862849534,
          null,
          0.11338697878566203,
          null,
          0.9736180904522612,
          0.8042457644417228,
          null,
          0.5487179487179487,
          0.578386605783866,
          0.5348538387407645,
          0.9557823129251701,
          0.8181818181818181,
          0.5319645356976201,
          0.7972230698809887,
          null,
          null,
          0.8031467252103915,
          0.6038238141335915,
          null,
          0.9442536861240154,
          null,
          0.7051414412554202,
          0.7423839100857734,
          0.7285115303983227,
          0.8778135048231513,
          0.49159449821701473,
          0.5480378890392422,
          0.34868704261730527,
          0.7384672619047619,
          0.7984037836240023,
          0.9359555189456343,
          0.5524553571428572,
          null,
          null,
          0.8527409530634181,
          0.24396378269617708,
          0.6367432150313153,
          0.6721311475409836,
          0.88049188156638,
          0.9135349831958445,
          0.9919912631962142,
          0.6508422664624808,
          0.6010430247718384,
          0.014785608674223755,
          0.8335065474953233,
          0.626877744395655,
          0.7999137559292798,
          0.6594379287452976,
          0.9546439544513169
         ],
         "xaxis": "x",
         "y": [
          "PHONE_NUMBER",
          "CURRENCYNAME",
          "PIN",
          "SEX",
          "TIME",
          "DISPLAYNAME",
          "STREET",
          "VEHICLEVIN",
          "PHONENUMBER",
          "STREETADDRESS",
          "COMPANY_NAME",
          "COUNTY",
          "ACCOUNTNAME",
          "SUFFIX",
          "CURRENCYCODE",
          "USERAGENT",
          "AGE",
          "DATE",
          "SECONDARYADDRESS",
          "ORDINALDIRECTION",
          "HEIGHT",
          "NAME",
          "EMAIL",
          "CITY",
          "FULLNAME",
          "ACCOUNTNUMBER",
          "IPV4",
          "MIDDLENAME",
          "ETHEREUMADDRESS",
          "CREDITCARDCVV",
          "AMOUNT",
          "FIRSTNAME",
          "EYECOLOR",
          "DOB",
          "CURRENCYSYMBOL",
          "GENDER",
          "NUMBER",
          "USERNAME",
          "JOBDESCRIPTOR",
          "LASTNAME",
          "CURRENCY",
          "VEHICLEVRM",
          "CREDITCARDISSUER",
          "IBAN",
          "BIC",
          "IP",
          "JOBTYPE",
          "IPV6",
          "MAC",
          "LITECOINADDRESS",
          "SEXTYPE",
          "COMPANYNAME",
          "PASSWORD",
          "MASKEDNUMBER",
          "BUILDINGNUMBER",
          "NEARBYGPSCOORDINATE",
          "JOBTITLE",
          "PREFIX",
          "URL",
          "JOBAREA",
          "STATE",
          "CREDITCARDNUMBER",
          "ZIPCODE",
          "PHONEIMEI",
          "BITCOINADDRESS",
          "SSN",
          "PII"
         ],
         "yaxis": "y"
        }
       ],
       "layout": {
        "annotations": [
         {
          "font": {
           "color": "gray",
           "size": 12
          },
          "showarrow": false,
          "text": "Entity f2_score values also consider mismatches between different entity types, not just misclassified PII values\n",
          "x": 0.5,
          "xref": "paper",
          "y": 1.1,
          "yref": "paper"
         }
        ],
        "barmode": "group",
        "coloraxis": {
         "colorbar": {
          "title": {
           "text": "count"
          }
         },
         "colorscale": [
          [
           0,
           "#0d0887"
          ],
          [
           0.1111111111111111,
           "#46039f"
          ],
          [
           0.2222222222222222,
           "#7201a8"
          ],
          [
           0.3333333333333333,
           "#9c179e"
          ],
          [
           0.4444444444444444,
           "#bd3786"
          ],
          [
           0.5555555555555556,
           "#d8576b"
          ],
          [
           0.6666666666666666,
           "#ed7953"
          ],
          [
           0.7777777777777778,
           "#fb9f3a"
          ],
          [
           0.8888888888888888,
           "#fdca26"
          ],
          [
           1,
           "#f0f921"
          ]
         ]
        },
        "height": 2010,
        "legend": {
         "tracegroupgap": 0
        },
        "plot_bgcolor": "#FFF",
        "template": {
         "data": {
          "bar": [
           {
            "error_x": {
             "color": "#2a3f5f"
            },
            "error_y": {
             "color": "#2a3f5f"
            },
            "marker": {
             "line": {
              "color": "#E5ECF6",
              "width": 0.5
             },
             "pattern": {
              "fillmode": "overlay",
              "size": 10,
              "solidity": 0.2
             }
            },
            "type": "bar"
           }
          ],
          "barpolar": [
           {
            "marker": {
             "line": {
              "color": "#E5ECF6",
              "width": 0.5
             },
             "pattern": {
              "fillmode": "overlay",
              "size": 10,
              "solidity": 0.2
             }
            },
            "type": "barpolar"
           }
          ],
          "carpet": [
           {
            "aaxis": {
             "endlinecolor": "#2a3f5f",
             "gridcolor": "white",
             "linecolor": "white",
             "minorgridcolor": "white",
             "startlinecolor": "#2a3f5f"
            },
            "baxis": {
             "endlinecolor": "#2a3f5f",
             "gridcolor": "white",
             "linecolor": "white",
             "minorgridcolor": "white",
             "startlinecolor": "#2a3f5f"
            },
            "type": "carpet"
           }
          ],
          "choropleth": [
           {
            "colorbar": {
             "outlinewidth": 0,
             "ticks": ""
            },
            "type": "choropleth"
           }
          ],
          "contour": [
           {
            "colorbar": {
             "outlinewidth": 0,
             "ticks": ""
            },
            "colorscale": [
             [
              0,
              "#0d0887"
             ],
             [
              0.1111111111111111,
              "#46039f"
             ],
             [
              0.2222222222222222,
              "#7201a8"
             ],
             [
              0.3333333333333333,
              "#9c179e"
             ],
             [
              0.4444444444444444,
              "#bd3786"
             ],
             [
              0.5555555555555556,
              "#d8576b"
             ],
             [
              0.6666666666666666,
              "#ed7953"
             ],
             [
              0.7777777777777778,
              "#fb9f3a"
             ],
             [
              0.8888888888888888,
              "#fdca26"
             ],
             [
              1,
              "#f0f921"
             ]
            ],
            "type": "contour"
           }
          ],
          "contourcarpet": [
           {
            "colorbar": {
             "outlinewidth": 0,
             "ticks": ""
            },
            "type": "contourcarpet"
           }
          ],
          "heatmap": [
           {
            "colorbar": {
             "outlinewidth": 0,
             "ticks": ""
            },
            "colorscale": [
             [
              0,
              "#0d0887"
             ],
             [
              0.1111111111111111,
              "#46039f"
             ],
             [
              0.2222222222222222,
              "#7201a8"
             ],
             [
              0.3333333333333333,
              "#9c179e"
             ],
             [
              0.4444444444444444,
              "#bd3786"
             ],
             [
              0.5555555555555556,
              "#d8576b"
             ],
             [
              0.6666666666666666,
              "#ed7953"
             ],
             [
              0.7777777777777778,
              "#fb9f3a"
             ],
             [
              0.8888888888888888,
              "#fdca26"
             ],
             [
              1,
              "#f0f921"
             ]
            ],
            "type": "heatmap"
           }
          ],
          "heatmapgl": [
           {
            "colorbar": {
             "outlinewidth": 0,
             "ticks": ""
            },
            "colorscale": [
             [
              0,
              "#0d0887"
             ],
             [
              0.1111111111111111,
              "#46039f"
             ],
             [
              0.2222222222222222,
              "#7201a8"
             ],
             [
              0.3333333333333333,
              "#9c179e"
             ],
             [
              0.4444444444444444,
              "#bd3786"
             ],
             [
              0.5555555555555556,
              "#d8576b"
             ],
             [
              0.6666666666666666,
              "#ed7953"
             ],
             [
              0.7777777777777778,
              "#fb9f3a"
             ],
             [
              0.8888888888888888,
              "#fdca26"
             ],
             [
              1,
              "#f0f921"
             ]
            ],
            "type": "heatmapgl"
           }
          ],
          "histogram": [
           {
            "marker": {
             "pattern": {
              "fillmode": "overlay",
              "size": 10,
              "solidity": 0.2
             }
            },
            "type": "histogram"
           }
          ],
          "histogram2d": [
           {
            "colorbar": {
             "outlinewidth": 0,
             "ticks": ""
            },
            "colorscale": [
             [
              0,
              "#0d0887"
             ],
             [
              0.1111111111111111,
              "#46039f"
             ],
             [
              0.2222222222222222,
              "#7201a8"
             ],
             [
              0.3333333333333333,
              "#9c179e"
             ],
             [
              0.4444444444444444,
              "#bd3786"
             ],
             [
              0.5555555555555556,
              "#d8576b"
             ],
             [
              0.6666666666666666,
              "#ed7953"
             ],
             [
              0.7777777777777778,
              "#fb9f3a"
             ],
             [
              0.8888888888888888,
              "#fdca26"
             ],
             [
              1,
              "#f0f921"
             ]
            ],
            "type": "histogram2d"
           }
          ],
          "histogram2dcontour": [
           {
            "colorbar": {
             "outlinewidth": 0,
             "ticks": ""
            },
            "colorscale": [
             [
              0,
              "#0d0887"
             ],
             [
              0.1111111111111111,
              "#46039f"
             ],
             [
              0.2222222222222222,
              "#7201a8"
             ],
             [
              0.3333333333333333,
              "#9c179e"
             ],
             [
              0.4444444444444444,
              "#bd3786"
             ],
             [
              0.5555555555555556,
              "#d8576b"
             ],
             [
              0.6666666666666666,
              "#ed7953"
             ],
             [
              0.7777777777777778,
              "#fb9f3a"
             ],
             [
              0.8888888888888888,
              "#fdca26"
             ],
             [
              1,
              "#f0f921"
             ]
            ],
            "type": "histogram2dcontour"
           }
          ],
          "mesh3d": [
           {
            "colorbar": {
             "outlinewidth": 0,
             "ticks": ""
            },
            "type": "mesh3d"
           }
          ],
          "parcoords": [
           {
            "line": {
             "colorbar": {
              "outlinewidth": 0,
              "ticks": ""
             }
            },
            "type": "parcoords"
           }
          ],
          "pie": [
           {
            "automargin": true,
            "type": "pie"
           }
          ],
          "scatter": [
           {
            "fillpattern": {
             "fillmode": "overlay",
             "size": 10,
             "solidity": 0.2
            },
            "type": "scatter"
           }
          ],
          "scatter3d": [
           {
            "line": {
             "colorbar": {
              "outlinewidth": 0,
              "ticks": ""
             }
            },
            "marker": {
             "colorbar": {
              "outlinewidth": 0,
              "ticks": ""
             }
            },
            "type": "scatter3d"
           }
          ],
          "scattercarpet": [
           {
            "marker": {
             "colorbar": {
              "outlinewidth": 0,
              "ticks": ""
             }
            },
            "type": "scattercarpet"
           }
          ],
          "scattergeo": [
           {
            "marker": {
             "colorbar": {
              "outlinewidth": 0,
              "ticks": ""
             }
            },
            "type": "scattergeo"
           }
          ],
          "scattergl": [
           {
            "marker": {
             "colorbar": {
              "outlinewidth": 0,
              "ticks": ""
             }
            },
            "type": "scattergl"
           }
          ],
          "scattermapbox": [
           {
            "marker": {
             "colorbar": {
              "outlinewidth": 0,
              "ticks": ""
             }
            },
            "type": "scattermapbox"
           }
          ],
          "scatterpolar": [
           {
            "marker": {
             "colorbar": {
              "outlinewidth": 0,
              "ticks": ""
             }
            },
            "type": "scatterpolar"
           }
          ],
          "scatterpolargl": [
           {
            "marker": {
             "colorbar": {
              "outlinewidth": 0,
              "ticks": ""
             }
            },
            "type": "scatterpolargl"
           }
          ],
          "scatterternary": [
           {
            "marker": {
             "colorbar": {
              "outlinewidth": 0,
              "ticks": ""
             }
            },
            "type": "scatterternary"
           }
          ],
          "surface": [
           {
            "colorbar": {
             "outlinewidth": 0,
             "ticks": ""
            },
            "colorscale": [
             [
              0,
              "#0d0887"
             ],
             [
              0.1111111111111111,
              "#46039f"
             ],
             [
              0.2222222222222222,
              "#7201a8"
             ],
             [
              0.3333333333333333,
              "#9c179e"
             ],
             [
              0.4444444444444444,
              "#bd3786"
             ],
             [
              0.5555555555555556,
              "#d8576b"
             ],
             [
              0.6666666666666666,
              "#ed7953"
             ],
             [
              0.7777777777777778,
              "#fb9f3a"
             ],
             [
              0.8888888888888888,
              "#fdca26"
             ],
             [
              1,
              "#f0f921"
             ]
            ],
            "type": "surface"
           }
          ],
          "table": [
           {
            "cells": {
             "fill": {
              "color": "#EBF0F8"
             },
             "line": {
              "color": "white"
             }
            },
            "header": {
             "fill": {
              "color": "#C8D4E3"
             },
             "line": {
              "color": "white"
             }
            },
            "type": "table"
           }
          ]
         },
         "layout": {
          "annotationdefaults": {
           "arrowcolor": "#2a3f5f",
           "arrowhead": 0,
           "arrowwidth": 1
          },
          "autotypenumbers": "strict",
          "coloraxis": {
           "colorbar": {
            "outlinewidth": 0,
            "ticks": ""
           }
          },
          "colorscale": {
           "diverging": [
            [
             0,
             "#8e0152"
            ],
            [
             0.1,
             "#c51b7d"
            ],
            [
             0.2,
             "#de77ae"
            ],
            [
             0.3,
             "#f1b6da"
            ],
            [
             0.4,
             "#fde0ef"
            ],
            [
             0.5,
             "#f7f7f7"
            ],
            [
             0.6,
             "#e6f5d0"
            ],
            [
             0.7,
             "#b8e186"
            ],
            [
             0.8,
             "#7fbc41"
            ],
            [
             0.9,
             "#4d9221"
            ],
            [
             1,
             "#276419"
            ]
           ],
           "sequential": [
            [
             0,
             "#0d0887"
            ],
            [
             0.1111111111111111,
             "#46039f"
            ],
            [
             0.2222222222222222,
             "#7201a8"
            ],
            [
             0.3333333333333333,
             "#9c179e"
            ],
            [
             0.4444444444444444,
             "#bd3786"
            ],
            [
             0.5555555555555556,
             "#d8576b"
            ],
            [
             0.6666666666666666,
             "#ed7953"
            ],
            [
             0.7777777777777778,
             "#fb9f3a"
            ],
            [
             0.8888888888888888,
             "#fdca26"
            ],
            [
             1,
             "#f0f921"
            ]
           ],
           "sequentialminus": [
            [
             0,
             "#0d0887"
            ],
            [
             0.1111111111111111,
             "#46039f"
            ],
            [
             0.2222222222222222,
             "#7201a8"
            ],
            [
             0.3333333333333333,
             "#9c179e"
            ],
            [
             0.4444444444444444,
             "#bd3786"
            ],
            [
             0.5555555555555556,
             "#d8576b"
            ],
            [
             0.6666666666666666,
             "#ed7953"
            ],
            [
             0.7777777777777778,
             "#fb9f3a"
            ],
            [
             0.8888888888888888,
             "#fdca26"
            ],
            [
             1,
             "#f0f921"
            ]
           ]
          },
          "colorway": [
           "#636efa",
           "#EF553B",
           "#00cc96",
           "#ab63fa",
           "#FFA15A",
           "#19d3f3",
           "#FF6692",
           "#B6E880",
           "#FF97FF",
           "#FECB52"
          ],
          "font": {
           "color": "#2a3f5f"
          },
          "geo": {
           "bgcolor": "white",
           "lakecolor": "white",
           "landcolor": "#E5ECF6",
           "showlakes": true,
           "showland": true,
           "subunitcolor": "white"
          },
          "hoverlabel": {
           "align": "left"
          },
          "hovermode": "closest",
          "mapbox": {
           "style": "light"
          },
          "paper_bgcolor": "white",
          "plot_bgcolor": "#E5ECF6",
          "polar": {
           "angularaxis": {
            "gridcolor": "white",
            "linecolor": "white",
            "ticks": ""
           },
           "bgcolor": "#E5ECF6",
           "radialaxis": {
            "gridcolor": "white",
            "linecolor": "white",
            "ticks": ""
           }
          },
          "scene": {
           "xaxis": {
            "backgroundcolor": "#E5ECF6",
            "gridcolor": "white",
            "gridwidth": 2,
            "linecolor": "white",
            "showbackground": true,
            "ticks": "",
            "zerolinecolor": "white"
           },
           "yaxis": {
            "backgroundcolor": "#E5ECF6",
            "gridcolor": "white",
            "gridwidth": 2,
            "linecolor": "white",
            "showbackground": true,
            "ticks": "",
            "zerolinecolor": "white"
           },
           "zaxis": {
            "backgroundcolor": "#E5ECF6",
            "gridcolor": "white",
            "gridwidth": 2,
            "linecolor": "white",
            "showbackground": true,
            "ticks": "",
            "zerolinecolor": "white"
           }
          },
          "shapedefaults": {
           "line": {
            "color": "#2a3f5f"
           }
          },
          "ternary": {
           "aaxis": {
            "gridcolor": "white",
            "linecolor": "white",
            "ticks": ""
           },
           "baxis": {
            "gridcolor": "white",
            "linecolor": "white",
            "ticks": ""
           },
           "bgcolor": "#E5ECF6",
           "caxis": {
            "gridcolor": "white",
            "linecolor": "white",
            "ticks": ""
           }
          },
          "title": {
           "x": 0.05
          },
          "xaxis": {
           "automargin": true,
           "gridcolor": "white",
           "linecolor": "white",
           "ticks": "",
           "title": {
            "standoff": 15
           },
           "zerolinecolor": "white",
           "zerolinewidth": 2
          },
          "yaxis": {
           "automargin": true,
           "gridcolor": "white",
           "linecolor": "white",
           "ticks": "",
           "title": {
            "standoff": 15
           },
           "zerolinecolor": "white",
           "zerolinewidth": 2
          }
         }
        },
        "title": {
         "text": "Per-entity f2_score for transformers_model"
        },
        "xaxis": {
         "anchor": "y",
         "domain": [
          0,
          1
         ],
         "linecolor": "#BCCCDC",
         "showgrid": false,
         "title": {
          "text": "PII entity"
         }
        },
        "yaxis": {
         "anchor": "x",
         "categoryorder": "total ascending",
         "domain": [
          0,
          1
         ],
         "linecolor": "#BCCCDC",
         "showgrid": false,
         "title": {
          "text": "f2_score"
         }
        }
       }
      }
     },
     "metadata": {},
     "output_type": "display_data"
    },
    {
     "data": {
      "application/vnd.plotly.v1+json": {
       "config": {
        "plotlyServerURL": "https://plot.ly"
       },
       "data": [
        {
         "alignmentgroup": "True",
         "cliponaxis": false,
         "hovertemplate": "recall=%{x}<br>entity=%{y}<br>count=%{marker.color}<extra></extra>",
         "legendgroup": "",
         "marker": {
          "color": [
           0,
           319,
           152,
           545,
           850,
           0,
           1105,
           165,
           1191,
           0,
           0,
           804,
           1449,
           0,
           146,
           6880,
           480,
           2132,
           1047,
           224,
           334,
           0,
           798,
           847,
           0,
           567,
           557,
           565,
           297,
           182,
           466,
           2671,
           294,
           882,
           497,
           906,
           0,
           993,
           0,
           1023,
           677,
           184,
           313,
           395,
           157,
           1515,
           561,
           3389,
           921,
           191,
           0,
           1068,
           555,
           410,
           552,
           594,
           1719,
           657,
           550,
           557,
           782,
           493,
           970,
           1891,
           479,
           902,
           49850
          ],
          "coloraxis": "coloraxis",
          "pattern": {
           "shape": ""
          }
         },
         "name": "",
         "offsetgroup": "",
         "orientation": "h",
         "showlegend": false,
         "textangle": 0,
         "textfont": {
          "size": 12
         },
         "textposition": "outside",
         "texttemplate": "%{x:.2}",
         "type": "bar",
         "x": [
          null,
          0.43573667711598746,
          0.8223684210526315,
          0.9688073394495413,
          0.991764705882353,
          null,
          0.5692307692307692,
          0.7515151515151515,
          0.005037783375314861,
          null,
          null,
          0.26243781094527363,
          0.9751552795031055,
          null,
          0.3219178082191781,
          0.9938953488372093,
          0,
          0.9943714821763602,
          0.9894937917860553,
          0,
          0.09281437125748503,
          null,
          0.9711779448621554,
          0.9303423848878394,
          null,
          0.7548500881834215,
          0.5457809694793537,
          0.5893805309734513,
          0.9461279461279462,
          0.8406593406593407,
          0.4892703862660944,
          0.7824784724822164,
          0,
          0,
          0.8832997987927566,
          0.5507726269315674,
          null,
          0.9415911379657603,
          null,
          0.667644183773216,
          0.741506646971935,
          0.7554347826086957,
          0.8722044728434505,
          0.48860759493670886,
          0.5159235668789809,
          0.3207920792079208,
          0.7076648841354723,
          0.7969902626143405,
          0.9869706840390879,
          0.518324607329843,
          null,
          0,
          0.8576576576576577,
          0.23658536585365852,
          0.6630434782608695,
          0.6212121212121212,
          0.8580570098894706,
          0.9101978691019786,
          0.990909090909091,
          0.6104129263913824,
          0.5895140664961637,
          0.012170385395537525,
          0.8268041237113402,
          0.5737704918032787,
          0.7745302713987474,
          0.6607538802660754,
          0.9495486459378134
         ],
         "xaxis": "x",
         "y": [
          "PHONE_NUMBER",
          "CURRENCYNAME",
          "PIN",
          "SEX",
          "TIME",
          "DISPLAYNAME",
          "STREET",
          "VEHICLEVIN",
          "PHONENUMBER",
          "STREETADDRESS",
          "COMPANY_NAME",
          "COUNTY",
          "ACCOUNTNAME",
          "SUFFIX",
          "CURRENCYCODE",
          "USERAGENT",
          "AGE",
          "DATE",
          "SECONDARYADDRESS",
          "ORDINALDIRECTION",
          "HEIGHT",
          "NAME",
          "EMAIL",
          "CITY",
          "FULLNAME",
          "ACCOUNTNUMBER",
          "IPV4",
          "MIDDLENAME",
          "ETHEREUMADDRESS",
          "CREDITCARDCVV",
          "AMOUNT",
          "FIRSTNAME",
          "EYECOLOR",
          "DOB",
          "CURRENCYSYMBOL",
          "GENDER",
          "NUMBER",
          "USERNAME",
          "JOBDESCRIPTOR",
          "LASTNAME",
          "CURRENCY",
          "VEHICLEVRM",
          "CREDITCARDISSUER",
          "IBAN",
          "BIC",
          "IP",
          "JOBTYPE",
          "IPV6",
          "MAC",
          "LITECOINADDRESS",
          "SEXTYPE",
          "COMPANYNAME",
          "PASSWORD",
          "MASKEDNUMBER",
          "BUILDINGNUMBER",
          "NEARBYGPSCOORDINATE",
          "JOBTITLE",
          "PREFIX",
          "URL",
          "JOBAREA",
          "STATE",
          "CREDITCARDNUMBER",
          "ZIPCODE",
          "PHONEIMEI",
          "BITCOINADDRESS",
          "SSN",
          "PII"
         ],
         "yaxis": "y"
        }
       ],
       "layout": {
        "annotations": [
         {
          "font": {
           "color": "gray",
           "size": 12
          },
          "showarrow": false,
          "text": "Entity recall values also consider mismatches between different entity types, not just misclassified PII values\n",
          "x": 0.5,
          "xref": "paper",
          "y": 1.1,
          "yref": "paper"
         }
        ],
        "barmode": "group",
        "coloraxis": {
         "colorbar": {
          "title": {
           "text": "count"
          }
         },
         "colorscale": [
          [
           0,
           "#0d0887"
          ],
          [
           0.1111111111111111,
           "#46039f"
          ],
          [
           0.2222222222222222,
           "#7201a8"
          ],
          [
           0.3333333333333333,
           "#9c179e"
          ],
          [
           0.4444444444444444,
           "#bd3786"
          ],
          [
           0.5555555555555556,
           "#d8576b"
          ],
          [
           0.6666666666666666,
           "#ed7953"
          ],
          [
           0.7777777777777778,
           "#fb9f3a"
          ],
          [
           0.8888888888888888,
           "#fdca26"
          ],
          [
           1,
           "#f0f921"
          ]
         ]
        },
        "height": 2010,
        "legend": {
         "tracegroupgap": 0
        },
        "plot_bgcolor": "#FFF",
        "template": {
         "data": {
          "bar": [
           {
            "error_x": {
             "color": "#2a3f5f"
            },
            "error_y": {
             "color": "#2a3f5f"
            },
            "marker": {
             "line": {
              "color": "#E5ECF6",
              "width": 0.5
             },
             "pattern": {
              "fillmode": "overlay",
              "size": 10,
              "solidity": 0.2
             }
            },
            "type": "bar"
           }
          ],
          "barpolar": [
           {
            "marker": {
             "line": {
              "color": "#E5ECF6",
              "width": 0.5
             },
             "pattern": {
              "fillmode": "overlay",
              "size": 10,
              "solidity": 0.2
             }
            },
            "type": "barpolar"
           }
          ],
          "carpet": [
           {
            "aaxis": {
             "endlinecolor": "#2a3f5f",
             "gridcolor": "white",
             "linecolor": "white",
             "minorgridcolor": "white",
             "startlinecolor": "#2a3f5f"
            },
            "baxis": {
             "endlinecolor": "#2a3f5f",
             "gridcolor": "white",
             "linecolor": "white",
             "minorgridcolor": "white",
             "startlinecolor": "#2a3f5f"
            },
            "type": "carpet"
           }
          ],
          "choropleth": [
           {
            "colorbar": {
             "outlinewidth": 0,
             "ticks": ""
            },
            "type": "choropleth"
           }
          ],
          "contour": [
           {
            "colorbar": {
             "outlinewidth": 0,
             "ticks": ""
            },
            "colorscale": [
             [
              0,
              "#0d0887"
             ],
             [
              0.1111111111111111,
              "#46039f"
             ],
             [
              0.2222222222222222,
              "#7201a8"
             ],
             [
              0.3333333333333333,
              "#9c179e"
             ],
             [
              0.4444444444444444,
              "#bd3786"
             ],
             [
              0.5555555555555556,
              "#d8576b"
             ],
             [
              0.6666666666666666,
              "#ed7953"
             ],
             [
              0.7777777777777778,
              "#fb9f3a"
             ],
             [
              0.8888888888888888,
              "#fdca26"
             ],
             [
              1,
              "#f0f921"
             ]
            ],
            "type": "contour"
           }
          ],
          "contourcarpet": [
           {
            "colorbar": {
             "outlinewidth": 0,
             "ticks": ""
            },
            "type": "contourcarpet"
           }
          ],
          "heatmap": [
           {
            "colorbar": {
             "outlinewidth": 0,
             "ticks": ""
            },
            "colorscale": [
             [
              0,
              "#0d0887"
             ],
             [
              0.1111111111111111,
              "#46039f"
             ],
             [
              0.2222222222222222,
              "#7201a8"
             ],
             [
              0.3333333333333333,
              "#9c179e"
             ],
             [
              0.4444444444444444,
              "#bd3786"
             ],
             [
              0.5555555555555556,
              "#d8576b"
             ],
             [
              0.6666666666666666,
              "#ed7953"
             ],
             [
              0.7777777777777778,
              "#fb9f3a"
             ],
             [
              0.8888888888888888,
              "#fdca26"
             ],
             [
              1,
              "#f0f921"
             ]
            ],
            "type": "heatmap"
           }
          ],
          "heatmapgl": [
           {
            "colorbar": {
             "outlinewidth": 0,
             "ticks": ""
            },
            "colorscale": [
             [
              0,
              "#0d0887"
             ],
             [
              0.1111111111111111,
              "#46039f"
             ],
             [
              0.2222222222222222,
              "#7201a8"
             ],
             [
              0.3333333333333333,
              "#9c179e"
             ],
             [
              0.4444444444444444,
              "#bd3786"
             ],
             [
              0.5555555555555556,
              "#d8576b"
             ],
             [
              0.6666666666666666,
              "#ed7953"
             ],
             [
              0.7777777777777778,
              "#fb9f3a"
             ],
             [
              0.8888888888888888,
              "#fdca26"
             ],
             [
              1,
              "#f0f921"
             ]
            ],
            "type": "heatmapgl"
           }
          ],
          "histogram": [
           {
            "marker": {
             "pattern": {
              "fillmode": "overlay",
              "size": 10,
              "solidity": 0.2
             }
            },
            "type": "histogram"
           }
          ],
          "histogram2d": [
           {
            "colorbar": {
             "outlinewidth": 0,
             "ticks": ""
            },
            "colorscale": [
             [
              0,
              "#0d0887"
             ],
             [
              0.1111111111111111,
              "#46039f"
             ],
             [
              0.2222222222222222,
              "#7201a8"
             ],
             [
              0.3333333333333333,
              "#9c179e"
             ],
             [
              0.4444444444444444,
              "#bd3786"
             ],
             [
              0.5555555555555556,
              "#d8576b"
             ],
             [
              0.6666666666666666,
              "#ed7953"
             ],
             [
              0.7777777777777778,
              "#fb9f3a"
             ],
             [
              0.8888888888888888,
              "#fdca26"
             ],
             [
              1,
              "#f0f921"
             ]
            ],
            "type": "histogram2d"
           }
          ],
          "histogram2dcontour": [
           {
            "colorbar": {
             "outlinewidth": 0,
             "ticks": ""
            },
            "colorscale": [
             [
              0,
              "#0d0887"
             ],
             [
              0.1111111111111111,
              "#46039f"
             ],
             [
              0.2222222222222222,
              "#7201a8"
             ],
             [
              0.3333333333333333,
              "#9c179e"
             ],
             [
              0.4444444444444444,
              "#bd3786"
             ],
             [
              0.5555555555555556,
              "#d8576b"
             ],
             [
              0.6666666666666666,
              "#ed7953"
             ],
             [
              0.7777777777777778,
              "#fb9f3a"
             ],
             [
              0.8888888888888888,
              "#fdca26"
             ],
             [
              1,
              "#f0f921"
             ]
            ],
            "type": "histogram2dcontour"
           }
          ],
          "mesh3d": [
           {
            "colorbar": {
             "outlinewidth": 0,
             "ticks": ""
            },
            "type": "mesh3d"
           }
          ],
          "parcoords": [
           {
            "line": {
             "colorbar": {
              "outlinewidth": 0,
              "ticks": ""
             }
            },
            "type": "parcoords"
           }
          ],
          "pie": [
           {
            "automargin": true,
            "type": "pie"
           }
          ],
          "scatter": [
           {
            "fillpattern": {
             "fillmode": "overlay",
             "size": 10,
             "solidity": 0.2
            },
            "type": "scatter"
           }
          ],
          "scatter3d": [
           {
            "line": {
             "colorbar": {
              "outlinewidth": 0,
              "ticks": ""
             }
            },
            "marker": {
             "colorbar": {
              "outlinewidth": 0,
              "ticks": ""
             }
            },
            "type": "scatter3d"
           }
          ],
          "scattercarpet": [
           {
            "marker": {
             "colorbar": {
              "outlinewidth": 0,
              "ticks": ""
             }
            },
            "type": "scattercarpet"
           }
          ],
          "scattergeo": [
           {
            "marker": {
             "colorbar": {
              "outlinewidth": 0,
              "ticks": ""
             }
            },
            "type": "scattergeo"
           }
          ],
          "scattergl": [
           {
            "marker": {
             "colorbar": {
              "outlinewidth": 0,
              "ticks": ""
             }
            },
            "type": "scattergl"
           }
          ],
          "scattermapbox": [
           {
            "marker": {
             "colorbar": {
              "outlinewidth": 0,
              "ticks": ""
             }
            },
            "type": "scattermapbox"
           }
          ],
          "scatterpolar": [
           {
            "marker": {
             "colorbar": {
              "outlinewidth": 0,
              "ticks": ""
             }
            },
            "type": "scatterpolar"
           }
          ],
          "scatterpolargl": [
           {
            "marker": {
             "colorbar": {
              "outlinewidth": 0,
              "ticks": ""
             }
            },
            "type": "scatterpolargl"
           }
          ],
          "scatterternary": [
           {
            "marker": {
             "colorbar": {
              "outlinewidth": 0,
              "ticks": ""
             }
            },
            "type": "scatterternary"
           }
          ],
          "surface": [
           {
            "colorbar": {
             "outlinewidth": 0,
             "ticks": ""
            },
            "colorscale": [
             [
              0,
              "#0d0887"
             ],
             [
              0.1111111111111111,
              "#46039f"
             ],
             [
              0.2222222222222222,
              "#7201a8"
             ],
             [
              0.3333333333333333,
              "#9c179e"
             ],
             [
              0.4444444444444444,
              "#bd3786"
             ],
             [
              0.5555555555555556,
              "#d8576b"
             ],
             [
              0.6666666666666666,
              "#ed7953"
             ],
             [
              0.7777777777777778,
              "#fb9f3a"
             ],
             [
              0.8888888888888888,
              "#fdca26"
             ],
             [
              1,
              "#f0f921"
             ]
            ],
            "type": "surface"
           }
          ],
          "table": [
           {
            "cells": {
             "fill": {
              "color": "#EBF0F8"
             },
             "line": {
              "color": "white"
             }
            },
            "header": {
             "fill": {
              "color": "#C8D4E3"
             },
             "line": {
              "color": "white"
             }
            },
            "type": "table"
           }
          ]
         },
         "layout": {
          "annotationdefaults": {
           "arrowcolor": "#2a3f5f",
           "arrowhead": 0,
           "arrowwidth": 1
          },
          "autotypenumbers": "strict",
          "coloraxis": {
           "colorbar": {
            "outlinewidth": 0,
            "ticks": ""
           }
          },
          "colorscale": {
           "diverging": [
            [
             0,
             "#8e0152"
            ],
            [
             0.1,
             "#c51b7d"
            ],
            [
             0.2,
             "#de77ae"
            ],
            [
             0.3,
             "#f1b6da"
            ],
            [
             0.4,
             "#fde0ef"
            ],
            [
             0.5,
             "#f7f7f7"
            ],
            [
             0.6,
             "#e6f5d0"
            ],
            [
             0.7,
             "#b8e186"
            ],
            [
             0.8,
             "#7fbc41"
            ],
            [
             0.9,
             "#4d9221"
            ],
            [
             1,
             "#276419"
            ]
           ],
           "sequential": [
            [
             0,
             "#0d0887"
            ],
            [
             0.1111111111111111,
             "#46039f"
            ],
            [
             0.2222222222222222,
             "#7201a8"
            ],
            [
             0.3333333333333333,
             "#9c179e"
            ],
            [
             0.4444444444444444,
             "#bd3786"
            ],
            [
             0.5555555555555556,
             "#d8576b"
            ],
            [
             0.6666666666666666,
             "#ed7953"
            ],
            [
             0.7777777777777778,
             "#fb9f3a"
            ],
            [
             0.8888888888888888,
             "#fdca26"
            ],
            [
             1,
             "#f0f921"
            ]
           ],
           "sequentialminus": [
            [
             0,
             "#0d0887"
            ],
            [
             0.1111111111111111,
             "#46039f"
            ],
            [
             0.2222222222222222,
             "#7201a8"
            ],
            [
             0.3333333333333333,
             "#9c179e"
            ],
            [
             0.4444444444444444,
             "#bd3786"
            ],
            [
             0.5555555555555556,
             "#d8576b"
            ],
            [
             0.6666666666666666,
             "#ed7953"
            ],
            [
             0.7777777777777778,
             "#fb9f3a"
            ],
            [
             0.8888888888888888,
             "#fdca26"
            ],
            [
             1,
             "#f0f921"
            ]
           ]
          },
          "colorway": [
           "#636efa",
           "#EF553B",
           "#00cc96",
           "#ab63fa",
           "#FFA15A",
           "#19d3f3",
           "#FF6692",
           "#B6E880",
           "#FF97FF",
           "#FECB52"
          ],
          "font": {
           "color": "#2a3f5f"
          },
          "geo": {
           "bgcolor": "white",
           "lakecolor": "white",
           "landcolor": "#E5ECF6",
           "showlakes": true,
           "showland": true,
           "subunitcolor": "white"
          },
          "hoverlabel": {
           "align": "left"
          },
          "hovermode": "closest",
          "mapbox": {
           "style": "light"
          },
          "paper_bgcolor": "white",
          "plot_bgcolor": "#E5ECF6",
          "polar": {
           "angularaxis": {
            "gridcolor": "white",
            "linecolor": "white",
            "ticks": ""
           },
           "bgcolor": "#E5ECF6",
           "radialaxis": {
            "gridcolor": "white",
            "linecolor": "white",
            "ticks": ""
           }
          },
          "scene": {
           "xaxis": {
            "backgroundcolor": "#E5ECF6",
            "gridcolor": "white",
            "gridwidth": 2,
            "linecolor": "white",
            "showbackground": true,
            "ticks": "",
            "zerolinecolor": "white"
           },
           "yaxis": {
            "backgroundcolor": "#E5ECF6",
            "gridcolor": "white",
            "gridwidth": 2,
            "linecolor": "white",
            "showbackground": true,
            "ticks": "",
            "zerolinecolor": "white"
           },
           "zaxis": {
            "backgroundcolor": "#E5ECF6",
            "gridcolor": "white",
            "gridwidth": 2,
            "linecolor": "white",
            "showbackground": true,
            "ticks": "",
            "zerolinecolor": "white"
           }
          },
          "shapedefaults": {
           "line": {
            "color": "#2a3f5f"
           }
          },
          "ternary": {
           "aaxis": {
            "gridcolor": "white",
            "linecolor": "white",
            "ticks": ""
           },
           "baxis": {
            "gridcolor": "white",
            "linecolor": "white",
            "ticks": ""
           },
           "bgcolor": "#E5ECF6",
           "caxis": {
            "gridcolor": "white",
            "linecolor": "white",
            "ticks": ""
           }
          },
          "title": {
           "x": 0.05
          },
          "xaxis": {
           "automargin": true,
           "gridcolor": "white",
           "linecolor": "white",
           "ticks": "",
           "title": {
            "standoff": 15
           },
           "zerolinecolor": "white",
           "zerolinewidth": 2
          },
          "yaxis": {
           "automargin": true,
           "gridcolor": "white",
           "linecolor": "white",
           "ticks": "",
           "title": {
            "standoff": 15
           },
           "zerolinecolor": "white",
           "zerolinewidth": 2
          }
         }
        },
        "title": {
         "text": "Per-entity recall for transformers_model"
        },
        "xaxis": {
         "anchor": "y",
         "domain": [
          0,
          1
         ],
         "linecolor": "#BCCCDC",
         "showgrid": false,
         "title": {
          "text": "PII entity"
         }
        },
        "yaxis": {
         "anchor": "x",
         "categoryorder": "total ascending",
         "domain": [
          0,
          1
         ],
         "linecolor": "#BCCCDC",
         "showgrid": false,
         "title": {
          "text": "recall"
         }
        }
       }
      }
     },
     "metadata": {},
     "output_type": "display_data"
    },
    {
     "data": {
      "application/vnd.plotly.v1+json": {
       "config": {
        "plotlyServerURL": "https://plot.ly"
       },
       "data": [
        {
         "alignmentgroup": "True",
         "cliponaxis": false,
         "hovertemplate": "precision=%{x}<br>entity=%{y}<br>count=%{marker.color}<extra></extra>",
         "legendgroup": "",
         "marker": {
          "color": [
           0,
           319,
           152,
           545,
           850,
           0,
           1105,
           165,
           1191,
           0,
           0,
           804,
           1449,
           0,
           146,
           6880,
           480,
           2132,
           1047,
           224,
           334,
           0,
           798,
           847,
           0,
           567,
           557,
           565,
           297,
           182,
           466,
           2671,
           294,
           882,
           497,
           906,
           0,
           993,
           0,
           1023,
           677,
           184,
           313,
           395,
           157,
           1515,
           561,
           3389,
           921,
           191,
           0,
           1068,
           555,
           410,
           552,
           594,
           1719,
           657,
           550,
           557,
           782,
           493,
           970,
           1891,
           479,
           902,
           49850
          ],
          "coloraxis": "coloraxis",
          "pattern": {
           "shape": ""
          }
         },
         "name": "",
         "offsetgroup": "",
         "orientation": "h",
         "showlegend": false,
         "textangle": 0,
         "textfont": {
          "size": 12
         },
         "textposition": "outside",
         "texttemplate": "%{x:.2}",
         "type": "bar",
         "x": [
          0,
          0.5072992700729927,
          0.33967391304347827,
          0.8407643312101911,
          0.8379721669980119,
          0,
          0.9076479076479076,
          0.8266666666666667,
          1,
          0,
          0,
          0.8307086614173228,
          0.9553752535496958,
          0,
          0.5662650602409639,
          0.9994153756211634,
          null,
          0.7330567081604425,
          0.9691300280636108,
          null,
          1,
          0,
          0.983502538071066,
          0.5215089344804765,
          0,
          0.2622549019607843,
          0.76,
          0.3903868698710434,
          0.9964539007092199,
          0.7391304347826086,
          0.8172043010752689,
          0.8622112211221122,
          null,
          null,
          0.5892617449664429,
          0.9822834645669292,
          0,
          0.9550561797752809,
          0,
          0.9094540612516645,
          0.7459138187221397,
          0.6376146788990825,
          0.900990099009901,
          0.5039164490861618,
          0.7297297297297297,
          0.5346534653465347,
          0.8941441441441441,
          0.8041083655849955,
          0.7755972696245734,
          0.75,
          0,
          null,
          0.8336252189141856,
          0.27873563218390807,
          0.5495495495495496,
          1,
          0.9833333333333333,
          0.9271317829457364,
          0.9963436928702011,
          0.8854166666666666,
          0.652050919377652,
          0.10526315789473684,
          0.8614393125671321,
          0.9954128440366973,
          0.9205955334987593,
          0.6542261251372119,
          0.9877715406606706
         ],
         "xaxis": "x",
         "y": [
          "PHONE_NUMBER",
          "CURRENCYNAME",
          "PIN",
          "SEX",
          "TIME",
          "DISPLAYNAME",
          "STREET",
          "VEHICLEVIN",
          "PHONENUMBER",
          "STREETADDRESS",
          "COMPANY_NAME",
          "COUNTY",
          "ACCOUNTNAME",
          "SUFFIX",
          "CURRENCYCODE",
          "USERAGENT",
          "AGE",
          "DATE",
          "SECONDARYADDRESS",
          "ORDINALDIRECTION",
          "HEIGHT",
          "NAME",
          "EMAIL",
          "CITY",
          "FULLNAME",
          "ACCOUNTNUMBER",
          "IPV4",
          "MIDDLENAME",
          "ETHEREUMADDRESS",
          "CREDITCARDCVV",
          "AMOUNT",
          "FIRSTNAME",
          "EYECOLOR",
          "DOB",
          "CURRENCYSYMBOL",
          "GENDER",
          "NUMBER",
          "USERNAME",
          "JOBDESCRIPTOR",
          "LASTNAME",
          "CURRENCY",
          "VEHICLEVRM",
          "CREDITCARDISSUER",
          "IBAN",
          "BIC",
          "IP",
          "JOBTYPE",
          "IPV6",
          "MAC",
          "LITECOINADDRESS",
          "SEXTYPE",
          "COMPANYNAME",
          "PASSWORD",
          "MASKEDNUMBER",
          "BUILDINGNUMBER",
          "NEARBYGPSCOORDINATE",
          "JOBTITLE",
          "PREFIX",
          "URL",
          "JOBAREA",
          "STATE",
          "CREDITCARDNUMBER",
          "ZIPCODE",
          "PHONEIMEI",
          "BITCOINADDRESS",
          "SSN",
          "PII"
         ],
         "yaxis": "y"
        }
       ],
       "layout": {
        "annotations": [
         {
          "font": {
           "color": "gray",
           "size": 12
          },
          "showarrow": false,
          "text": "Entity precision values also consider mismatches between different entity types, not just misclassified PII values\n",
          "x": 0.5,
          "xref": "paper",
          "y": 1.1,
          "yref": "paper"
         }
        ],
        "barmode": "group",
        "coloraxis": {
         "colorbar": {
          "title": {
           "text": "count"
          }
         },
         "colorscale": [
          [
           0,
           "#0d0887"
          ],
          [
           0.1111111111111111,
           "#46039f"
          ],
          [
           0.2222222222222222,
           "#7201a8"
          ],
          [
           0.3333333333333333,
           "#9c179e"
          ],
          [
           0.4444444444444444,
           "#bd3786"
          ],
          [
           0.5555555555555556,
           "#d8576b"
          ],
          [
           0.6666666666666666,
           "#ed7953"
          ],
          [
           0.7777777777777778,
           "#fb9f3a"
          ],
          [
           0.8888888888888888,
           "#fdca26"
          ],
          [
           1,
           "#f0f921"
          ]
         ]
        },
        "height": 2010,
        "legend": {
         "tracegroupgap": 0
        },
        "plot_bgcolor": "#FFF",
        "template": {
         "data": {
          "bar": [
           {
            "error_x": {
             "color": "#2a3f5f"
            },
            "error_y": {
             "color": "#2a3f5f"
            },
            "marker": {
             "line": {
              "color": "#E5ECF6",
              "width": 0.5
             },
             "pattern": {
              "fillmode": "overlay",
              "size": 10,
              "solidity": 0.2
             }
            },
            "type": "bar"
           }
          ],
          "barpolar": [
           {
            "marker": {
             "line": {
              "color": "#E5ECF6",
              "width": 0.5
             },
             "pattern": {
              "fillmode": "overlay",
              "size": 10,
              "solidity": 0.2
             }
            },
            "type": "barpolar"
           }
          ],
          "carpet": [
           {
            "aaxis": {
             "endlinecolor": "#2a3f5f",
             "gridcolor": "white",
             "linecolor": "white",
             "minorgridcolor": "white",
             "startlinecolor": "#2a3f5f"
            },
            "baxis": {
             "endlinecolor": "#2a3f5f",
             "gridcolor": "white",
             "linecolor": "white",
             "minorgridcolor": "white",
             "startlinecolor": "#2a3f5f"
            },
            "type": "carpet"
           }
          ],
          "choropleth": [
           {
            "colorbar": {
             "outlinewidth": 0,
             "ticks": ""
            },
            "type": "choropleth"
           }
          ],
          "contour": [
           {
            "colorbar": {
             "outlinewidth": 0,
             "ticks": ""
            },
            "colorscale": [
             [
              0,
              "#0d0887"
             ],
             [
              0.1111111111111111,
              "#46039f"
             ],
             [
              0.2222222222222222,
              "#7201a8"
             ],
             [
              0.3333333333333333,
              "#9c179e"
             ],
             [
              0.4444444444444444,
              "#bd3786"
             ],
             [
              0.5555555555555556,
              "#d8576b"
             ],
             [
              0.6666666666666666,
              "#ed7953"
             ],
             [
              0.7777777777777778,
              "#fb9f3a"
             ],
             [
              0.8888888888888888,
              "#fdca26"
             ],
             [
              1,
              "#f0f921"
             ]
            ],
            "type": "contour"
           }
          ],
          "contourcarpet": [
           {
            "colorbar": {
             "outlinewidth": 0,
             "ticks": ""
            },
            "type": "contourcarpet"
           }
          ],
          "heatmap": [
           {
            "colorbar": {
             "outlinewidth": 0,
             "ticks": ""
            },
            "colorscale": [
             [
              0,
              "#0d0887"
             ],
             [
              0.1111111111111111,
              "#46039f"
             ],
             [
              0.2222222222222222,
              "#7201a8"
             ],
             [
              0.3333333333333333,
              "#9c179e"
             ],
             [
              0.4444444444444444,
              "#bd3786"
             ],
             [
              0.5555555555555556,
              "#d8576b"
             ],
             [
              0.6666666666666666,
              "#ed7953"
             ],
             [
              0.7777777777777778,
              "#fb9f3a"
             ],
             [
              0.8888888888888888,
              "#fdca26"
             ],
             [
              1,
              "#f0f921"
             ]
            ],
            "type": "heatmap"
           }
          ],
          "heatmapgl": [
           {
            "colorbar": {
             "outlinewidth": 0,
             "ticks": ""
            },
            "colorscale": [
             [
              0,
              "#0d0887"
             ],
             [
              0.1111111111111111,
              "#46039f"
             ],
             [
              0.2222222222222222,
              "#7201a8"
             ],
             [
              0.3333333333333333,
              "#9c179e"
             ],
             [
              0.4444444444444444,
              "#bd3786"
             ],
             [
              0.5555555555555556,
              "#d8576b"
             ],
             [
              0.6666666666666666,
              "#ed7953"
             ],
             [
              0.7777777777777778,
              "#fb9f3a"
             ],
             [
              0.8888888888888888,
              "#fdca26"
             ],
             [
              1,
              "#f0f921"
             ]
            ],
            "type": "heatmapgl"
           }
          ],
          "histogram": [
           {
            "marker": {
             "pattern": {
              "fillmode": "overlay",
              "size": 10,
              "solidity": 0.2
             }
            },
            "type": "histogram"
           }
          ],
          "histogram2d": [
           {
            "colorbar": {
             "outlinewidth": 0,
             "ticks": ""
            },
            "colorscale": [
             [
              0,
              "#0d0887"
             ],
             [
              0.1111111111111111,
              "#46039f"
             ],
             [
              0.2222222222222222,
              "#7201a8"
             ],
             [
              0.3333333333333333,
              "#9c179e"
             ],
             [
              0.4444444444444444,
              "#bd3786"
             ],
             [
              0.5555555555555556,
              "#d8576b"
             ],
             [
              0.6666666666666666,
              "#ed7953"
             ],
             [
              0.7777777777777778,
              "#fb9f3a"
             ],
             [
              0.8888888888888888,
              "#fdca26"
             ],
             [
              1,
              "#f0f921"
             ]
            ],
            "type": "histogram2d"
           }
          ],
          "histogram2dcontour": [
           {
            "colorbar": {
             "outlinewidth": 0,
             "ticks": ""
            },
            "colorscale": [
             [
              0,
              "#0d0887"
             ],
             [
              0.1111111111111111,
              "#46039f"
             ],
             [
              0.2222222222222222,
              "#7201a8"
             ],
             [
              0.3333333333333333,
              "#9c179e"
             ],
             [
              0.4444444444444444,
              "#bd3786"
             ],
             [
              0.5555555555555556,
              "#d8576b"
             ],
             [
              0.6666666666666666,
              "#ed7953"
             ],
             [
              0.7777777777777778,
              "#fb9f3a"
             ],
             [
              0.8888888888888888,
              "#fdca26"
             ],
             [
              1,
              "#f0f921"
             ]
            ],
            "type": "histogram2dcontour"
           }
          ],
          "mesh3d": [
           {
            "colorbar": {
             "outlinewidth": 0,
             "ticks": ""
            },
            "type": "mesh3d"
           }
          ],
          "parcoords": [
           {
            "line": {
             "colorbar": {
              "outlinewidth": 0,
              "ticks": ""
             }
            },
            "type": "parcoords"
           }
          ],
          "pie": [
           {
            "automargin": true,
            "type": "pie"
           }
          ],
          "scatter": [
           {
            "fillpattern": {
             "fillmode": "overlay",
             "size": 10,
             "solidity": 0.2
            },
            "type": "scatter"
           }
          ],
          "scatter3d": [
           {
            "line": {
             "colorbar": {
              "outlinewidth": 0,
              "ticks": ""
             }
            },
            "marker": {
             "colorbar": {
              "outlinewidth": 0,
              "ticks": ""
             }
            },
            "type": "scatter3d"
           }
          ],
          "scattercarpet": [
           {
            "marker": {
             "colorbar": {
              "outlinewidth": 0,
              "ticks": ""
             }
            },
            "type": "scattercarpet"
           }
          ],
          "scattergeo": [
           {
            "marker": {
             "colorbar": {
              "outlinewidth": 0,
              "ticks": ""
             }
            },
            "type": "scattergeo"
           }
          ],
          "scattergl": [
           {
            "marker": {
             "colorbar": {
              "outlinewidth": 0,
              "ticks": ""
             }
            },
            "type": "scattergl"
           }
          ],
          "scattermapbox": [
           {
            "marker": {
             "colorbar": {
              "outlinewidth": 0,
              "ticks": ""
             }
            },
            "type": "scattermapbox"
           }
          ],
          "scatterpolar": [
           {
            "marker": {
             "colorbar": {
              "outlinewidth": 0,
              "ticks": ""
             }
            },
            "type": "scatterpolar"
           }
          ],
          "scatterpolargl": [
           {
            "marker": {
             "colorbar": {
              "outlinewidth": 0,
              "ticks": ""
             }
            },
            "type": "scatterpolargl"
           }
          ],
          "scatterternary": [
           {
            "marker": {
             "colorbar": {
              "outlinewidth": 0,
              "ticks": ""
             }
            },
            "type": "scatterternary"
           }
          ],
          "surface": [
           {
            "colorbar": {
             "outlinewidth": 0,
             "ticks": ""
            },
            "colorscale": [
             [
              0,
              "#0d0887"
             ],
             [
              0.1111111111111111,
              "#46039f"
             ],
             [
              0.2222222222222222,
              "#7201a8"
             ],
             [
              0.3333333333333333,
              "#9c179e"
             ],
             [
              0.4444444444444444,
              "#bd3786"
             ],
             [
              0.5555555555555556,
              "#d8576b"
             ],
             [
              0.6666666666666666,
              "#ed7953"
             ],
             [
              0.7777777777777778,
              "#fb9f3a"
             ],
             [
              0.8888888888888888,
              "#fdca26"
             ],
             [
              1,
              "#f0f921"
             ]
            ],
            "type": "surface"
           }
          ],
          "table": [
           {
            "cells": {
             "fill": {
              "color": "#EBF0F8"
             },
             "line": {
              "color": "white"
             }
            },
            "header": {
             "fill": {
              "color": "#C8D4E3"
             },
             "line": {
              "color": "white"
             }
            },
            "type": "table"
           }
          ]
         },
         "layout": {
          "annotationdefaults": {
           "arrowcolor": "#2a3f5f",
           "arrowhead": 0,
           "arrowwidth": 1
          },
          "autotypenumbers": "strict",
          "coloraxis": {
           "colorbar": {
            "outlinewidth": 0,
            "ticks": ""
           }
          },
          "colorscale": {
           "diverging": [
            [
             0,
             "#8e0152"
            ],
            [
             0.1,
             "#c51b7d"
            ],
            [
             0.2,
             "#de77ae"
            ],
            [
             0.3,
             "#f1b6da"
            ],
            [
             0.4,
             "#fde0ef"
            ],
            [
             0.5,
             "#f7f7f7"
            ],
            [
             0.6,
             "#e6f5d0"
            ],
            [
             0.7,
             "#b8e186"
            ],
            [
             0.8,
             "#7fbc41"
            ],
            [
             0.9,
             "#4d9221"
            ],
            [
             1,
             "#276419"
            ]
           ],
           "sequential": [
            [
             0,
             "#0d0887"
            ],
            [
             0.1111111111111111,
             "#46039f"
            ],
            [
             0.2222222222222222,
             "#7201a8"
            ],
            [
             0.3333333333333333,
             "#9c179e"
            ],
            [
             0.4444444444444444,
             "#bd3786"
            ],
            [
             0.5555555555555556,
             "#d8576b"
            ],
            [
             0.6666666666666666,
             "#ed7953"
            ],
            [
             0.7777777777777778,
             "#fb9f3a"
            ],
            [
             0.8888888888888888,
             "#fdca26"
            ],
            [
             1,
             "#f0f921"
            ]
           ],
           "sequentialminus": [
            [
             0,
             "#0d0887"
            ],
            [
             0.1111111111111111,
             "#46039f"
            ],
            [
             0.2222222222222222,
             "#7201a8"
            ],
            [
             0.3333333333333333,
             "#9c179e"
            ],
            [
             0.4444444444444444,
             "#bd3786"
            ],
            [
             0.5555555555555556,
             "#d8576b"
            ],
            [
             0.6666666666666666,
             "#ed7953"
            ],
            [
             0.7777777777777778,
             "#fb9f3a"
            ],
            [
             0.8888888888888888,
             "#fdca26"
            ],
            [
             1,
             "#f0f921"
            ]
           ]
          },
          "colorway": [
           "#636efa",
           "#EF553B",
           "#00cc96",
           "#ab63fa",
           "#FFA15A",
           "#19d3f3",
           "#FF6692",
           "#B6E880",
           "#FF97FF",
           "#FECB52"
          ],
          "font": {
           "color": "#2a3f5f"
          },
          "geo": {
           "bgcolor": "white",
           "lakecolor": "white",
           "landcolor": "#E5ECF6",
           "showlakes": true,
           "showland": true,
           "subunitcolor": "white"
          },
          "hoverlabel": {
           "align": "left"
          },
          "hovermode": "closest",
          "mapbox": {
           "style": "light"
          },
          "paper_bgcolor": "white",
          "plot_bgcolor": "#E5ECF6",
          "polar": {
           "angularaxis": {
            "gridcolor": "white",
            "linecolor": "white",
            "ticks": ""
           },
           "bgcolor": "#E5ECF6",
           "radialaxis": {
            "gridcolor": "white",
            "linecolor": "white",
            "ticks": ""
           }
          },
          "scene": {
           "xaxis": {
            "backgroundcolor": "#E5ECF6",
            "gridcolor": "white",
            "gridwidth": 2,
            "linecolor": "white",
            "showbackground": true,
            "ticks": "",
            "zerolinecolor": "white"
           },
           "yaxis": {
            "backgroundcolor": "#E5ECF6",
            "gridcolor": "white",
            "gridwidth": 2,
            "linecolor": "white",
            "showbackground": true,
            "ticks": "",
            "zerolinecolor": "white"
           },
           "zaxis": {
            "backgroundcolor": "#E5ECF6",
            "gridcolor": "white",
            "gridwidth": 2,
            "linecolor": "white",
            "showbackground": true,
            "ticks": "",
            "zerolinecolor": "white"
           }
          },
          "shapedefaults": {
           "line": {
            "color": "#2a3f5f"
           }
          },
          "ternary": {
           "aaxis": {
            "gridcolor": "white",
            "linecolor": "white",
            "ticks": ""
           },
           "baxis": {
            "gridcolor": "white",
            "linecolor": "white",
            "ticks": ""
           },
           "bgcolor": "#E5ECF6",
           "caxis": {
            "gridcolor": "white",
            "linecolor": "white",
            "ticks": ""
           }
          },
          "title": {
           "x": 0.05
          },
          "xaxis": {
           "automargin": true,
           "gridcolor": "white",
           "linecolor": "white",
           "ticks": "",
           "title": {
            "standoff": 15
           },
           "zerolinecolor": "white",
           "zerolinewidth": 2
          },
          "yaxis": {
           "automargin": true,
           "gridcolor": "white",
           "linecolor": "white",
           "ticks": "",
           "title": {
            "standoff": 15
           },
           "zerolinecolor": "white",
           "zerolinewidth": 2
          }
         }
        },
        "title": {
         "text": "Per-entity precision for transformers_model"
        },
        "xaxis": {
         "anchor": "y",
         "domain": [
          0,
          1
         ],
         "linecolor": "#BCCCDC",
         "showgrid": false,
         "title": {
          "text": "PII entity"
         }
        },
        "yaxis": {
         "anchor": "x",
         "categoryorder": "total ascending",
         "domain": [
          0,
          1
         ],
         "linecolor": "#BCCCDC",
         "showgrid": false,
         "title": {
          "text": "precision"
         }
        }
       }
      }
     },
     "metadata": {},
     "output_type": "display_data"
    }
   ],
   "source": [
    "plotter.plot_scores()"
   ]
  },
  {
   "cell_type": "code",
   "execution_count": 9,
   "metadata": {},
   "outputs": [],
   "source": [
    "errors = results.model_errors"
   ]
  },
  {
   "cell_type": "code",
   "execution_count": 10,
   "metadata": {},
   "outputs": [
    {
     "name": "stdout",
     "output_type": "stream",
     "text": [
      "Most common false positive tokens:\n",
      "[('account', 25),\n",
      " ('administrator', 11),\n",
      " ('based', 10),\n",
      " ('Dr.', 9),\n",
      " ('female', 8),\n",
      " ('wing', 8),\n",
      " ('web', 7),\n",
      " ('...', 7),\n",
      " ('group', 6),\n",
      " ('BIC', 6)]\n",
      "---------------\n",
      "Example sentence with each FP token:\n",
      "\t- Dear Buford, we observe multiple sign-in attempts for your distance learning account from this IP 150.109.6.243. (`account` pred as ACCOUNTNAME)\n",
      "\t- Reminder for our administrator Randal29: Please ensure that all the IT systems for the new educational centres are prepared. Send system reports to the 6ac2:e55d:6004:7f5e:c22e:1d42:be32:d2d4 for security checks. (`administrator` pred as JOBTYPE)\n",
      "\t- Policy updates are needed on the Liberian Dollar-based grants for the Creative higher education program. Please email a summary of the latest regulations to Dax.Hoeger72@yahoo.com. (`based` pred as CURRENCYNAME)\n",
      "\t- Dr. Tromp, the VIN J1PYWYG3M0KK21974 you provided for your commuter benefit is incorrect. We need the correct information in order to process your application. Could you verify the VIN and send it as soon as possible? (`Dr.` pred as PREFIX)\n",
      "\t- Patient Alize, a female, suffered a minor heart attack and has been admitted to the emergency room. The cost of treatment is substantial. Please contact on this IMEI phone number 74-950066-980194-1 to inquire about payment further. (`female` pred as SEX)\n",
      "\t- We've a critical patient, approximately 70 years old old, requesting transfer to Southeast wing. Please approve ASAP. Patient's family can be reached at [-1.779,-120.4556]. (`wing` pred as CITY)\n",
      "\t- Under compliance law, Administrator must keep records of all web activities. Check https://hideous-stole.org owned by Investment Account. (`web` pred as JOBAREA)\n",
      "\t- Our lost&found location is filled with items, including a number of litecoin and ethereum hardware wallets. If you have lost one, providing addresses (3nSkkQpCecXXN2dUvb6rPzskF4fcExg, 0xaf6e1bd5f9bffa30ca06c0d50dd9d45b9accdc0f...) would expedite the return. (`...` pred as ETHEREUMADDRESS)\n",
      "\t- The pharmacogenomic study, with special focus on 47 group, has highlighted some genetic variants for future research. Preliminary findings can be found on the internal network (access Mac 36:d5:53:ff:dc:58). (`group` pred as NAME)\n",
      "\t- Hi Javonte, your Home Loan Account shows an abnormal amount of $U90211. If not authorized, call us on (18) 9170.1440 & don't forget to mention BIC: YRSMKZ5I. (`BIC` pred as BIC)\n"
     ]
    },
    {
     "data": {
      "text/plain": [
       "[('account', 25),\n",
       " ('administrator', 11),\n",
       " ('based', 10),\n",
       " ('Dr.', 9),\n",
       " ('female', 8),\n",
       " ('wing', 8),\n",
       " ('web', 7),\n",
       " ('...', 7),\n",
       " ('group', 6),\n",
       " ('BIC', 6)]"
      ]
     },
     "execution_count": 10,
     "metadata": {},
     "output_type": "execute_result"
    }
   ],
   "source": [
    "ModelError.most_common_fp_tokens(errors)"
   ]
  },
  {
   "cell_type": "code",
   "execution_count": 11,
   "metadata": {},
   "outputs": [
    {
     "name": "stdout",
     "output_type": "stream",
     "text": [
      "Most common false negative tokens:\n",
      "[('County', 194),\n",
      " ('Eye', 64),\n",
      " ('color', 64),\n",
      " ('Dr.', 51),\n",
      " ('Northwest', 37),\n",
      " ('Northeast', 32),\n",
      " ('Consultant', 30),\n",
      " ('Interactions', 27),\n",
      " ('Southeast', 26),\n",
      " ('Orchestrator', 25),\n",
      " ('Assurance', 25),\n",
      " ('Facilitator', 22),\n",
      " ('LLC', 22),\n",
      " ('Intranet', 22),\n",
      " ('Grey', 22),\n",
      " ('person', 22),\n",
      " ('Southwest', 20),\n",
      " ('Liaison', 20),\n",
      " ('Female', 19),\n",
      " ('Brown', 19),\n",
      " ('Green', 18),\n",
      " ('inches', 18),\n",
      " ('Paradigm', 18),\n",
      " ('feet', 17),\n",
      " ('Functionality', 17),\n",
      " ('visa', 16),\n",
      " ('Gender', 16),\n",
      " ('Planner', 15),\n",
      " ('Mozilla/5.0', 15),\n",
      " ('Transexual', 14),\n",
      " ('1', 12),\n",
      " ('Research', 12),\n",
      " ('Marketing', 11),\n",
      " ('Cisgender', 11),\n",
      " ('Optimization', 11),\n",
      " ('Branding', 11),\n",
      " ('cm', 11),\n",
      " ('Communications', 11),\n",
      " ('Usability', 10),\n",
      " ('Account', 10),\n",
      " ('Blue', 10),\n",
      " ('compatible', 10),\n",
      " ('m', 10),\n",
      " ('8', 10),\n",
      " ('Amber', 10),\n",
      " ('4', 10),\n",
      " ('Officer', 10),\n",
      " ('Program', 10),\n",
      " ('Operations', 9),\n",
      " ('5', 9)]\n",
      "---------------\n",
      "Example sentence with each FN token:\n",
      "\t- I've arranged for a meeting with Grant County health officials in Suite Apt. 119. Let's prepare a presentation showcasing our infrastructure and patient care. (`County` annotated as COUNTY)\n",
      "\t- Good evening, Leonie. The mentorship program is open to everyone. By virtue of your contribution as a National Solutions Specialist, we'd love for you to mentor other individuals. I believe your Eye color: Green witness vision that others don't. (`Eye` annotated as EYECOLOR)\n",
      "\t- Good evening, Leonie. The mentorship program is open to everyone. By virtue of your contribution as a National Solutions Specialist, we'd love for you to mentor other individuals. I believe your Eye color: Green witness vision that others don't. (`color` annotated as EYECOLOR)\n",
      "\t- Hello Dr., your Existential Therapy session is at 7. The session cost is New Leu770653.02 payable using visa card number 8722141716190634. (`Dr.` annotated as PREFIX)\n",
      "\t- For the appointment at our sports clinic, route the patient from Hamburg towards the Northwest wing. (`Northwest` annotated as ORDINALDIRECTION)\n",
      "\t- Spotting a vehicle KHZXEFL3WWA415987 in the Northeast of our quarantine location. Can someone verify its purpose? (`Northeast` annotated as ORDINALDIRECTION)\n",
      "\t- We’ve had breakthrough in diagnostic technology as per Consultant Nico Rath. The details can be accessed from https://vivid-processing.name. Please verify the system with the Mozilla/5.0 (compatible; MSIE 10.0; Windows NT 6.2; Trident/3.1; .NET CLR 3.7.26850.4). (`Consultant` annotated as JOBTYPE)\n",
      "\t- 20. Send 0.5652m to Bitcoin address 3w71vqHtuMTEHW1RFDqkAqJyaifMEh, for services in Interactions. (`Interactions` annotated as JOBAREA)\n",
      "\t- Greetings, Alf. Please check Parcel KU64MYT in the Southeast of the city. A new shipment of educational technology has arrived. (`Southeast` annotated as ORDINALDIRECTION)\n",
      "\t- Collecting data from Bigender aged 32. Works as Customer Factors Orchestrator located at East Jadatown, Molise. Email: Vinnie_Grant@gmail.com for details. (`Orchestrator` annotated as JOBTITLE)\n",
      "\t- Dear Central Identity Orchestrator, We appreciated your recent humanistic therapy talk at our virtual conference. We are hosting a follow-up session and would like to hear more about the therapeutic interactions and key aspects relevant to our Assurance. Could you please confirm your availability on 1/04 9:33 AM by sending a reply to Jammie3@yahoo.com? (`Assurance` annotated as JOBAREA)\n",
      "\t- Dear Parents, In an effort to improve the environment within our school, we are seeking feedback on our uniform policy. You may submit your suggestions to Alexandria_Maggio@gmail.com, and we are especially interested in hearing from our Global Usability Facilitator, Dominic Padberg. (`Facilitator` annotated as JOBTITLE)\n",
      "\t- Payment was processed from IP address 235.116.156.101 at 4 o'clock. The payment included a strange note referring to McClure LLC (`LLC` annotated as COMPANYNAME)\n",
      "\t- In our upcoming Social Psychology webinar on 7th November, we'll discuss the impact of different job areas, such as Research and Intranet, on social behavior. (`Intranet` annotated as JOBAREA)\n",
      "\t- Psychoanalyst appointment for Greyson, September 13, 1919,Homenickshire resident with green eyes Eye color: Grey. Refer to client's file for more context. (`Grey` annotated as EYECOLOR)\n",
      "\t- Good day, I'm Mariano_Stiedemann, a Transgender person residing in 81565 E Water Street. I am born on 3/79 and my SSN is 337 37 3359. I need your professional advice on immigration policies. (`person` annotated as GENDER)\n",
      "\t- Need your 086 9230 6023 to coordinate a meet regarding optimizations for our diagnostic tech. We're at 25192, it's to the Southwest. (`Southwest` annotated as ORDINALDIRECTION)\n",
      "\t- We're a forward-thinking university in Henry County, Virginia looking to usher in the future of higher education. We think an experienced Liaison like August could provide valuable insights into our policy update. (`Liaison` annotated as JOBTYPE)\n",
      "\t- We encourage the parents to engage in discussion with their children about what we cover in class, especially related to understanding of both Female and Female. (`Female` annotated as SEX)\n",
      "\t- I'm a therapist and Hiram has been referred to me for possible anxiety issues. She is of 208cm, Male, and has Brown eyes. She lives at Apt. 283, 16229. (`Brown` annotated as EYECOLOR)\n",
      "\t- Good evening, Leonie. The mentorship program is open to everyone. By virtue of your contribution as a National Solutions Specialist, we'd love for you to mentor other individuals. I believe your Eye color: Green witness vision that others don't. (`Green` annotated as EYECOLOR)\n",
      "\t- Hey Santiago, optimize your wellness routine based on your 3 feet 5 inches. Let us help you make health your first priority. (`inches` annotated as HEIGHT)\n",
      "\t- Dear Ms. Kuhlman, as our Direct Paradigm Liaison, we need you to fill out and return the attached form via email Arnaldo41@hotmail.com to confirm that we have your correct 1eywcYrEfJL3wJv38DUjikvSeHHBGu and 0xaeed0f769e0f98d8a18f84ac73fdae31ddddef46. (`Paradigm` annotated as JOBTITLE)\n",
      "\t- Hey Santiago, optimize your wellness routine based on your 3 feet 5 inches. Let us help you make health your first priority. (`feet` annotated as HEIGHT)\n",
      "\t- Can the Functionality team verify the 25.235.171.122 linked to our Home Loan Account? It seems to be causing an issue with our transactions. (`Functionality` annotated as JOBAREA)\n",
      "\t- Your recently purchased social psychology courses with the visa ending in 2405209516493234. If there are any topics you'd like us to elaborate further in our course materials, we'd appreciate your inputs. (`visa` annotated as CREDITCARDISSUER)\n",
      "\t- Gender variant, Catalina. You are asked to be a keynote speaker on higher education policy updates. Venue: [4.2048,-141.5799]. (`Gender` annotated as GENDER)\n",
      "\t- A report from our Planner revealed missed payments of property tax for 35663729. Please, don't ignore this and make a payment of 211,884.23 KM. (`Planner` annotated as JOBTYPE)\n",
      "\t- Due to COVID, counseling will use online platforms. Please update the school with your email (Jailyn_Rath@gmail.com), IP address (34.253.67.154), and browser version (Mozilla/5.0 (compatible; MSIE 7.0; Windows NT 6.3; Trident/5.1)). (`Mozilla/5.0` annotated as USERAGENT)\n",
      "\t- Can individuals around the age of 79 years join your life skills program? I reckon these skills can be useful to fortify the life journey of my Transexual friend. (`Transexual` annotated as GENDER)\n",
      "\t- I have observed a surge in cases in the Northwest region, particularly affecting the Female gender. This requires immediate attention. I have also noticed a correlation with 1 years old (`1` annotated as AGE)\n",
      "\t- Ms.. Rolfson, we appreciate your valuable work in the Research of Cardiology. To process the payment for your services, we need your american_express credit card number (9481981196784543) and CVV (443). You can reach me at 56-071529-222898-3 for any queries. (`Research` annotated as JOBAREA)\n",
      "\t- Regarding the Marketing, need to monitor 48-888747-917655-5, tracking and reporting on any vulnerabilities found at the 157.1.128.188. (`Marketing` annotated as JOBAREA)\n",
      "\t- Mrs. Hayden Jaden Wolf, a Cisgender woman of 60 residing in Powys, has requested a psychoanalysis session. Please contact her at 04-44.36-10-85. (`Cisgender` annotated as GENDER)\n",
      "\t- The system access from IP: 1fa3:aefe:3413:ce69:0c28:de73:4f5e:de9c seems suspicious. Notably, the job title of the account holder is National Optimization Orchestrator. We urge everyone to keep their credentials secure. (`Optimization` annotated as JOBTITLE)\n",
      "\t- Our Branding has been producing steady sales. I foresee Zloty 61026.20 in sales in North Tabitha by 23/10/2003. Additional data at https://runny-patient.info. (`Branding` annotated as JOBAREA)\n",
      "\t- Our Male to female transsexual woman bodies will go through lots of changes, such as increase in 208 cm. (`cm` annotated as HEIGHT)\n",
      "\t- Dear Male. Your Corporate Communications Consultant has assigned you to Haneton for the EdTech seminar. Please share this info with colleagues via 3QDNWUsY2TWWpzthU8516sziBSKUwwfEmR8VqdiB. (`Communications` annotated as JOBTITLE)\n",
      "\t- Dear Parents, In an effort to improve the environment within our school, we are seeking feedback on our uniform policy. You may submit your suggestions to Alexandria_Maggio@gmail.com, and we are especially interested in hearing from our Global Usability Facilitator, Dominic Padberg. (`Usability` annotated as JOBTITLE)\n",
      "\t- Hello, please send an email to the Parent-Teacher association from your allocated parent email (Checking Account) using the password CI_SCcGr0coN. (`Account` annotated as ACCOUNTNAME)\n",
      "\t- We have arranged an orthopedic specialist for the patient with Blue eyes and 3'10\" height. Please confirm the appointment. (`Blue` annotated as EYECOLOR)\n",
      "\t- Dear Agent in Program, We are conducting a seminar on Infectious Diseases in your city. We'd love to have you. Do reach out to our team via Mozilla/5.0 (compatible; MSIE 10.0; Windows NT 5.2; Trident/4.1). (`compatible` annotated as USERAGENT)\n",
      "\t- As a new member of the team, Nestor, we have set up a monthly contribution of 0.4m Bahamian Dollar for your social benefits, sourced through your company account 17175220. (`m` annotated as AMOUNT)\n",
      "\t- The strategy from Rosemary_Kshlerin has given us a new customer segment, Female, aged 8 years. Please review this input on the Canvas. (`8` annotated as AGE)\n",
      "\t- Good day, our global scholarship program which closes by 12:57pm requires some details for verification, i.e., your 1928-05-24T10:57:00.874Z for age and 91centimeters, Amber for identification. (`Amber` annotated as EYECOLOR)\n",
      "\t- Has ur Female to male transsexual man gotten taller? Send new 6 feet 4 inches measurements to school office for a uniform upgrade. (`4` annotated as HEIGHT)\n",
      "\t- Dear Officer, this is to inform you that, by mistake, your 3924784768845455 was used in making payment for a health informatics course. If you didn't initiate this, please reach out to us immediately from your 2a66:beea:ddcb:658a:a03e:aaef:823d:05c5 connected device. (`Officer` annotated as JOBTYPE)\n",
      "\t- 'District Program Planner', Please contact the participants through their masked numbers e.g., 9899426057214369 to keep their contact information private. (`Program` annotated as JOBTITLE)\n",
      "\t- Requesting assistance in managing the IP related to our Operations projects. Willa Fahey, kindly use Sarah.Schuster55 credentials to log in and oversee. (`Operations` annotated as JOBAREA)\n",
      "\t- Hey Santiago, optimize your wellness routine based on your 3 feet 5 inches. Let us help you make health your first priority. (`5` annotated as HEIGHT)\n"
     ]
    },
    {
     "data": {
      "text/plain": [
       "[('County', 194),\n",
       " ('Eye', 64),\n",
       " ('color', 64),\n",
       " ('Dr.', 51),\n",
       " ('Northwest', 37),\n",
       " ('Northeast', 32),\n",
       " ('Consultant', 30),\n",
       " ('Interactions', 27),\n",
       " ('Southeast', 26),\n",
       " ('Orchestrator', 25),\n",
       " ('Assurance', 25),\n",
       " ('Facilitator', 22),\n",
       " ('LLC', 22),\n",
       " ('Intranet', 22),\n",
       " ('Grey', 22),\n",
       " ('person', 22),\n",
       " ('Southwest', 20),\n",
       " ('Liaison', 20),\n",
       " ('Female', 19),\n",
       " ('Brown', 19),\n",
       " ('Green', 18),\n",
       " ('inches', 18),\n",
       " ('Paradigm', 18),\n",
       " ('feet', 17),\n",
       " ('Functionality', 17),\n",
       " ('visa', 16),\n",
       " ('Gender', 16),\n",
       " ('Planner', 15),\n",
       " ('Mozilla/5.0', 15),\n",
       " ('Transexual', 14),\n",
       " ('1', 12),\n",
       " ('Research', 12),\n",
       " ('Marketing', 11),\n",
       " ('Cisgender', 11),\n",
       " ('Optimization', 11),\n",
       " ('Branding', 11),\n",
       " ('cm', 11),\n",
       " ('Communications', 11),\n",
       " ('Usability', 10),\n",
       " ('Account', 10),\n",
       " ('Blue', 10),\n",
       " ('compatible', 10),\n",
       " ('m', 10),\n",
       " ('8', 10),\n",
       " ('Amber', 10),\n",
       " ('4', 10),\n",
       " ('Officer', 10),\n",
       " ('Program', 10),\n",
       " ('Operations', 9),\n",
       " ('5', 9)]"
      ]
     },
     "execution_count": 11,
     "metadata": {},
     "output_type": "execute_result"
    }
   ],
   "source": [
    "ModelError.most_common_fn_tokens(errors, n=50)"
   ]
  },
  {
   "cell_type": "code",
   "execution_count": 17,
   "metadata": {},
   "outputs": [],
   "source": [
    "fns_df = ModelError.get_fns_dataframe(errors, entity=[\"CREDITCARDNUMBER\"])"
   ]
  },
  {
   "cell_type": "code",
   "execution_count": 18,
   "metadata": {},
   "outputs": [
    {
     "data": {
      "text/html": [
       "<div>\n",
       "<style scoped>\n",
       "    .dataframe tbody tr th:only-of-type {\n",
       "        vertical-align: middle;\n",
       "    }\n",
       "\n",
       "    .dataframe tbody tr th {\n",
       "        vertical-align: top;\n",
       "    }\n",
       "\n",
       "    .dataframe thead th {\n",
       "        text-align: right;\n",
       "    }\n",
       "</style>\n",
       "<table border=\"1\" class=\"dataframe\">\n",
       "  <thead>\n",
       "    <tr style=\"text-align: right;\">\n",
       "      <th></th>\n",
       "      <th>full_text</th>\n",
       "      <th>token</th>\n",
       "      <th>annotation</th>\n",
       "      <th>prediction</th>\n",
       "    </tr>\n",
       "  </thead>\n",
       "  <tbody>\n",
       "    <tr>\n",
       "      <th>0</th>\n",
       "      <td>I need to order a new EKG machine. The invoice should be sent to our building number, 841 and make sure they charge it to the company card (6036994285533224).</td>\n",
       "      <td>6036994285533224</td>\n",
       "      <td>CREDITCARDNUMBER</td>\n",
       "      <td>O</td>\n",
       "    </tr>\n",
       "    <tr>\n",
       "      <th>1</th>\n",
       "      <td>Having paid for your mindfulness therapy sessions via your credit card (7545941043284555), your receipt will be emailed to Dawson_Hyatt63@yahoo.com.</td>\n",
       "      <td>7545941043284555</td>\n",
       "      <td>CREDITCARDNUMBER</td>\n",
       "      <td>O</td>\n",
       "    </tr>\n",
       "    <tr>\n",
       "      <th>2</th>\n",
       "      <td>In need of bankruptcy assistance. Name is Malika24, used to work as a International Directives Consultant. Unable to clear my credit card (4169787547142829) debt, now contemplating bankruptcy. Please guide.</td>\n",
       "      <td>4169787547142829</td>\n",
       "      <td>CREDITCARDNUMBER</td>\n",
       "      <td>O</td>\n",
       "    </tr>\n",
       "    <tr>\n",
       "      <th>3</th>\n",
       "      <td>In Health Informatics, we need to carefully handle all unique identifiers, such as vehicle details (GX66RMK, 0SNZZ81FWMKZ56406) or financial identifiers (1308363720032284, diners_club). It's our responsibility to secure and anonymize this data.</td>\n",
       "      <td>1308363720032284</td>\n",
       "      <td>CREDITCARDNUMBER</td>\n",
       "      <td>O</td>\n",
       "    </tr>\n",
       "    <tr>\n",
       "      <th>4</th>\n",
       "      <td>Ms.. Rolfson, we appreciate your valuable work in the Research of Cardiology. To process the payment for your services, we need your american_express credit card number (9481981196784543) and CVV (443). You can reach me at 56-071529-222898-3 for any queries.</td>\n",
       "      <td>9481981196784543</td>\n",
       "      <td>CREDITCARDNUMBER</td>\n",
       "      <td>O</td>\n",
       "    </tr>\n",
       "    <tr>\n",
       "      <th>5</th>\n",
       "      <td>Purchase resources required for the Hadleyland project using the company card (8542404393455399). The budget allocated is 441.39k Taka.</td>\n",
       "      <td>8542404393455399</td>\n",
       "      <td>CREDITCARDNUMBER</td>\n",
       "      <td>O</td>\n",
       "    </tr>\n",
       "    <tr>\n",
       "      <th>6</th>\n",
       "      <td>Rest assured Cisgender woman, all the details you've shared (3512698105233176, 1ebd:bbde:6b34:3cf5:c0ee:2fab:a3ce:c978) are stored securely to ensure your privacy.</td>\n",
       "      <td>3512698105233176</td>\n",
       "      <td>CREDITCARDNUMBER</td>\n",
       "      <td>O</td>\n",
       "    </tr>\n",
       "    <tr>\n",
       "      <th>7</th>\n",
       "      <td>We plan to allow users to make donations towards our Global Education fund. They can use credit cards (2148279638648395, 3113140070520773), Crypto wallets (3TVAAwZmUbgzxCj2qJrkYBUFZd1boG3, 0xeadabf7ede9ddd2db97da3d12b7abafde2d5e2aa) or other digital methods.</td>\n",
       "      <td>2148279638648395</td>\n",
       "      <td>CREDITCARDNUMBER</td>\n",
       "      <td>O</td>\n",
       "    </tr>\n",
       "    <tr>\n",
       "      <th>8</th>\n",
       "      <td>Imani.Nolan16 here, an Global Intranet Orchestrator residing in Quebec. Unfortunately, I landed in strong financial crosswinds and am unable to pay off my credit card (5912797576245347) debt. Looking to declare bankruptcy.</td>\n",
       "      <td>5912797576245347</td>\n",
       "      <td>CREDITCARDNUMBER</td>\n",
       "      <td>O</td>\n",
       "    </tr>\n",
       "    <tr>\n",
       "      <th>9</th>\n",
       "      <td>I am Delaney_Hills96, used to work as an Legacy Response Specialist in Bavaria. Sadly, lost my job and struggling job and have been struggling with credit card (5497785126603439) debt. Needing to file bankruptcy, please advise.</td>\n",
       "      <td>5497785126603439</td>\n",
       "      <td>CREDITCARDNUMBER</td>\n",
       "      <td>O</td>\n",
       "    </tr>\n",
       "    <tr>\n",
       "      <th>10</th>\n",
       "      <td>\"Dr. Kyle, your query about the possible impact of an international maritime regulation on your maritime business at Appenzell Ausserrhoden is well noted. I have conducted preliminary research, and it seems a more comprehensive study is required. To provide a detailed insight, I need to access more specialized databases. If you agree, I would like you to authorize a payment of New Leu 0.666m with your credit card (1584722121361346, Issuer: mastercard) to complete this task.\"</td>\n",
       "      <td>1584722121361346</td>\n",
       "      <td>CREDITCARDNUMBER</td>\n",
       "      <td>O</td>\n",
       "    </tr>\n",
       "    <tr>\n",
       "      <th>11</th>\n",
       "      <td>We've also learned that one of our clients is disputing a transaction made on their credit card (4632577484767225), issued by diners_club. The payment was made to an ethereum address (0xccf5a55ebc224a5aa21a00371b8faaeec6de33bf). We'll need to trace this transaction and ensure our client's account is restored if this was indeed an erroneous activity.</td>\n",
       "      <td>4632577484767225</td>\n",
       "      <td>CREDITCARDNUMBER</td>\n",
       "      <td>O</td>\n",
       "    </tr>\n",
       "    <tr>\n",
       "      <th>12</th>\n",
       "      <td>Good day, Ryan, your payment of $10,000 has not been taken place. Please use your credit card (9127059289162331) issued by maestro.</td>\n",
       "      <td>9127059289162331</td>\n",
       "      <td>CREDITCARDNUMBER</td>\n",
       "      <td>O</td>\n",
       "    </tr>\n",
       "    <tr>\n",
       "      <th>13</th>\n",
       "      <td>In light of the new security regulations, Timmy, we need a full security audit of our sensitive data. Please ensure the data, like SSNs (75670304770), IMEIs (47-247949-959271-0), and credit card details (0236666035518635175) are securely stored.</td>\n",
       "      <td>0236666035518635175</td>\n",
       "      <td>CREDITCARDNUMBER</td>\n",
       "      <td>O</td>\n",
       "    </tr>\n",
       "    <tr>\n",
       "      <th>14</th>\n",
       "      <td>Hello, my name is Humberto_Funk69, I am an 86 years old old Lead Infrastructure Assistant. I am considering bankruptcy following huge debts from a credit card (0216007007030544). Can you guide me through?</td>\n",
       "      <td>0216007007030544</td>\n",
       "      <td>CREDITCARDNUMBER</td>\n",
       "      <td>O</td>\n",
       "    </tr>\n",
       "    <tr>\n",
       "      <th>15</th>\n",
       "      <td>I am Laury40, a struggling Senior Intranet Officer, who is currently contemplating bankruptcy due to my uncontrollable credit card (3085478430429361) debt. Valid advice needed.</td>\n",
       "      <td>3085478430429361</td>\n",
       "      <td>CREDITCARDNUMBER</td>\n",
       "      <td>O</td>\n",
       "    </tr>\n",
       "    <tr>\n",
       "      <th>16</th>\n",
       "      <td>Hello, kindly note transaction for the assessment tools will be processed via your credit card (2682442007033434 and CVV: 839). Ensure your billing address (Suite 610) is correct in our system.</td>\n",
       "      <td>2682442007033434</td>\n",
       "      <td>CREDITCARDNUMBER</td>\n",
       "      <td>O</td>\n",
       "    </tr>\n",
       "    <tr>\n",
       "      <th>17</th>\n",
       "      <td>Congratulations to team from McClure Crossroad on winning Mathletics! The winning team's members IPs (170.16.170.189, 0516:28b6:547b:58f6:3f36:3d5d:57dc:cd8d), credit card numbers (1573198541802165, 1140730394292598) and Ethereum addresses (0x2b57a6dda8fe4a3ba68a1b35221cdd789ddc0fde, 3xgDKmy6v3P79WivkQMoKUGgz4g6t) have been noted for prize distribution.</td>\n",
       "      <td>1573198541802165</td>\n",
       "      <td>CREDITCARDNUMBER</td>\n",
       "      <td>O</td>\n",
       "    </tr>\n",
       "  </tbody>\n",
       "</table>\n",
       "</div>"
      ],
      "text/plain": [
       "                                                                                                                                                                                                                                                                                                                                                                                                                                                                                          full_text  \\\n",
       "0                                                                                                                                                                                                                                                                                                                                    I need to order a new EKG machine. The invoice should be sent to our building number, 841 and make sure they charge it to the company card (6036994285533224).   \n",
       "1                                                                                                                                                                                                                                                                                                                                              Having paid for your mindfulness therapy sessions via your credit card (7545941043284555), your receipt will be emailed to Dawson_Hyatt63@yahoo.com.   \n",
       "2                                                                                                                                                                                                                                                                                    In need of bankruptcy assistance. Name is Malika24, used to work as a International Directives Consultant. Unable to clear my credit card (4169787547142829) debt, now contemplating bankruptcy. Please guide.   \n",
       "3                                                                                                                                                                                                                                              In Health Informatics, we need to carefully handle all unique identifiers, such as vehicle details (GX66RMK, 0SNZZ81FWMKZ56406) or financial identifiers (1308363720032284, diners_club). It's our responsibility to secure and anonymize this data.   \n",
       "4                                                                                                                                                                                                                                Ms.. Rolfson, we appreciate your valuable work in the Research of Cardiology. To process the payment for your services, we need your american_express credit card number (9481981196784543) and CVV (443). You can reach me at 56-071529-222898-3 for any queries.   \n",
       "5                                                                                                                                                                                                                                                                                                                                                           Purchase resources required for the Hadleyland project using the company card (8542404393455399). The budget allocated is 441.39k Taka.   \n",
       "6                                                                                                                                                                                                                                                                                                                               Rest assured Cisgender woman, all the details you've shared (3512698105233176, 1ebd:bbde:6b34:3cf5:c0ee:2fab:a3ce:c978) are stored securely to ensure your privacy.   \n",
       "7                                                                                                                                                                                                                                We plan to allow users to make donations towards our Global Education fund. They can use credit cards (2148279638648395, 3113140070520773), Crypto wallets (3TVAAwZmUbgzxCj2qJrkYBUFZd1boG3, 0xeadabf7ede9ddd2db97da3d12b7abafde2d5e2aa) or other digital methods.   \n",
       "8                                                                                                                                                                                                                                                                    Imani.Nolan16 here, an Global Intranet Orchestrator residing in Quebec. Unfortunately, I landed in strong financial crosswinds and am unable to pay off my credit card (5912797576245347) debt. Looking to declare bankruptcy.   \n",
       "9                                                                                                                                                                                                                                                               I am Delaney_Hills96, used to work as an Legacy Response Specialist in Bavaria. Sadly, lost my job and struggling job and have been struggling with credit card (5497785126603439) debt. Needing to file bankruptcy, please advise.   \n",
       "10  \"Dr. Kyle, your query about the possible impact of an international maritime regulation on your maritime business at Appenzell Ausserrhoden is well noted. I have conducted preliminary research, and it seems a more comprehensive study is required. To provide a detailed insight, I need to access more specialized databases. If you agree, I would like you to authorize a payment of New Leu 0.666m with your credit card (1584722121361346, Issuer: mastercard) to complete this task.\"   \n",
       "11                                                                                                                                  We've also learned that one of our clients is disputing a transaction made on their credit card (4632577484767225), issued by diners_club. The payment was made to an ethereum address (0xccf5a55ebc224a5aa21a00371b8faaeec6de33bf). We'll need to trace this transaction and ensure our client's account is restored if this was indeed an erroneous activity.   \n",
       "12                                                                                                                                                                                                                                                                                                                                                              Good day, Ryan, your payment of $10,000 has not been taken place. Please use your credit card (9127059289162331) issued by maestro.   \n",
       "13                                                                                                                                                                                                                                            In light of the new security regulations, Timmy, we need a full security audit of our sensitive data. Please ensure the data, like SSNs (75670304770), IMEIs (47-247949-959271-0), and credit card details (0236666035518635175) are securely stored.   \n",
       "14                                                                                                                                                                                                                                                                                     Hello, my name is Humberto_Funk69, I am an 86 years old old Lead Infrastructure Assistant. I am considering bankruptcy following huge debts from a credit card (0216007007030544). Can you guide me through?   \n",
       "15                                                                                                                                                                                                                                                                                                                 I am Laury40, a struggling Senior Intranet Officer, who is currently contemplating bankruptcy due to my uncontrollable credit card (3085478430429361) debt. Valid advice needed.   \n",
       "16                                                                                                                                                                                                                                                                                                Hello, kindly note transaction for the assessment tools will be processed via your credit card (2682442007033434 and CVV: 839). Ensure your billing address (Suite 610) is correct in our system.   \n",
       "17                                                                                                                              Congratulations to team from McClure Crossroad on winning Mathletics! The winning team's members IPs (170.16.170.189, 0516:28b6:547b:58f6:3f36:3d5d:57dc:cd8d), credit card numbers (1573198541802165, 1140730394292598) and Ethereum addresses (0x2b57a6dda8fe4a3ba68a1b35221cdd789ddc0fde, 3xgDKmy6v3P79WivkQMoKUGgz4g6t) have been noted for prize distribution.   \n",
       "\n",
       "                  token        annotation prediction  \n",
       "0      6036994285533224  CREDITCARDNUMBER          O  \n",
       "1      7545941043284555  CREDITCARDNUMBER          O  \n",
       "2      4169787547142829  CREDITCARDNUMBER          O  \n",
       "3      1308363720032284  CREDITCARDNUMBER          O  \n",
       "4      9481981196784543  CREDITCARDNUMBER          O  \n",
       "5      8542404393455399  CREDITCARDNUMBER          O  \n",
       "6      3512698105233176  CREDITCARDNUMBER          O  \n",
       "7      2148279638648395  CREDITCARDNUMBER          O  \n",
       "8      5912797576245347  CREDITCARDNUMBER          O  \n",
       "9      5497785126603439  CREDITCARDNUMBER          O  \n",
       "10     1584722121361346  CREDITCARDNUMBER          O  \n",
       "11     4632577484767225  CREDITCARDNUMBER          O  \n",
       "12     9127059289162331  CREDITCARDNUMBER          O  \n",
       "13  0236666035518635175  CREDITCARDNUMBER          O  \n",
       "14     0216007007030544  CREDITCARDNUMBER          O  \n",
       "15     3085478430429361  CREDITCARDNUMBER          O  \n",
       "16     2682442007033434  CREDITCARDNUMBER          O  \n",
       "17     1573198541802165  CREDITCARDNUMBER          O  "
      ]
     },
     "execution_count": 18,
     "metadata": {},
     "output_type": "execute_result"
    }
   ],
   "source": [
    "fns_df[[\"full_text\", \"token\", \"annotation\", \"prediction\"]]"
   ]
  },
  {
   "cell_type": "code",
   "execution_count": 1,
   "metadata": {},
   "outputs": [
    {
     "name": "stdout",
     "output_type": "stream",
     "text": [
      "All errors:\n",
      "\n"
     ]
    },
    {
     "ename": "NameError",
     "evalue": "name 'errors' is not defined",
     "output_type": "error",
     "traceback": [
      "\u001b[1;31m---------------------------------------------------------------------------\u001b[0m",
      "\u001b[1;31mNameError\u001b[0m                                 Traceback (most recent call last)",
      "Cell \u001b[1;32mIn[1], line 2\u001b[0m\n\u001b[0;32m      1\u001b[0m \u001b[38;5;28mprint\u001b[39m(\u001b[38;5;124m\"\u001b[39m\u001b[38;5;124mAll errors:\u001b[39m\u001b[38;5;130;01m\\n\u001b[39;00m\u001b[38;5;124m\"\u001b[39m)\n\u001b[1;32m----> 2\u001b[0m [\u001b[38;5;28mprint\u001b[39m(error, \u001b[38;5;124m\"\u001b[39m\u001b[38;5;130;01m\\n\u001b[39;00m\u001b[38;5;124m\"\u001b[39m) \u001b[38;5;28;01mfor\u001b[39;00m error \u001b[38;5;129;01min\u001b[39;00m \u001b[43merrors\u001b[49m]\n",
      "\u001b[1;31mNameError\u001b[0m: name 'errors' is not defined"
     ]
    }
   ],
   "source": [
    "print(\"All errors:\\n\")\n",
    "[print(error, \"\\n\") for error in errors]"
   ]
  },
  {
   "cell_type": "code",
   "execution_count": 15,
   "metadata": {},
   "outputs": [
    {
     "data": {
      "application/vnd.plotly.v1+json": {
       "config": {
        "plotlyServerURL": "https://plot.ly"
       },
       "data": [
        {
         "coloraxis": "coloraxis",
         "hovertemplate": "Predicted: %{x}<br>Actual: %{y}<br>Count: %{z}<extra></extra>",
         "name": "0",
         "textfont": {
          "size": 10
         },
         "texttemplate": "%{z}",
         "type": "heatmap",
         "x": [
          "ACCOUNTNAME",
          "ACCOUNTNUMBER",
          "AGE",
          "AMOUNT",
          "BIC",
          "BITCOINADDRESS",
          "BUILDINGNUMBER",
          "CITY",
          "COMPANYNAME",
          "COMPANY_NAME",
          "COUNTY",
          "CREDITCARDCVV",
          "CREDITCARDISSUER",
          "CREDITCARDNUMBER",
          "CURRENCY",
          "CURRENCYCODE",
          "CURRENCYNAME",
          "CURRENCYSYMBOL",
          "DATE",
          "DISPLAYNAME",
          "DOB",
          "EMAIL",
          "ETHEREUMADDRESS",
          "EYECOLOR",
          "FIRSTNAME",
          "FULLNAME",
          "GENDER",
          "HEIGHT",
          "IBAN",
          "IP",
          "IPV4",
          "IPV6",
          "JOBAREA",
          "JOBDESCRIPTOR",
          "JOBTITLE",
          "JOBTYPE",
          "LASTNAME",
          "LITECOINADDRESS",
          "MAC",
          "MASKEDNUMBER",
          "MIDDLENAME",
          "NAME",
          "NEARBYGPSCOORDINATE",
          "NUMBER",
          "ORDINALDIRECTION",
          "PASSWORD",
          "PHONEIMEI",
          "PHONENUMBER",
          "PHONE_NUMBER",
          "PIN",
          "PREFIX",
          "SECONDARYADDRESS",
          "SEX",
          "SEXTYPE",
          "SSN",
          "STATE",
          "STREET",
          "STREETADDRESS",
          "SUFFIX",
          "TIME",
          "URL",
          "USERAGENT",
          "USERNAME",
          "VEHICLEVIN",
          "VEHICLEVRM",
          "ZIPCODE",
          "O",
          "Total"
         ],
         "xaxis": "x",
         "y": [
          "ACCOUNTNAME",
          "ACCOUNTNUMBER",
          "AGE",
          "AMOUNT",
          "BIC",
          "BITCOINADDRESS",
          "BUILDINGNUMBER",
          "CITY",
          "COMPANYNAME",
          "COMPANY_NAME",
          "COUNTY",
          "CREDITCARDCVV",
          "CREDITCARDISSUER",
          "CREDITCARDNUMBER",
          "CURRENCY",
          "CURRENCYCODE",
          "CURRENCYNAME",
          "CURRENCYSYMBOL",
          "DATE",
          "DISPLAYNAME",
          "DOB",
          "EMAIL",
          "ETHEREUMADDRESS",
          "EYECOLOR",
          "FIRSTNAME",
          "FULLNAME",
          "GENDER",
          "HEIGHT",
          "IBAN",
          "IP",
          "IPV4",
          "IPV6",
          "JOBAREA",
          "JOBDESCRIPTOR",
          "JOBTITLE",
          "JOBTYPE",
          "LASTNAME",
          "LITECOINADDRESS",
          "MAC",
          "MASKEDNUMBER",
          "MIDDLENAME",
          "NAME",
          "NEARBYGPSCOORDINATE",
          "NUMBER",
          "ORDINALDIRECTION",
          "PASSWORD",
          "PHONEIMEI",
          "PHONENUMBER",
          "PHONE_NUMBER",
          "PIN",
          "PREFIX",
          "SECONDARYADDRESS",
          "SEX",
          "SEXTYPE",
          "SSN",
          "STATE",
          "STREET",
          "STREETADDRESS",
          "SUFFIX",
          "TIME",
          "URL",
          "USERAGENT",
          "USERNAME",
          "VEHICLEVIN",
          "VEHICLEVRM",
          "ZIPCODE",
          "O",
          "Total"
         ],
         "yaxis": "y",
         "z": [
          [
           1413,
           0,
           0,
           0,
           0,
           0,
           0,
           0,
           0,
           0,
           0,
           0,
           0,
           0,
           0,
           0,
           0,
           0,
           0,
           0,
           0,
           0,
           0,
           0,
           0,
           0,
           0,
           0,
           0,
           0,
           0,
           0,
           0,
           0,
           0,
           0,
           0,
           0,
           0,
           0,
           1,
           0,
           0,
           0,
           0,
           0,
           0,
           0,
           0,
           0,
           0,
           0,
           0,
           0,
           0,
           0,
           0,
           0,
           0,
           0,
           0,
           0,
           0,
           0,
           0,
           0,
           35,
           1449
          ],
          [
           0,
           428,
           0,
           1,
           0,
           0,
           9,
           0,
           0,
           0,
           0,
           0,
           0,
           0,
           0,
           0,
           0,
           0,
           0,
           0,
           0,
           0,
           0,
           0,
           0,
           0,
           0,
           0,
           0,
           0,
           0,
           0,
           0,
           0,
           0,
           0,
           0,
           0,
           0,
           0,
           0,
           0,
           0,
           0,
           0,
           0,
           0,
           0,
           0,
           92,
           0,
           0,
           0,
           0,
           0,
           0,
           0,
           1,
           0,
           0,
           0,
           0,
           1,
           0,
           0,
           18,
           17,
           567
          ],
          [
           0,
           0,
           0,
           1,
           0,
           0,
           75,
           0,
           0,
           0,
           0,
           28,
           0,
           0,
           0,
           0,
           0,
           0,
           0,
           1,
           0,
           0,
           0,
           0,
           0,
           1,
           1,
           0,
           0,
           0,
           0,
           0,
           0,
           0,
           1,
           0,
           0,
           0,
           0,
           0,
           0,
           2,
           0,
           0,
           0,
           0,
           0,
           0,
           0,
           0,
           0,
           0,
           0,
           0,
           0,
           0,
           0,
           0,
           0,
           73,
           0,
           0,
           0,
           0,
           0,
           3,
           294,
           480
          ],
          [
           0,
           7,
           0,
           228,
           0,
           0,
           0,
           0,
           0,
           0,
           0,
           5,
           0,
           0,
           4,
           0,
           0,
           179,
           0,
           0,
           0,
           0,
           0,
           0,
           0,
           0,
           0,
           0,
           0,
           0,
           0,
           0,
           0,
           0,
           0,
           0,
           0,
           0,
           0,
           0,
           0,
           0,
           0,
           0,
           0,
           0,
           0,
           0,
           0,
           7,
           0,
           0,
           0,
           0,
           0,
           0,
           0,
           0,
           0,
           3,
           0,
           0,
           0,
           0,
           0,
           0,
           33,
           466
          ],
          [
           0,
           0,
           0,
           0,
           81,
           0,
           0,
           0,
           0,
           0,
           0,
           0,
           8,
           0,
           1,
           1,
           0,
           0,
           0,
           0,
           0,
           0,
           0,
           0,
           0,
           1,
           0,
           0,
           1,
           0,
           0,
           0,
           0,
           0,
           0,
           0,
           0,
           0,
           0,
           0,
           0,
           0,
           0,
           0,
           0,
           2,
           0,
           0,
           0,
           1,
           0,
           0,
           0,
           0,
           0,
           0,
           1,
           0,
           0,
           0,
           0,
           0,
           11,
           0,
           37,
           0,
           12,
           157
          ],
          [
           0,
           0,
           0,
           0,
           0,
           371,
           0,
           0,
           0,
           0,
           0,
           0,
           0,
           0,
           0,
           0,
           0,
           0,
           0,
           0,
           0,
           0,
           0,
           0,
           0,
           0,
           0,
           0,
           0,
           0,
           0,
           0,
           0,
           0,
           0,
           0,
           0,
           30,
           0,
           2,
           0,
           0,
           0,
           0,
           0,
           50,
           0,
           0,
           0,
           0,
           0,
           0,
           0,
           0,
           0,
           0,
           0,
           0,
           0,
           0,
           0,
           0,
           0,
           11,
           0,
           0,
           15,
           479
          ],
          [
           0,
           0,
           0,
           0,
           0,
           0,
           366,
           0,
           0,
           0,
           0,
           1,
           0,
           0,
           0,
           0,
           0,
           0,
           0,
           0,
           0,
           0,
           0,
           0,
           0,
           0,
           0,
           0,
           0,
           0,
           0,
           0,
           0,
           0,
           0,
           0,
           0,
           0,
           0,
           0,
           0,
           0,
           0,
           0,
           0,
           0,
           1,
           0,
           0,
           5,
           0,
           21,
           0,
           0,
           0,
           0,
           0,
           139,
           0,
           1,
           0,
           0,
           0,
           0,
           0,
           10,
           8,
           552
          ],
          [
           0,
           0,
           0,
           0,
           0,
           0,
           0,
           788,
           0,
           0,
           6,
           0,
           0,
           0,
           0,
           0,
           0,
           0,
           0,
           0,
           0,
           1,
           0,
           0,
           6,
           0,
           0,
           0,
           0,
           0,
           0,
           0,
           0,
           0,
           0,
           0,
           1,
           0,
           0,
           0,
           1,
           2,
           0,
           0,
           0,
           0,
           0,
           0,
           0,
           0,
           0,
           0,
           1,
           0,
           0,
           23,
           3,
           4,
           0,
           0,
           0,
           0,
           0,
           0,
           0,
           0,
           11,
           847
          ],
          [
           0,
           0,
           0,
           0,
           0,
           0,
           0,
           7,
           0,
           850,
           0,
           0,
           0,
           0,
           0,
           0,
           0,
           0,
           0,
           0,
           0,
           4,
           0,
           0,
           0,
           0,
           0,
           0,
           0,
           0,
           0,
           0,
           0,
           0,
           0,
           0,
           2,
           0,
           0,
           0,
           1,
           170,
           0,
           0,
           0,
           0,
           0,
           0,
           0,
           0,
           0,
           0,
           0,
           0,
           0,
           0,
           0,
           0,
           0,
           0,
           0,
           0,
           0,
           0,
           0,
           0,
           34,
           1068
          ],
          [
           0,
           0,
           0,
           0,
           0,
           0,
           0,
           0,
           0,
           0,
           0,
           0,
           0,
           0,
           0,
           0,
           0,
           0,
           0,
           0,
           0,
           0,
           0,
           0,
           0,
           0,
           0,
           0,
           0,
           0,
           0,
           0,
           0,
           0,
           0,
           0,
           0,
           0,
           0,
           0,
           0,
           0,
           0,
           0,
           0,
           0,
           0,
           0,
           0,
           0,
           0,
           0,
           0,
           0,
           0,
           0,
           0,
           0,
           0,
           0,
           0,
           0,
           0,
           0,
           0,
           0,
           0,
           0
          ],
          [
           0,
           0,
           0,
           0,
           0,
           0,
           0,
           221,
           0,
           3,
           211,
           0,
           1,
           0,
           0,
           0,
           0,
           0,
           0,
           0,
           0,
           0,
           0,
           0,
           6,
           0,
           0,
           0,
           0,
           0,
           0,
           0,
           1,
           2,
           0,
           0,
           0,
           0,
           0,
           0,
           0,
           0,
           0,
           0,
           0,
           0,
           0,
           0,
           0,
           0,
           0,
           0,
           0,
           0,
           0,
           138,
           8,
           1,
           0,
           0,
           0,
           0,
           0,
           0,
           0,
           0,
           212,
           804
          ],
          [
           0,
           0,
           0,
           0,
           0,
           0,
           5,
           0,
           0,
           0,
           0,
           153,
           0,
           0,
           0,
           0,
           0,
           0,
           0,
           0,
           0,
           0,
           0,
           0,
           0,
           0,
           0,
           0,
           0,
           0,
           0,
           0,
           0,
           0,
           0,
           0,
           0,
           0,
           0,
           0,
           0,
           0,
           0,
           0,
           0,
           0,
           0,
           0,
           0,
           19,
           0,
           0,
           0,
           0,
           1,
           0,
           0,
           0,
           0,
           0,
           0,
           0,
           0,
           0,
           0,
           0,
           4,
           182
          ],
          [
           1,
           1,
           0,
           0,
           0,
           0,
           0,
           0,
           0,
           0,
           0,
           0,
           273,
           1,
           1,
           4,
           1,
           0,
           0,
           0,
           0,
           0,
           0,
           0,
           2,
           0,
           0,
           0,
           0,
           0,
           0,
           0,
           0,
           0,
           0,
           0,
           0,
           0,
           0,
           0,
           0,
           0,
           0,
           0,
           0,
           0,
           0,
           0,
           0,
           0,
           0,
           0,
           0,
           0,
           0,
           0,
           0,
           0,
           1,
           0,
           0,
           0,
           2,
           0,
           0,
           0,
           26,
           313
          ],
          [
           0,
           461,
           0,
           0,
           0,
           0,
           0,
           0,
           0,
           0,
           0,
           0,
           0,
           6,
           0,
           0,
           0,
           0,
           0,
           0,
           0,
           0,
           0,
           0,
           0,
           0,
           0,
           0,
           0,
           0,
           0,
           0,
           0,
           0,
           0,
           0,
           0,
           0,
           0,
           6,
           0,
           0,
           0,
           0,
           0,
           0,
           0,
           0,
           0,
           0,
           0,
           0,
           0,
           0,
           2,
           0,
           0,
           0,
           0,
           0,
           0,
           0,
           0,
           0,
           0,
           0,
           18,
           493
          ],
          [
           1,
           1,
           0,
           1,
           0,
           0,
           0,
           4,
           0,
           0,
           0,
           0,
           1,
           0,
           502,
           1,
           118,
           12,
           0,
           0,
           0,
           0,
           0,
           0,
           6,
           6,
           1,
           0,
           0,
           0,
           0,
           0,
           0,
           0,
           0,
           0,
           1,
           2,
           0,
           0,
           3,
           0,
           0,
           0,
           0,
           0,
           0,
           0,
           0,
           0,
           0,
           0,
           0,
           0,
           0,
           1,
           3,
           0,
           0,
           0,
           0,
           0,
           0,
           0,
           0,
           0,
           13,
           677
          ],
          [
           1,
           0,
           0,
           0,
           0,
           0,
           0,
           1,
           0,
           0,
           0,
           0,
           1,
           0,
           5,
           47,
           3,
           48,
           0,
           0,
           0,
           0,
           0,
           0,
           0,
           0,
           0,
           0,
           1,
           0,
           0,
           0,
           0,
           0,
           0,
           0,
           0,
           0,
           0,
           0,
           0,
           1,
           0,
           0,
           0,
           0,
           0,
           0,
           0,
           0,
           0,
           0,
           0,
           0,
           0,
           0,
           0,
           0,
           3,
           1,
           0,
           0,
           0,
           1,
           0,
           0,
           33,
           146
          ],
          [
           8,
           0,
           0,
           0,
           0,
           0,
           0,
           7,
           0,
           0,
           0,
           0,
           1,
           0,
           140,
           4,
           139,
           3,
           0,
           0,
           0,
           0,
           0,
           0,
           5,
           1,
           0,
           0,
           0,
           0,
           0,
           0,
           0,
           0,
           0,
           0,
           0,
           0,
           0,
           0,
           0,
           0,
           0,
           0,
           0,
           0,
           0,
           0,
           0,
           0,
           0,
           0,
           0,
           0,
           0,
           1,
           0,
           0,
           0,
           0,
           0,
           0,
           0,
           0,
           0,
           0,
           10,
           319
          ],
          [
           0,
           5,
           0,
           1,
           0,
           0,
           0,
           0,
           0,
           0,
           0,
           0,
           0,
           0,
           8,
           21,
           1,
           439,
           0,
           0,
           0,
           0,
           0,
           0,
           1,
           0,
           0,
           0,
           2,
           0,
           0,
           0,
           0,
           0,
           0,
           0,
           0,
           0,
           0,
           0,
           0,
           1,
           0,
           0,
           0,
           0,
           0,
           0,
           0,
           0,
           0,
           1,
           0,
           0,
           0,
           0,
           0,
           0,
           2,
           0,
           0,
           0,
           0,
           0,
           2,
           0,
           13,
           497
          ],
          [
           0,
           0,
           0,
           0,
           0,
           0,
           0,
           0,
           0,
           0,
           0,
           0,
           0,
           0,
           0,
           0,
           0,
           0,
           2120,
           0,
           0,
           0,
           0,
           0,
           0,
           0,
           0,
           0,
           0,
           0,
           0,
           0,
           0,
           0,
           0,
           0,
           0,
           0,
           0,
           3,
           0,
           0,
           0,
           0,
           0,
           0,
           0,
           0,
           0,
           0,
           0,
           0,
           0,
           0,
           0,
           0,
           0,
           0,
           0,
           1,
           0,
           0,
           0,
           0,
           0,
           0,
           8,
           2132
          ],
          [
           0,
           0,
           0,
           0,
           0,
           0,
           0,
           0,
           0,
           0,
           0,
           0,
           0,
           0,
           0,
           0,
           0,
           0,
           0,
           0,
           0,
           0,
           0,
           0,
           0,
           0,
           0,
           0,
           0,
           0,
           0,
           0,
           0,
           0,
           0,
           0,
           0,
           0,
           0,
           0,
           0,
           0,
           0,
           0,
           0,
           0,
           0,
           0,
           0,
           0,
           0,
           0,
           0,
           0,
           0,
           0,
           0,
           0,
           0,
           0,
           0,
           0,
           0,
           0,
           0,
           0,
           0,
           0
          ],
          [
           0,
           0,
           0,
           0,
           0,
           0,
           0,
           0,
           0,
           0,
           0,
           0,
           0,
           0,
           0,
           0,
           0,
           0,
           759,
           0,
           0,
           0,
           0,
           0,
           0,
           1,
           0,
           0,
           2,
           0,
           0,
           0,
           0,
           0,
           0,
           0,
           0,
           0,
           0,
           57,
           0,
           0,
           0,
           0,
           0,
           0,
           0,
           0,
           6,
           0,
           0,
           0,
           2,
           0,
           25,
           0,
           0,
           0,
           0,
           1,
           0,
           0,
           0,
           0,
           0,
           0,
           29,
           882
          ],
          [
           0,
           0,
           0,
           0,
           0,
           0,
           0,
           0,
           0,
           0,
           0,
           0,
           0,
           0,
           0,
           0,
           0,
           0,
           0,
           0,
           0,
           775,
           0,
           0,
           0,
           0,
           0,
           0,
           0,
           0,
           0,
           0,
           0,
           0,
           0,
           0,
           0,
           0,
           0,
           0,
           0,
           0,
           0,
           0,
           0,
           0,
           0,
           0,
           0,
           0,
           0,
           0,
           0,
           0,
           0,
           0,
           0,
           0,
           0,
           0,
           0,
           0,
           0,
           0,
           0,
           0,
           23,
           798
          ],
          [
           0,
           0,
           0,
           0,
           0,
           0,
           0,
           0,
           0,
           0,
           0,
           0,
           0,
           1,
           0,
           0,
           0,
           0,
           0,
           0,
           0,
           0,
           281,
           0,
           0,
           0,
           0,
           0,
           0,
           0,
           0,
           0,
           0,
           0,
           0,
           0,
           0,
           0,
           0,
           6,
           0,
           0,
           0,
           0,
           0,
           0,
           0,
           0,
           0,
           0,
           0,
           0,
           0,
           0,
           0,
           0,
           0,
           0,
           0,
           0,
           0,
           0,
           0,
           0,
           0,
           0,
           9,
           297
          ],
          [
           0,
           0,
           0,
           0,
           0,
           0,
           0,
           13,
           0,
           0,
           0,
           1,
           0,
           0,
           0,
           0,
           9,
           0,
           0,
           0,
           0,
           0,
           0,
           0,
           4,
           0,
           1,
           0,
           0,
           0,
           0,
           0,
           2,
           0,
           0,
           0,
           0,
           0,
           1,
           0,
           17,
           1,
           0,
           0,
           0,
           0,
           0,
           0,
           0,
           2,
           0,
           0,
           3,
           0,
           0,
           0,
           1,
           0,
           0,
           0,
           0,
           0,
           0,
           0,
           1,
           0,
           238,
           294
          ],
          [
           0,
           0,
           0,
           0,
           0,
           0,
           0,
           11,
           0,
           2,
           2,
           0,
           2,
           0,
           1,
           0,
           0,
           0,
           1,
           0,
           0,
           0,
           0,
           0,
           2090,
           152,
           1,
           0,
           0,
           0,
           0,
           0,
           0,
           2,
           0,
           0,
           15,
           0,
           0,
           0,
           317,
           7,
           0,
           0,
           0,
           0,
           0,
           0,
           0,
           0,
           3,
           0,
           0,
           0,
           0,
           9,
           2,
           0,
           0,
           0,
           1,
           0,
           2,
           0,
           1,
           0,
           50,
           2671
          ],
          [
           0,
           0,
           0,
           0,
           0,
           0,
           0,
           0,
           0,
           0,
           0,
           0,
           0,
           0,
           0,
           0,
           0,
           0,
           0,
           0,
           0,
           0,
           0,
           0,
           0,
           0,
           0,
           0,
           0,
           0,
           0,
           0,
           0,
           0,
           0,
           0,
           0,
           0,
           0,
           0,
           0,
           0,
           0,
           0,
           0,
           0,
           0,
           0,
           0,
           0,
           0,
           0,
           0,
           0,
           0,
           0,
           0,
           0,
           0,
           0,
           0,
           0,
           0,
           0,
           0,
           0,
           0,
           0
          ],
          [
           0,
           0,
           0,
           0,
           0,
           0,
           0,
           8,
           0,
           2,
           0,
           0,
           0,
           0,
           0,
           2,
           0,
           0,
           1,
           0,
           0,
           0,
           0,
           0,
           65,
           3,
           499,
           0,
           0,
           0,
           0,
           0,
           1,
           1,
           1,
           2,
           16,
           0,
           0,
           0,
           25,
           7,
           0,
           0,
           0,
           0,
           0,
           0,
           0,
           0,
           1,
           0,
           78,
           1,
           0,
           1,
           1,
           4,
           10,
           0,
           0,
           0,
           0,
           0,
           0,
           0,
           177,
           906
          ],
          [
           0,
           2,
           0,
           33,
           0,
           0,
           53,
           1,
           0,
           0,
           0,
           6,
           0,
           0,
           6,
           3,
           0,
           0,
           0,
           0,
           0,
           0,
           0,
           0,
           0,
           0,
           0,
           31,
           0,
           0,
           0,
           0,
           0,
           0,
           0,
           0,
           0,
           0,
           0,
           0,
           0,
           0,
           0,
           0,
           0,
           0,
           0,
           0,
           1,
           29,
           0,
           0,
           0,
           0,
           4,
           0,
           1,
           10,
           0,
           40,
           0,
           0,
           0,
           0,
           0,
           0,
           114,
           334
          ],
          [
           0,
           86,
           0,
           0,
           0,
           0,
           0,
           0,
           0,
           0,
           0,
           0,
           0,
           42,
           0,
           0,
           0,
           10,
           0,
           0,
           0,
           0,
           0,
           0,
           0,
           0,
           0,
           0,
           193,
           0,
           0,
           0,
           0,
           0,
           0,
           0,
           0,
           0,
           0,
           44,
           0,
           0,
           0,
           0,
           0,
           1,
           0,
           0,
           0,
           0,
           0,
           0,
           0,
           0,
           8,
           0,
           0,
           0,
           0,
           0,
           0,
           0,
           0,
           4,
           0,
           0,
           7,
           395
          ],
          [
           0,
           14,
           0,
           0,
           0,
           0,
           2,
           0,
           0,
           0,
           0,
           0,
           0,
           0,
           0,
           0,
           0,
           0,
           0,
           0,
           0,
           0,
           0,
           0,
           0,
           0,
           0,
           0,
           66,
           486,
           89,
           658,
           0,
           0,
           0,
           0,
           0,
           0,
           107,
           44,
           0,
           0,
           0,
           0,
           0,
           0,
           0,
           0,
           3,
           1,
           0,
           0,
           0,
           0,
           27,
           0,
           0,
           0,
           0,
           0,
           0,
           0,
           0,
           0,
           0,
           1,
           17,
           1515
          ],
          [
           0,
           44,
           0,
           1,
           0,
           0,
           4,
           0,
           0,
           0,
           0,
           0,
           0,
           0,
           0,
           0,
           0,
           0,
           0,
           0,
           0,
           0,
           0,
           0,
           0,
           0,
           0,
           0,
           0,
           95,
           304,
           0,
           0,
           0,
           0,
           0,
           0,
           0,
           1,
           0,
           0,
           0,
           0,
           0,
           0,
           0,
           0,
           0,
           24,
           1,
           0,
           0,
           0,
           0,
           50,
           0,
           0,
           0,
           0,
           1,
           0,
           0,
           0,
           0,
           0,
           7,
           25,
           557
          ],
          [
           0,
           0,
           0,
           0,
           0,
           0,
           0,
           0,
           0,
           0,
           0,
           0,
           0,
           0,
           0,
           0,
           0,
           0,
           0,
           0,
           0,
           0,
           0,
           0,
           0,
           0,
           0,
           0,
           111,
           326,
           4,
           2701,
           0,
           0,
           0,
           0,
           0,
           0,
           153,
           64,
           0,
           0,
           0,
           0,
           0,
           0,
           0,
           0,
           0,
           0,
           0,
           0,
           0,
           0,
           0,
           0,
           0,
           0,
           0,
           0,
           0,
           0,
           0,
           0,
           0,
           0,
           30,
           3389
          ],
          [
           0,
           0,
           0,
           0,
           0,
           0,
           0,
           10,
           0,
           0,
           0,
           0,
           0,
           0,
           0,
           0,
           0,
           0,
           0,
           0,
           0,
           0,
           0,
           0,
           2,
           0,
           0,
           0,
           0,
           0,
           0,
           0,
           340,
           4,
           3,
           0,
           0,
           0,
           0,
           0,
           0,
           0,
           0,
           0,
           0,
           0,
           0,
           0,
           0,
           0,
           0,
           0,
           0,
           0,
           0,
           0,
           0,
           0,
           0,
           0,
           0,
           0,
           0,
           0,
           0,
           0,
           198,
           557
          ],
          [
           0,
           0,
           0,
           0,
           0,
           0,
           0,
           0,
           0,
           0,
           0,
           0,
           0,
           0,
           0,
           0,
           0,
           0,
           0,
           0,
           0,
           0,
           0,
           0,
           0,
           0,
           0,
           0,
           0,
           0,
           0,
           0,
           0,
           0,
           0,
           0,
           0,
           0,
           0,
           0,
           0,
           0,
           0,
           0,
           0,
           0,
           0,
           0,
           0,
           0,
           0,
           0,
           0,
           0,
           0,
           0,
           0,
           0,
           0,
           0,
           0,
           0,
           0,
           0,
           0,
           0,
           0,
           0
          ],
          [
           0,
           0,
           0,
           0,
           0,
           0,
           0,
           0,
           0,
           0,
           0,
           0,
           0,
           0,
           0,
           0,
           0,
           0,
           0,
           0,
           0,
           0,
           0,
           0,
           2,
           0,
           0,
           0,
           0,
           0,
           0,
           0,
           0,
           63,
           1475,
           7,
           2,
           0,
           0,
           0,
           0,
           0,
           0,
           0,
           0,
           0,
           0,
           0,
           0,
           0,
           0,
           0,
           0,
           0,
           0,
           0,
           0,
           0,
           0,
           0,
           0,
           0,
           0,
           0,
           0,
           0,
           170,
           1719
          ],
          [
           1,
           0,
           0,
           0,
           0,
           0,
           0,
           1,
           0,
           0,
           0,
           0,
           0,
           0,
           0,
           0,
           0,
           0,
           0,
           0,
           0,
           0,
           0,
           0,
           10,
           0,
           0,
           0,
           0,
           0,
           0,
           0,
           2,
           2,
           1,
           397,
           2,
           0,
           0,
           0,
           4,
           0,
           0,
           0,
           0,
           0,
           0,
           0,
           1,
           0,
           0,
           0,
           0,
           0,
           0,
           0,
           1,
           0,
           0,
           0,
           0,
           0,
           0,
           0,
           0,
           0,
           139,
           561
          ],
          [
           0,
           0,
           0,
           0,
           0,
           0,
           0,
           3,
           0,
           1,
           0,
           0,
           0,
           0,
           0,
           0,
           0,
           0,
           0,
           0,
           0,
           0,
           0,
           0,
           38,
           152,
           0,
           0,
           0,
           0,
           1,
           0,
           0,
           0,
           0,
           0,
           683,
           0,
           0,
           0,
           118,
           0,
           0,
           0,
           0,
           0,
           0,
           0,
           0,
           0,
           15,
           0,
           0,
           0,
           0,
           0,
           2,
           0,
           0,
           0,
           0,
           0,
           0,
           0,
           0,
           0,
           10,
           1023
          ],
          [
           0,
           0,
           0,
           0,
           0,
           30,
           0,
           0,
           0,
           0,
           0,
           0,
           0,
           0,
           0,
           0,
           0,
           0,
           0,
           0,
           0,
           0,
           0,
           0,
           0,
           0,
           0,
           0,
           4,
           0,
           0,
           0,
           0,
           0,
           0,
           0,
           0,
           99,
           0,
           0,
           0,
           0,
           0,
           0,
           0,
           40,
           0,
           0,
           0,
           0,
           0,
           0,
           0,
           0,
           0,
           0,
           0,
           0,
           0,
           0,
           0,
           0,
           0,
           10,
           0,
           0,
           8,
           191
          ],
          [
           0,
           0,
           0,
           0,
           0,
           0,
           0,
           0,
           0,
           0,
           0,
           0,
           0,
           0,
           0,
           0,
           0,
           0,
           0,
           0,
           0,
           0,
           0,
           0,
           0,
           0,
           0,
           0,
           0,
           0,
           0,
           0,
           0,
           0,
           0,
           0,
           0,
           0,
           909,
           0,
           0,
           0,
           0,
           0,
           0,
           0,
           0,
           0,
           0,
           0,
           0,
           0,
           0,
           0,
           0,
           0,
           0,
           0,
           0,
           0,
           0,
           0,
           0,
           0,
           0,
           0,
           12,
           921
          ],
          [
           0,
           257,
           0,
           0,
           0,
           0,
           0,
           0,
           0,
           0,
           0,
           0,
           0,
           2,
           0,
           0,
           0,
           12,
           0,
           0,
           0,
           0,
           0,
           0,
           0,
           0,
           0,
           0,
           0,
           0,
           0,
           0,
           0,
           0,
           0,
           0,
           0,
           0,
           0,
           97,
           0,
           0,
           0,
           0,
           0,
           0,
           0,
           0,
           21,
           1,
           0,
           0,
           0,
           0,
           9,
           0,
           0,
           0,
           0,
           0,
           0,
           0,
           0,
           0,
           0,
           1,
           10,
           410
          ],
          [
           0,
           0,
           0,
           0,
           0,
           0,
           0,
           3,
           0,
           2,
           0,
           0,
           0,
           0,
           0,
           0,
           0,
           0,
           0,
           0,
           0,
           0,
           0,
           0,
           122,
           61,
           0,
           0,
           0,
           0,
           0,
           0,
           0,
           0,
           2,
           0,
           19,
           0,
           0,
           0,
           333,
           0,
           0,
           0,
           0,
           0,
           0,
           0,
           0,
           0,
           5,
           0,
           0,
           0,
           0,
           4,
           2,
           1,
           0,
           0,
           0,
           0,
           0,
           0,
           0,
           0,
           11,
           565
          ],
          [
           0,
           0,
           0,
           0,
           0,
           0,
           0,
           0,
           0,
           0,
           0,
           0,
           0,
           0,
           0,
           0,
           0,
           0,
           0,
           0,
           0,
           0,
           0,
           0,
           0,
           0,
           0,
           0,
           0,
           0,
           0,
           0,
           0,
           0,
           0,
           0,
           0,
           0,
           0,
           0,
           0,
           0,
           0,
           0,
           0,
           0,
           0,
           0,
           0,
           0,
           0,
           0,
           0,
           0,
           0,
           0,
           0,
           0,
           0,
           0,
           0,
           0,
           0,
           0,
           0,
           0,
           0,
           0
          ],
          [
           0,
           8,
           0,
           0,
           0,
           0,
           4,
           0,
           0,
           0,
           0,
           1,
           0,
           0,
           0,
           0,
           0,
           15,
           0,
           0,
           0,
           0,
           0,
           0,
           0,
           0,
           0,
           0,
           0,
           0,
           0,
           0,
           0,
           0,
           0,
           0,
           0,
           0,
           0,
           3,
           0,
           0,
           369,
           0,
           0,
           0,
           0,
           0,
           89,
           6,
           0,
           0,
           0,
           0,
           4,
           0,
           0,
           0,
           0,
           0,
           0,
           0,
           0,
           0,
           0,
           47,
           48,
           594
          ],
          [
           0,
           0,
           0,
           0,
           0,
           0,
           0,
           0,
           0,
           0,
           0,
           0,
           0,
           0,
           0,
           0,
           0,
           0,
           0,
           0,
           0,
           0,
           0,
           0,
           0,
           0,
           0,
           0,
           0,
           0,
           0,
           0,
           0,
           0,
           0,
           0,
           0,
           0,
           0,
           0,
           0,
           0,
           0,
           0,
           0,
           0,
           0,
           0,
           0,
           0,
           0,
           0,
           0,
           0,
           0,
           0,
           0,
           0,
           0,
           0,
           0,
           0,
           0,
           0,
           0,
           0,
           0,
           0
          ],
          [
           0,
           0,
           0,
           0,
           0,
           0,
           0,
           26,
           0,
           0,
           0,
           0,
           0,
           0,
           0,
           0,
           0,
           0,
           0,
           0,
           0,
           0,
           0,
           0,
           0,
           0,
           0,
           0,
           0,
           0,
           0,
           0,
           2,
           13,
           0,
           0,
           0,
           0,
           0,
           0,
           5,
           0,
           0,
           0,
           0,
           0,
           0,
           0,
           0,
           0,
           0,
           0,
           0,
           0,
           0,
           58,
           4,
           0,
           0,
           1,
           0,
           0,
           0,
           0,
           0,
           0,
           115,
           224
          ],
          [
           0,
           3,
           0,
           0,
           26,
           0,
           0,
           0,
           0,
           0,
           0,
           0,
           0,
           0,
           0,
           0,
           0,
           0,
           0,
           0,
           0,
           0,
           0,
           0,
           0,
           0,
           0,
           0,
           0,
           0,
           0,
           0,
           0,
           0,
           0,
           0,
           0,
           0,
           0,
           0,
           0,
           0,
           0,
           0,
           0,
           476,
           0,
           0,
           0,
           0,
           0,
           0,
           0,
           0,
           0,
           0,
           0,
           0,
           0,
           0,
           0,
           0,
           14,
           0,
           21,
           0,
           15,
           555
          ],
          [
           0,
           32,
           0,
           0,
           0,
           0,
           0,
           0,
           0,
           0,
           0,
           0,
           0,
           4,
           0,
           0,
           0,
           0,
           0,
           0,
           0,
           0,
           0,
           0,
           0,
           0,
           0,
           0,
           0,
           0,
           0,
           0,
           0,
           0,
           0,
           0,
           0,
           0,
           0,
           18,
           0,
           0,
           0,
           0,
           0,
           0,
           1085,
           0,
           568,
           0,
           0,
           0,
           0,
           0,
           140,
           0,
           0,
           0,
           0,
           0,
           0,
           0,
           0,
           0,
           0,
           0,
           44,
           1891
          ],
          [
           0,
           18,
           0,
           3,
           0,
           0,
           3,
           0,
           0,
           0,
           0,
           1,
           0,
           0,
           0,
           0,
           0,
           1,
           0,
           0,
           0,
           0,
           0,
           0,
           0,
           0,
           0,
           0,
           0,
           0,
           1,
           0,
           0,
           0,
           0,
           0,
           0,
           0,
           0,
           0,
           0,
           0,
           0,
           0,
           0,
           0,
           2,
           6,
           1079,
           12,
           0,
           0,
           0,
           0,
           39,
           0,
           0,
           0,
           0,
           2,
           0,
           0,
           0,
           0,
           0,
           19,
           5,
           1191
          ],
          [
           0,
           0,
           0,
           0,
           0,
           0,
           0,
           0,
           0,
           0,
           0,
           0,
           0,
           0,
           0,
           0,
           0,
           0,
           0,
           0,
           0,
           0,
           0,
           0,
           0,
           0,
           0,
           0,
           0,
           0,
           0,
           0,
           0,
           0,
           0,
           0,
           0,
           0,
           0,
           0,
           0,
           0,
           0,
           0,
           0,
           0,
           0,
           0,
           0,
           0,
           0,
           0,
           0,
           0,
           0,
           0,
           0,
           0,
           0,
           0,
           0,
           0,
           0,
           0,
           0,
           0,
           0,
           0
          ],
          [
           0,
           0,
           0,
           1,
           0,
           0,
           14,
           0,
           0,
           0,
           0,
           6,
           0,
           0,
           0,
           0,
           0,
           0,
           0,
           0,
           0,
           0,
           0,
           0,
           0,
           0,
           0,
           0,
           0,
           0,
           0,
           0,
           0,
           0,
           0,
           0,
           0,
           0,
           1,
           0,
           0,
           0,
           0,
           0,
           0,
           0,
           0,
           0,
           0,
           125,
           0,
           0,
           0,
           0,
           0,
           0,
           0,
           0,
           0,
           0,
           0,
           0,
           0,
           0,
           0,
           0,
           5,
           152
          ],
          [
           0,
           0,
           0,
           0,
           0,
           0,
           0,
           0,
           0,
           0,
           0,
           0,
           0,
           0,
           0,
           0,
           0,
           0,
           0,
           0,
           0,
           0,
           0,
           0,
           1,
           0,
           0,
           0,
           0,
           0,
           0,
           0,
           0,
           0,
           0,
           0,
           0,
           0,
           0,
           0,
           0,
           0,
           0,
           0,
           0,
           0,
           0,
           0,
           0,
           0,
           598,
           0,
           0,
           0,
           0,
           0,
           0,
           0,
           2,
           0,
           0,
           0,
           0,
           0,
           0,
           0,
           56,
           657
          ],
          [
           0,
           0,
           0,
           0,
           0,
           0,
           4,
           0,
           0,
           0,
           0,
           0,
           0,
           0,
           0,
           0,
           0,
           0,
           0,
           0,
           0,
           0,
           0,
           0,
           0,
           0,
           0,
           0,
           0,
           0,
           0,
           0,
           0,
           0,
           0,
           0,
           0,
           0,
           0,
           0,
           0,
           0,
           0,
           0,
           0,
           0,
           0,
           0,
           0,
           0,
           0,
           1036,
           0,
           0,
           0,
           0,
           0,
           4,
           0,
           0,
           0,
           0,
           0,
           0,
           0,
           2,
           1,
           1047
          ],
          [
           0,
           0,
           0,
           0,
           0,
           0,
           0,
           0,
           0,
           0,
           0,
           0,
           0,
           0,
           0,
           0,
           0,
           0,
           0,
           0,
           0,
           0,
           0,
           0,
           0,
           0,
           0,
           0,
           0,
           0,
           0,
           0,
           0,
           0,
           0,
           0,
           0,
           0,
           0,
           0,
           0,
           0,
           0,
           0,
           0,
           0,
           0,
           0,
           0,
           0,
           0,
           0,
           528,
           0,
           0,
           0,
           0,
           0,
           0,
           0,
           0,
           0,
           0,
           0,
           0,
           0,
           17,
           545
          ],
          [
           0,
           0,
           0,
           0,
           0,
           0,
           0,
           0,
           0,
           0,
           0,
           0,
           0,
           0,
           0,
           0,
           0,
           0,
           0,
           0,
           0,
           0,
           0,
           0,
           0,
           0,
           0,
           0,
           0,
           0,
           0,
           0,
           0,
           0,
           0,
           0,
           0,
           0,
           0,
           0,
           0,
           0,
           0,
           0,
           0,
           0,
           0,
           0,
           0,
           0,
           0,
           0,
           0,
           0,
           0,
           0,
           0,
           0,
           0,
           0,
           0,
           0,
           0,
           0,
           0,
           0,
           0,
           0
          ],
          [
           0,
           237,
           0,
           1,
           0,
           0,
           7,
           0,
           0,
           0,
           0,
           0,
           0,
           0,
           0,
           0,
           0,
           0,
           0,
           0,
           0,
           0,
           0,
           0,
           0,
           0,
           0,
           0,
           0,
           0,
           0,
           0,
           0,
           0,
           0,
           0,
           0,
           0,
           0,
           1,
           0,
           0,
           0,
           0,
           0,
           0,
           0,
           0,
           9,
           5,
           0,
           0,
           0,
           0,
           596,
           0,
           0,
           0,
           0,
           0,
           0,
           0,
           0,
           0,
           0,
           14,
           32,
           902
          ],
          [
           0,
           0,
           0,
           0,
           0,
           0,
           0,
           189,
           0,
           53,
           32,
           0,
           0,
           0,
           0,
           0,
           1,
           0,
           0,
           0,
           0,
           0,
           0,
           0,
           4,
           2,
           0,
           0,
           0,
           0,
           0,
           0,
           0,
           0,
           0,
           0,
           0,
           0,
           0,
           0,
           1,
           7,
           0,
           0,
           0,
           0,
           0,
           0,
           0,
           0,
           0,
           0,
           0,
           0,
           0,
           461,
           6,
           0,
           0,
           0,
           0,
           0,
           0,
           0,
           0,
           1,
           25,
           782
          ],
          [
           0,
           0,
           0,
           0,
           0,
           0,
           1,
           161,
           0,
           0,
           2,
           0,
           0,
           0,
           0,
           0,
           0,
           0,
           0,
           0,
           0,
           0,
           0,
           0,
           1,
           3,
           0,
           0,
           0,
           0,
           0,
           0,
           0,
           0,
           0,
           0,
           0,
           0,
           0,
           0,
           1,
           0,
           0,
           0,
           0,
           0,
           0,
           0,
           2,
           0,
           0,
           0,
           0,
           0,
           0,
           0,
           629,
           295,
           0,
           0,
           0,
           0,
           0,
           0,
           0,
           0,
           10,
           1105
          ],
          [
           0,
           0,
           0,
           0,
           0,
           0,
           0,
           0,
           0,
           0,
           0,
           0,
           0,
           0,
           0,
           0,
           0,
           0,
           0,
           0,
           0,
           0,
           0,
           0,
           0,
           0,
           0,
           0,
           0,
           0,
           0,
           0,
           0,
           0,
           0,
           0,
           0,
           0,
           0,
           0,
           0,
           0,
           0,
           0,
           0,
           0,
           0,
           0,
           0,
           0,
           0,
           0,
           0,
           0,
           0,
           0,
           0,
           0,
           0,
           0,
           0,
           0,
           0,
           0,
           0,
           0,
           0,
           0
          ],
          [
           0,
           0,
           0,
           0,
           0,
           0,
           0,
           0,
           0,
           0,
           0,
           0,
           0,
           0,
           0,
           0,
           0,
           0,
           0,
           0,
           0,
           0,
           0,
           0,
           0,
           0,
           0,
           0,
           0,
           0,
           0,
           0,
           0,
           0,
           0,
           0,
           0,
           0,
           0,
           0,
           0,
           0,
           0,
           0,
           0,
           0,
           0,
           0,
           0,
           0,
           0,
           0,
           0,
           0,
           0,
           0,
           0,
           0,
           0,
           0,
           0,
           0,
           0,
           0,
           0,
           0,
           0,
           0
          ],
          [
           0,
           0,
           0,
           1,
           0,
           0,
           0,
           0,
           0,
           0,
           0,
           0,
           0,
           0,
           0,
           0,
           0,
           0,
           0,
           0,
           0,
           0,
           0,
           0,
           0,
           0,
           0,
           0,
           0,
           0,
           0,
           0,
           0,
           0,
           0,
           0,
           0,
           0,
           0,
           0,
           0,
           0,
           0,
           0,
           0,
           0,
           0,
           0,
           0,
           1,
           0,
           0,
           0,
           0,
           0,
           0,
           0,
           0,
           0,
           843,
           0,
           0,
           0,
           0,
           0,
           0,
           5,
           850
          ],
          [
           0,
           0,
           0,
           0,
           0,
           0,
           0,
           0,
           0,
           0,
           0,
           0,
           0,
           0,
           0,
           0,
           0,
           0,
           0,
           0,
           0,
           0,
           0,
           0,
           0,
           0,
           0,
           0,
           0,
           0,
           0,
           0,
           0,
           0,
           0,
           0,
           0,
           0,
           0,
           0,
           0,
           0,
           0,
           0,
           0,
           0,
           0,
           0,
           0,
           0,
           0,
           0,
           0,
           0,
           0,
           0,
           0,
           0,
           0,
           0,
           545,
           0,
           0,
           0,
           0,
           0,
           5,
           550
          ],
          [
           0,
           0,
           0,
           0,
           0,
           0,
           0,
           0,
           0,
           0,
           0,
           0,
           8,
           0,
           0,
           0,
           0,
           0,
           0,
           0,
           0,
           0,
           0,
           0,
           0,
           0,
           0,
           0,
           0,
           0,
           0,
           0,
           0,
           0,
           0,
           0,
           0,
           0,
           0,
           0,
           0,
           0,
           0,
           0,
           0,
           0,
           0,
           0,
           1,
           0,
           0,
           0,
           0,
           0,
           0,
           0,
           0,
           0,
           0,
           0,
           0,
           6838,
           5,
           0,
           0,
           0,
           28,
           6880
          ],
          [
           0,
           0,
           0,
           0,
           0,
           0,
           0,
           2,
           0,
           0,
           0,
           0,
           0,
           0,
           0,
           0,
           0,
           0,
           1,
           14,
           0,
           2,
           0,
           0,
           21,
           0,
           0,
           0,
           0,
           0,
           0,
           0,
           0,
           0,
           0,
           0,
           0,
           0,
           0,
           0,
           6,
           0,
           0,
           0,
           0,
           0,
           0,
           0,
           0,
           1,
           0,
           0,
           0,
           0,
           0,
           0,
           0,
           0,
           0,
           0,
           0,
           0,
           935,
           0,
           0,
           1,
           10,
           993
          ],
          [
           0,
           19,
           0,
           0,
           0,
           0,
           0,
           0,
           0,
           0,
           0,
           0,
           0,
           0,
           0,
           0,
           0,
           0,
           0,
           0,
           0,
           0,
           0,
           0,
           0,
           0,
           0,
           0,
           0,
           0,
           0,
           0,
           0,
           0,
           0,
           0,
           0,
           0,
           0,
           0,
           0,
           0,
           0,
           0,
           0,
           0,
           0,
           0,
           0,
           0,
           0,
           0,
           0,
           0,
           1,
           0,
           0,
           0,
           0,
           0,
           0,
           0,
           1,
           124,
           16,
           0,
           4,
           165
          ],
          [
           0,
           0,
           0,
           0,
           1,
           0,
           1,
           1,
           0,
           0,
           0,
           0,
           0,
           0,
           0,
           0,
           0,
           1,
           0,
           1,
           0,
           0,
           0,
           0,
           0,
           0,
           0,
           0,
           0,
           0,
           0,
           0,
           0,
           0,
           0,
           0,
           1,
           0,
           0,
           0,
           0,
           0,
           0,
           0,
           0,
           0,
           0,
           0,
           0,
           28,
           0,
           0,
           0,
           0,
           0,
           0,
           1,
           0,
           0,
           0,
           0,
           0,
           2,
           0,
           139,
           0,
           8,
           184
          ],
          [
           0,
           4,
           0,
           0,
           0,
           0,
           114,
           0,
           0,
           0,
           0,
           2,
           0,
           0,
           0,
           0,
           0,
           0,
           0,
           0,
           0,
           0,
           0,
           0,
           0,
           0,
           0,
           0,
           0,
           0,
           0,
           0,
           0,
           0,
           0,
           0,
           0,
           0,
           0,
           0,
           0,
           0,
           0,
           0,
           0,
           0,
           0,
           0,
           2,
           30,
           0,
           0,
           0,
           0,
           3,
           0,
           0,
           1,
           0,
           3,
           0,
           0,
           0,
           0,
           0,
           802,
           9,
           970
          ],
          [
           54,
           5,
           0,
           7,
           3,
           2,
           4,
           54,
           0,
           11,
           1,
           3,
           8,
           1,
           5,
           0,
           2,
           25,
           10,
           0,
           0,
           6,
           1,
           0,
           38,
           8,
           5,
           0,
           3,
           2,
           1,
           0,
           36,
           31,
           17,
           38,
           9,
           1,
           0,
           3,
           20,
           5,
           0,
           1,
           0,
           2,
           2,
           0,
           0,
           2,
           23,
           11,
           16,
           0,
           2,
           11,
           28,
           12,
           4,
           36,
           1,
           4,
           6,
           0,
           1,
           5,
           199887,
           200473
          ],
          [
           1479,
           1632,
           0,
           279,
           111,
           403,
           666,
           1511,
           0,
           924,
           254,
           207,
           303,
           57,
           673,
           83,
           274,
           745,
           2892,
           16,
           0,
           788,
           282,
           0,
           2424,
           391,
           508,
           31,
           383,
           909,
           400,
           3359,
           384,
           118,
           1500,
           444,
           751,
           132,
           1172,
           348,
           853,
           203,
           369,
           1,
           0,
           571,
           1090,
           6,
           1806,
           368,
           645,
           1069,
           628,
           1,
           911,
           707,
           693,
           472,
           22,
           1006,
           547,
           6842,
           979,
           150,
           218,
           931,
           202402,
           250323
          ]
         ]
        }
       ],
       "layout": {
        "coloraxis": {
         "colorbar": {
          "title": {
           "text": "Count"
          }
         },
         "colorscale": [
          [
           0,
           "rgb(247,251,255)"
          ],
          [
           0.125,
           "rgb(222,235,247)"
          ],
          [
           0.25,
           "rgb(198,219,239)"
          ],
          [
           0.375,
           "rgb(158,202,225)"
          ],
          [
           0.5,
           "rgb(107,174,214)"
          ],
          [
           0.625,
           "rgb(66,146,198)"
          ],
          [
           0.75,
           "rgb(33,113,181)"
          ],
          [
           0.875,
           "rgb(8,81,156)"
          ],
          [
           1,
           "rgb(8,48,107)"
          ]
         ]
        },
        "height": 800,
        "template": {
         "data": {
          "bar": [
           {
            "error_x": {
             "color": "#2a3f5f"
            },
            "error_y": {
             "color": "#2a3f5f"
            },
            "marker": {
             "line": {
              "color": "#E5ECF6",
              "width": 0.5
             },
             "pattern": {
              "fillmode": "overlay",
              "size": 10,
              "solidity": 0.2
             }
            },
            "type": "bar"
           }
          ],
          "barpolar": [
           {
            "marker": {
             "line": {
              "color": "#E5ECF6",
              "width": 0.5
             },
             "pattern": {
              "fillmode": "overlay",
              "size": 10,
              "solidity": 0.2
             }
            },
            "type": "barpolar"
           }
          ],
          "carpet": [
           {
            "aaxis": {
             "endlinecolor": "#2a3f5f",
             "gridcolor": "white",
             "linecolor": "white",
             "minorgridcolor": "white",
             "startlinecolor": "#2a3f5f"
            },
            "baxis": {
             "endlinecolor": "#2a3f5f",
             "gridcolor": "white",
             "linecolor": "white",
             "minorgridcolor": "white",
             "startlinecolor": "#2a3f5f"
            },
            "type": "carpet"
           }
          ],
          "choropleth": [
           {
            "colorbar": {
             "outlinewidth": 0,
             "ticks": ""
            },
            "type": "choropleth"
           }
          ],
          "contour": [
           {
            "colorbar": {
             "outlinewidth": 0,
             "ticks": ""
            },
            "colorscale": [
             [
              0,
              "#0d0887"
             ],
             [
              0.1111111111111111,
              "#46039f"
             ],
             [
              0.2222222222222222,
              "#7201a8"
             ],
             [
              0.3333333333333333,
              "#9c179e"
             ],
             [
              0.4444444444444444,
              "#bd3786"
             ],
             [
              0.5555555555555556,
              "#d8576b"
             ],
             [
              0.6666666666666666,
              "#ed7953"
             ],
             [
              0.7777777777777778,
              "#fb9f3a"
             ],
             [
              0.8888888888888888,
              "#fdca26"
             ],
             [
              1,
              "#f0f921"
             ]
            ],
            "type": "contour"
           }
          ],
          "contourcarpet": [
           {
            "colorbar": {
             "outlinewidth": 0,
             "ticks": ""
            },
            "type": "contourcarpet"
           }
          ],
          "heatmap": [
           {
            "colorbar": {
             "outlinewidth": 0,
             "ticks": ""
            },
            "colorscale": [
             [
              0,
              "#0d0887"
             ],
             [
              0.1111111111111111,
              "#46039f"
             ],
             [
              0.2222222222222222,
              "#7201a8"
             ],
             [
              0.3333333333333333,
              "#9c179e"
             ],
             [
              0.4444444444444444,
              "#bd3786"
             ],
             [
              0.5555555555555556,
              "#d8576b"
             ],
             [
              0.6666666666666666,
              "#ed7953"
             ],
             [
              0.7777777777777778,
              "#fb9f3a"
             ],
             [
              0.8888888888888888,
              "#fdca26"
             ],
             [
              1,
              "#f0f921"
             ]
            ],
            "type": "heatmap"
           }
          ],
          "heatmapgl": [
           {
            "colorbar": {
             "outlinewidth": 0,
             "ticks": ""
            },
            "colorscale": [
             [
              0,
              "#0d0887"
             ],
             [
              0.1111111111111111,
              "#46039f"
             ],
             [
              0.2222222222222222,
              "#7201a8"
             ],
             [
              0.3333333333333333,
              "#9c179e"
             ],
             [
              0.4444444444444444,
              "#bd3786"
             ],
             [
              0.5555555555555556,
              "#d8576b"
             ],
             [
              0.6666666666666666,
              "#ed7953"
             ],
             [
              0.7777777777777778,
              "#fb9f3a"
             ],
             [
              0.8888888888888888,
              "#fdca26"
             ],
             [
              1,
              "#f0f921"
             ]
            ],
            "type": "heatmapgl"
           }
          ],
          "histogram": [
           {
            "marker": {
             "pattern": {
              "fillmode": "overlay",
              "size": 10,
              "solidity": 0.2
             }
            },
            "type": "histogram"
           }
          ],
          "histogram2d": [
           {
            "colorbar": {
             "outlinewidth": 0,
             "ticks": ""
            },
            "colorscale": [
             [
              0,
              "#0d0887"
             ],
             [
              0.1111111111111111,
              "#46039f"
             ],
             [
              0.2222222222222222,
              "#7201a8"
             ],
             [
              0.3333333333333333,
              "#9c179e"
             ],
             [
              0.4444444444444444,
              "#bd3786"
             ],
             [
              0.5555555555555556,
              "#d8576b"
             ],
             [
              0.6666666666666666,
              "#ed7953"
             ],
             [
              0.7777777777777778,
              "#fb9f3a"
             ],
             [
              0.8888888888888888,
              "#fdca26"
             ],
             [
              1,
              "#f0f921"
             ]
            ],
            "type": "histogram2d"
           }
          ],
          "histogram2dcontour": [
           {
            "colorbar": {
             "outlinewidth": 0,
             "ticks": ""
            },
            "colorscale": [
             [
              0,
              "#0d0887"
             ],
             [
              0.1111111111111111,
              "#46039f"
             ],
             [
              0.2222222222222222,
              "#7201a8"
             ],
             [
              0.3333333333333333,
              "#9c179e"
             ],
             [
              0.4444444444444444,
              "#bd3786"
             ],
             [
              0.5555555555555556,
              "#d8576b"
             ],
             [
              0.6666666666666666,
              "#ed7953"
             ],
             [
              0.7777777777777778,
              "#fb9f3a"
             ],
             [
              0.8888888888888888,
              "#fdca26"
             ],
             [
              1,
              "#f0f921"
             ]
            ],
            "type": "histogram2dcontour"
           }
          ],
          "mesh3d": [
           {
            "colorbar": {
             "outlinewidth": 0,
             "ticks": ""
            },
            "type": "mesh3d"
           }
          ],
          "parcoords": [
           {
            "line": {
             "colorbar": {
              "outlinewidth": 0,
              "ticks": ""
             }
            },
            "type": "parcoords"
           }
          ],
          "pie": [
           {
            "automargin": true,
            "type": "pie"
           }
          ],
          "scatter": [
           {
            "fillpattern": {
             "fillmode": "overlay",
             "size": 10,
             "solidity": 0.2
            },
            "type": "scatter"
           }
          ],
          "scatter3d": [
           {
            "line": {
             "colorbar": {
              "outlinewidth": 0,
              "ticks": ""
             }
            },
            "marker": {
             "colorbar": {
              "outlinewidth": 0,
              "ticks": ""
             }
            },
            "type": "scatter3d"
           }
          ],
          "scattercarpet": [
           {
            "marker": {
             "colorbar": {
              "outlinewidth": 0,
              "ticks": ""
             }
            },
            "type": "scattercarpet"
           }
          ],
          "scattergeo": [
           {
            "marker": {
             "colorbar": {
              "outlinewidth": 0,
              "ticks": ""
             }
            },
            "type": "scattergeo"
           }
          ],
          "scattergl": [
           {
            "marker": {
             "colorbar": {
              "outlinewidth": 0,
              "ticks": ""
             }
            },
            "type": "scattergl"
           }
          ],
          "scattermapbox": [
           {
            "marker": {
             "colorbar": {
              "outlinewidth": 0,
              "ticks": ""
             }
            },
            "type": "scattermapbox"
           }
          ],
          "scatterpolar": [
           {
            "marker": {
             "colorbar": {
              "outlinewidth": 0,
              "ticks": ""
             }
            },
            "type": "scatterpolar"
           }
          ],
          "scatterpolargl": [
           {
            "marker": {
             "colorbar": {
              "outlinewidth": 0,
              "ticks": ""
             }
            },
            "type": "scatterpolargl"
           }
          ],
          "scatterternary": [
           {
            "marker": {
             "colorbar": {
              "outlinewidth": 0,
              "ticks": ""
             }
            },
            "type": "scatterternary"
           }
          ],
          "surface": [
           {
            "colorbar": {
             "outlinewidth": 0,
             "ticks": ""
            },
            "colorscale": [
             [
              0,
              "#0d0887"
             ],
             [
              0.1111111111111111,
              "#46039f"
             ],
             [
              0.2222222222222222,
              "#7201a8"
             ],
             [
              0.3333333333333333,
              "#9c179e"
             ],
             [
              0.4444444444444444,
              "#bd3786"
             ],
             [
              0.5555555555555556,
              "#d8576b"
             ],
             [
              0.6666666666666666,
              "#ed7953"
             ],
             [
              0.7777777777777778,
              "#fb9f3a"
             ],
             [
              0.8888888888888888,
              "#fdca26"
             ],
             [
              1,
              "#f0f921"
             ]
            ],
            "type": "surface"
           }
          ],
          "table": [
           {
            "cells": {
             "fill": {
              "color": "#EBF0F8"
             },
             "line": {
              "color": "white"
             }
            },
            "header": {
             "fill": {
              "color": "#C8D4E3"
             },
             "line": {
              "color": "white"
             }
            },
            "type": "table"
           }
          ]
         },
         "layout": {
          "annotationdefaults": {
           "arrowcolor": "#2a3f5f",
           "arrowhead": 0,
           "arrowwidth": 1
          },
          "autotypenumbers": "strict",
          "coloraxis": {
           "colorbar": {
            "outlinewidth": 0,
            "ticks": ""
           }
          },
          "colorscale": {
           "diverging": [
            [
             0,
             "#8e0152"
            ],
            [
             0.1,
             "#c51b7d"
            ],
            [
             0.2,
             "#de77ae"
            ],
            [
             0.3,
             "#f1b6da"
            ],
            [
             0.4,
             "#fde0ef"
            ],
            [
             0.5,
             "#f7f7f7"
            ],
            [
             0.6,
             "#e6f5d0"
            ],
            [
             0.7,
             "#b8e186"
            ],
            [
             0.8,
             "#7fbc41"
            ],
            [
             0.9,
             "#4d9221"
            ],
            [
             1,
             "#276419"
            ]
           ],
           "sequential": [
            [
             0,
             "#0d0887"
            ],
            [
             0.1111111111111111,
             "#46039f"
            ],
            [
             0.2222222222222222,
             "#7201a8"
            ],
            [
             0.3333333333333333,
             "#9c179e"
            ],
            [
             0.4444444444444444,
             "#bd3786"
            ],
            [
             0.5555555555555556,
             "#d8576b"
            ],
            [
             0.6666666666666666,
             "#ed7953"
            ],
            [
             0.7777777777777778,
             "#fb9f3a"
            ],
            [
             0.8888888888888888,
             "#fdca26"
            ],
            [
             1,
             "#f0f921"
            ]
           ],
           "sequentialminus": [
            [
             0,
             "#0d0887"
            ],
            [
             0.1111111111111111,
             "#46039f"
            ],
            [
             0.2222222222222222,
             "#7201a8"
            ],
            [
             0.3333333333333333,
             "#9c179e"
            ],
            [
             0.4444444444444444,
             "#bd3786"
            ],
            [
             0.5555555555555556,
             "#d8576b"
            ],
            [
             0.6666666666666666,
             "#ed7953"
            ],
            [
             0.7777777777777778,
             "#fb9f3a"
            ],
            [
             0.8888888888888888,
             "#fdca26"
            ],
            [
             1,
             "#f0f921"
            ]
           ]
          },
          "colorway": [
           "#636efa",
           "#EF553B",
           "#00cc96",
           "#ab63fa",
           "#FFA15A",
           "#19d3f3",
           "#FF6692",
           "#B6E880",
           "#FF97FF",
           "#FECB52"
          ],
          "font": {
           "color": "#2a3f5f"
          },
          "geo": {
           "bgcolor": "white",
           "lakecolor": "white",
           "landcolor": "#E5ECF6",
           "showlakes": true,
           "showland": true,
           "subunitcolor": "white"
          },
          "hoverlabel": {
           "align": "left"
          },
          "hovermode": "closest",
          "mapbox": {
           "style": "light"
          },
          "paper_bgcolor": "white",
          "plot_bgcolor": "#E5ECF6",
          "polar": {
           "angularaxis": {
            "gridcolor": "white",
            "linecolor": "white",
            "ticks": ""
           },
           "bgcolor": "#E5ECF6",
           "radialaxis": {
            "gridcolor": "white",
            "linecolor": "white",
            "ticks": ""
           }
          },
          "scene": {
           "xaxis": {
            "backgroundcolor": "#E5ECF6",
            "gridcolor": "white",
            "gridwidth": 2,
            "linecolor": "white",
            "showbackground": true,
            "ticks": "",
            "zerolinecolor": "white"
           },
           "yaxis": {
            "backgroundcolor": "#E5ECF6",
            "gridcolor": "white",
            "gridwidth": 2,
            "linecolor": "white",
            "showbackground": true,
            "ticks": "",
            "zerolinecolor": "white"
           },
           "zaxis": {
            "backgroundcolor": "#E5ECF6",
            "gridcolor": "white",
            "gridwidth": 2,
            "linecolor": "white",
            "showbackground": true,
            "ticks": "",
            "zerolinecolor": "white"
           }
          },
          "shapedefaults": {
           "line": {
            "color": "#2a3f5f"
           }
          },
          "ternary": {
           "aaxis": {
            "gridcolor": "white",
            "linecolor": "white",
            "ticks": ""
           },
           "baxis": {
            "gridcolor": "white",
            "linecolor": "white",
            "ticks": ""
           },
           "bgcolor": "#E5ECF6",
           "caxis": {
            "gridcolor": "white",
            "linecolor": "white",
            "ticks": ""
           }
          },
          "title": {
           "x": 0.05
          },
          "xaxis": {
           "automargin": true,
           "gridcolor": "white",
           "linecolor": "white",
           "ticks": "",
           "title": {
            "standoff": 15
           },
           "zerolinecolor": "white",
           "zerolinewidth": 2
          },
          "yaxis": {
           "automargin": true,
           "gridcolor": "white",
           "linecolor": "white",
           "ticks": "",
           "title": {
            "standoff": 15
           },
           "zerolinecolor": "white",
           "zerolinewidth": 2
          }
         }
        },
        "title": {
         "text": "Confusion Matrix"
        },
        "width": 800,
        "xaxis": {
         "anchor": "y",
         "constrain": "domain",
         "domain": [
          0,
          1
         ],
         "scaleanchor": "y",
         "side": "top",
         "tickangle": 90,
         "title": {
          "standoff": 10,
          "text": "Predicted"
         }
        },
        "yaxis": {
         "anchor": "x",
         "autorange": "reversed",
         "constrain": "domain",
         "domain": [
          0,
          1
         ],
         "title": {
          "text": "Actual"
         }
        }
       }
      }
     },
     "metadata": {},
     "output_type": "display_data"
    }
   ],
   "source": [
    "plotter.plot_confusion_matrix(entities=entities, confmatrix=confmatrix)"
   ]
  },
  {
   "cell_type": "code",
   "execution_count": null,
   "metadata": {},
   "outputs": [],
   "source": []
  },
  {
   "cell_type": "code",
   "execution_count": null,
   "metadata": {},
   "outputs": [],
   "source": []
  }
 ],
 "metadata": {
  "kernelspec": {
   "display_name": "presidio-evaluator-IFEnQHLa-py3.12",
   "language": "python",
   "name": "python3"
  },
  "language_info": {
   "codemirror_mode": {
    "name": "ipython",
    "version": 3
   },
   "file_extension": ".py",
   "mimetype": "text/x-python",
   "name": "python",
   "nbconvert_exporter": "python",
   "pygments_lexer": "ipython3",
   "version": "3.12.6"
  }
 },
 "nbformat": 4,
 "nbformat_minor": 2
}
