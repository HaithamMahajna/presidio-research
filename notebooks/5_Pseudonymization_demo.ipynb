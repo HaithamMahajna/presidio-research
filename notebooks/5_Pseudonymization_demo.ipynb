{
 "cells": [
  {
   "cell_type": "markdown",
   "metadata": {},
   "source": [
    "## PII data pseudonymization demo\n",
    "\n",
    "In this demo we call Presidio (through it's Python interface) and then replace the detected entities with fake ones, using the same techniques in the `PresidioDataGenerator` object.\n",
    "\n",
    "The `PresidioPerturb` class as a wrapper on top of `PresidioDataGenerator` which accepts a presidio analyzer response and creates fake sentences based on the original ones.\n"
   ]
  },
  {
   "cell_type": "code",
   "execution_count": 1,
   "metadata": {
    "pycharm": {
     "name": "#%%\n"
    }
   },
   "outputs": [],
   "source": [
    "# install presidio via pip if not yet installed\n",
    "\n",
    "#!pip install presidio-analyzer\n",
    "#!pip install presidio-anonymizer\n",
    "#!pip install presidio-evaluator\n",
    "\n",
    "# install trained model for pipeline\n",
    "\n",
    "#!python -m spacy download en_core_web_sm"
   ]
  },
  {
   "cell_type": "code",
   "execution_count": 2,
   "metadata": {
    "pycharm": {
     "name": "#%%\n"
    }
   },
   "outputs": [],
   "source": [
    "from presidio_analyzer import AnalyzerEngine\n",
    "from presidio_evaluator.data_generator import PresidioPseudonymization\n",
    "\n",
    "import pandas as pd"
   ]
  },
  {
   "cell_type": "code",
   "execution_count": 3,
   "metadata": {
    "pycharm": {
     "name": "#%%\n"
    }
   },
   "outputs": [],
   "source": [
    "# Instantiate Presidio Analyzer\n",
    "\n",
    "analyzer = AnalyzerEngine()"
   ]
  },
  {
   "cell_type": "code",
   "execution_count": 4,
   "metadata": {
    "pycharm": {
     "name": "#%%\n"
    }
   },
   "outputs": [],
   "source": [
    "pseudonymizer = PresidioPseudonymization()"
   ]
  },
  {
   "cell_type": "code",
   "execution_count": 5,
   "metadata": {
    "pycharm": {
     "name": "#%%\n"
    }
   },
   "outputs": [
    {
     "data": {
      "text/plain": [
       "[type: URL, start: 49, end: 69, score: 0.95,\n",
       " type: PERSON, start: 14, end: 24, score: 0.85]"
      ]
     },
     "execution_count": 5,
     "metadata": {},
     "output_type": "execute_result"
    }
   ],
   "source": [
    "original_text = \"Hi my name is Doug Funny and this is my website: https://www.dougf.io\"\n",
    "\n",
    "presidio_response = analyzer.analyze(original_text, language=\"en\")\n",
    "presidio_response"
   ]
  },
  {
   "cell_type": "code",
   "execution_count": 6,
   "metadata": {
    "pycharm": {
     "name": "#%%\n"
    }
   },
   "outputs": [
    {
     "data": {
      "text/plain": [
       "['Hi my name is Tammy Ryan and this is my website: https://www.cardenas.info/',\n",
       " 'Hi my name is Jessica Smith and this is my website: http://jones-hunt.info/',\n",
       " 'Hi my name is Michele Marsh and this is my website: https://guerrero.com/',\n",
       " 'Hi my name is Kathleen Miller and this is my website: https://lopez.com/',\n",
       " 'Hi my name is Paul Brown and this is my website: http://www.banks-evans.info/']"
      ]
     },
     "execution_count": 6,
     "metadata": {},
     "output_type": "execute_result"
    }
   ],
   "source": [
    "# Simple pseudonymization\n",
    "\n",
    "pseudonymizer.pseudonymize(\n",
    "    original_text=original_text, presidio_response=presidio_response, count=5\n",
    ")"
   ]
  },
  {
   "cell_type": "code",
   "execution_count": 7,
   "metadata": {
    "pycharm": {
     "name": "#%%\n"
    }
   },
   "outputs": [
    {
     "name": "stdout",
     "output_type": "stream",
     "text": [
      "Presidio' response: [type: LOCATION, start: 29, end: 36, score: 0.85]\n",
      "-------------\n",
      "Fake examples:\n",
      "\n",
      "Our son R2D2 used to work in Nigeria\n",
      "Our son R2D2 used to work in Guam\n",
      "Our son R2D2 used to work in Reunion\n",
      "Our son R2D2 used to work in Vanuatu\n",
      "Our son R2D2 used to work in Malaysia\n"
     ]
    }
   ],
   "source": [
    "# When Presidio fails to detect an entity, it will be available in the fake samples!\n",
    "\n",
    "text = \"Our son R2D2 used to work in Germany\"\n",
    "\n",
    "response = analyzer.analyze(text=text, language=\"en\")\n",
    "print(f\"Presidio' response: {response}\")\n",
    "\n",
    "\n",
    "fake_samples = pseudonymizer.pseudonymize(\n",
    "    original_text=text, presidio_response=response, count=5\n",
    ")\n",
    "print(f\"-------------\\nFake examples:\\n\")\n",
    "print(*fake_samples, sep=\"\\n\")"
   ]
  },
  {
   "cell_type": "code",
   "execution_count": null,
   "metadata": {},
   "outputs": [],
   "source": []
  }
 ],
 "metadata": {
  "kernelspec": {
   "display_name": "presidio-evaluator",
   "language": "python",
   "name": "presidio-evaluator"
  },
  "language_info": {
   "codemirror_mode": {
    "name": "ipython",
    "version": 3
   },
   "file_extension": ".py",
   "mimetype": "text/x-python",
   "name": "python",
   "nbconvert_exporter": "python",
   "pygments_lexer": "ipython3",
   "version": "3.9.18"
  }
 },
 "nbformat": 4,
 "nbformat_minor": 4
}
